{
  "nbformat": 4,
  "nbformat_minor": 0,
  "metadata": {
    "colab": {
      "name": "GoogleEarthEngineGrassGIS.ipynb",
      "provenance": [],
      "collapsed_sections": [],
      "include_colab_link": true
    },
    "kernelspec": {
      "name": "python3",
      "display_name": "Python 3"
    }
  },
  "cells": [
    {
      "cell_type": "markdown",
      "metadata": {
        "id": "view-in-github",
        "colab_type": "text"
      },
      "source": [
        "<a href=\"https://colab.research.google.com/github/cwhite911/GoogleEarthEngineGrassGIS_Demo/blob/master/GoogleEarthEngineGrassGIS.ipynb\" target=\"_parent\"><img src=\"https://colab.research.google.com/assets/colab-badge.svg\" alt=\"Open In Colab\"/></a>"
      ]
    },
    {
      "cell_type": "markdown",
      "metadata": {
        "id": "uTm63pEzWpgy",
        "colab_type": "text"
      },
      "source": [
        "# Google Earth Engine Demo\n",
        "https://developers.google.com/earth-engine/machine-learning"
      ]
    },
    {
      "cell_type": "code",
      "metadata": {
        "id": "G7ssegQ7YnQQ",
        "colab_type": "code",
        "outputId": "7504b303-c5d7-4bd0-d7fe-6f963fc51e46",
        "colab": {
          "base_uri": "https://localhost:8080/",
          "height": 615
        }
      },
      "source": [
        "#install google earth engine\n",
        "!pip install earthengine-api\n",
        "\n"
      ],
      "execution_count": 1,
      "outputs": [
        {
          "output_type": "stream",
          "text": [
            "Collecting earthengine-api\n",
            "\u001b[?25l  Downloading https://files.pythonhosted.org/packages/56/c2/d9365b63a1576ad45ff7956cb477d12f360ea7cb7afd277d749c40b1ccc3/earthengine-api-0.1.204.tar.gz (145kB)\n",
            "\r\u001b[K     |██▎                             | 10kB 15.8MB/s eta 0:00:01\r\u001b[K     |████▌                           | 20kB 6.8MB/s eta 0:00:01\r\u001b[K     |██████▊                         | 30kB 9.3MB/s eta 0:00:01\r\u001b[K     |█████████                       | 40kB 5.9MB/s eta 0:00:01\r\u001b[K     |███████████▎                    | 51kB 7.1MB/s eta 0:00:01\r\u001b[K     |█████████████▌                  | 61kB 8.3MB/s eta 0:00:01\r\u001b[K     |███████████████▉                | 71kB 9.4MB/s eta 0:00:01\r\u001b[K     |██████████████████              | 81kB 10.4MB/s eta 0:00:01\r\u001b[K     |████████████████████▎           | 92kB 11.5MB/s eta 0:00:01\r\u001b[K     |██████████████████████▋         | 102kB 9.5MB/s eta 0:00:01\r\u001b[K     |████████████████████████▉       | 112kB 9.5MB/s eta 0:00:01\r\u001b[K     |███████████████████████████     | 122kB 9.5MB/s eta 0:00:01\r\u001b[K     |█████████████████████████████▍  | 133kB 9.5MB/s eta 0:00:01\r\u001b[K     |███████████████████████████████▋| 143kB 9.5MB/s eta 0:00:01\r\u001b[K     |████████████████████████████████| 153kB 9.5MB/s \n",
            "\u001b[?25hRequirement already satisfied: future in /usr/local/lib/python3.6/dist-packages (from earthengine-api) (0.16.0)\n",
            "Requirement already satisfied: google-cloud-storage in /usr/local/lib/python3.6/dist-packages (from earthengine-api) (1.16.2)\n",
            "Requirement already satisfied: google-api-python-client in /usr/local/lib/python3.6/dist-packages (from earthengine-api) (1.7.11)\n",
            "Requirement already satisfied: google-auth>=1.4.1 in /usr/local/lib/python3.6/dist-packages (from earthengine-api) (1.4.2)\n",
            "Requirement already satisfied: google-auth-httplib2>=0.0.3 in /usr/local/lib/python3.6/dist-packages (from earthengine-api) (0.0.3)\n",
            "Requirement already satisfied: httplib2<1dev,>=0.9.2 in /usr/local/lib/python3.6/dist-packages (from earthengine-api) (0.11.3)\n",
            "Requirement already satisfied: six in /usr/local/lib/python3.6/dist-packages (from earthengine-api) (1.12.0)\n",
            "Requirement already satisfied: google-cloud-core<2.0dev,>=1.0.0 in /usr/local/lib/python3.6/dist-packages (from google-cloud-storage->earthengine-api) (1.0.3)\n",
            "Requirement already satisfied: google-resumable-media<0.5.0dev,>=0.3.1 in /usr/local/lib/python3.6/dist-packages (from google-cloud-storage->earthengine-api) (0.4.1)\n",
            "Requirement already satisfied: uritemplate<4dev,>=3.0.0 in /usr/local/lib/python3.6/dist-packages (from google-api-python-client->earthengine-api) (3.0.0)\n",
            "Requirement already satisfied: rsa>=3.1.4 in /usr/local/lib/python3.6/dist-packages (from google-auth>=1.4.1->earthengine-api) (4.0)\n",
            "Requirement already satisfied: cachetools>=2.0.0 in /usr/local/lib/python3.6/dist-packages (from google-auth>=1.4.1->earthengine-api) (3.1.1)\n",
            "Requirement already satisfied: pyasn1-modules>=0.2.1 in /usr/local/lib/python3.6/dist-packages (from google-auth>=1.4.1->earthengine-api) (0.2.7)\n",
            "Requirement already satisfied: google-api-core<2.0.0dev,>=1.14.0 in /usr/local/lib/python3.6/dist-packages (from google-cloud-core<2.0dev,>=1.0.0->google-cloud-storage->earthengine-api) (1.14.3)\n",
            "Requirement already satisfied: pyasn1>=0.1.3 in /usr/local/lib/python3.6/dist-packages (from rsa>=3.1.4->google-auth>=1.4.1->earthengine-api) (0.4.7)\n",
            "Requirement already satisfied: protobuf>=3.4.0 in /usr/local/lib/python3.6/dist-packages (from google-api-core<2.0.0dev,>=1.14.0->google-cloud-core<2.0dev,>=1.0.0->google-cloud-storage->earthengine-api) (3.10.0)\n",
            "Requirement already satisfied: googleapis-common-protos<2.0dev,>=1.6.0 in /usr/local/lib/python3.6/dist-packages (from google-api-core<2.0.0dev,>=1.14.0->google-cloud-core<2.0dev,>=1.0.0->google-cloud-storage->earthengine-api) (1.6.0)\n",
            "Requirement already satisfied: pytz in /usr/local/lib/python3.6/dist-packages (from google-api-core<2.0.0dev,>=1.14.0->google-cloud-core<2.0dev,>=1.0.0->google-cloud-storage->earthengine-api) (2018.9)\n",
            "Requirement already satisfied: requests<3.0.0dev,>=2.18.0 in /usr/local/lib/python3.6/dist-packages (from google-api-core<2.0.0dev,>=1.14.0->google-cloud-core<2.0dev,>=1.0.0->google-cloud-storage->earthengine-api) (2.21.0)\n",
            "Requirement already satisfied: setuptools>=34.0.0 in /usr/local/lib/python3.6/dist-packages (from google-api-core<2.0.0dev,>=1.14.0->google-cloud-core<2.0dev,>=1.0.0->google-cloud-storage->earthengine-api) (41.4.0)\n",
            "Requirement already satisfied: chardet<3.1.0,>=3.0.2 in /usr/local/lib/python3.6/dist-packages (from requests<3.0.0dev,>=2.18.0->google-api-core<2.0.0dev,>=1.14.0->google-cloud-core<2.0dev,>=1.0.0->google-cloud-storage->earthengine-api) (3.0.4)\n",
            "Requirement already satisfied: idna<2.9,>=2.5 in /usr/local/lib/python3.6/dist-packages (from requests<3.0.0dev,>=2.18.0->google-api-core<2.0.0dev,>=1.14.0->google-cloud-core<2.0dev,>=1.0.0->google-cloud-storage->earthengine-api) (2.8)\n",
            "Requirement already satisfied: certifi>=2017.4.17 in /usr/local/lib/python3.6/dist-packages (from requests<3.0.0dev,>=2.18.0->google-api-core<2.0.0dev,>=1.14.0->google-cloud-core<2.0dev,>=1.0.0->google-cloud-storage->earthengine-api) (2019.9.11)\n",
            "Requirement already satisfied: urllib3<1.25,>=1.21.1 in /usr/local/lib/python3.6/dist-packages (from requests<3.0.0dev,>=2.18.0->google-api-core<2.0.0dev,>=1.14.0->google-cloud-core<2.0dev,>=1.0.0->google-cloud-storage->earthengine-api) (1.24.3)\n",
            "Building wheels for collected packages: earthengine-api\n",
            "  Building wheel for earthengine-api (setup.py) ... \u001b[?25l\u001b[?25hdone\n",
            "  Created wheel for earthengine-api: filename=earthengine_api-0.1.204-cp36-none-any.whl size=175146 sha256=d87276f2d8954acac0315d68030d67e83be8acb65dabbf8134dc8afe89b4b863\n",
            "  Stored in directory: /root/.cache/pip/wheels/1c/84/12/072bd182af991b0f0b9c1599de80fa7b15179ba427106c5b17\n",
            "Successfully built earthengine-api\n",
            "Installing collected packages: earthengine-api\n",
            "Successfully installed earthengine-api-0.1.204\n"
          ],
          "name": "stdout"
        }
      ]
    },
    {
      "cell_type": "code",
      "metadata": {
        "id": "ER-50A5FYNJ9",
        "colab_type": "code",
        "outputId": "3128a094-3b39-441c-9396-5a0b8301532a",
        "colab": {
          "base_uri": "https://localhost:8080/",
          "height": 173
        }
      },
      "source": [
        "# Import the Earth Engine library.\n",
        "import ee\n",
        "\n",
        "# Trigger the authentication flow.\n",
        "ee.Authenticate()"
      ],
      "execution_count": 2,
      "outputs": [
        {
          "output_type": "stream",
          "text": [
            "To authorize access needed by Earth Engine, open the following URL in a web browser and follow the instructions. If the web browser does not start automatically, please manually browse the URL below.\n",
            "\n",
            "    https://accounts.google.com/o/oauth2/auth?client_id=517222506229-vsmmajv00ul0bs7p89v5m89qs8eb9359.apps.googleusercontent.com&scope=https%3A%2F%2Fwww.googleapis.com%2Fauth%2Fearthengine+https%3A%2F%2Fwww.googleapis.com%2Fauth%2Fdevstorage.full_control&redirect_uri=urn%3Aietf%3Awg%3Aoauth%3A2.0%3Aoob&response_type=code\n",
            "\n",
            "The authorization workflow will generate a code, which you should paste in the box below. \n",
            "Enter verification code: 4/sgH4tDor87Z-qCK3shs6uz92BU613X-cdqnIkGuB6nj2GOgX4vw4Xuw\n",
            "\n",
            "Successfully saved authorization token.\n"
          ],
          "name": "stdout"
        }
      ]
    },
    {
      "cell_type": "markdown",
      "metadata": {
        "id": "MjP3AESIW8Bu",
        "colab_type": "text"
      },
      "source": [
        "## Calculate elevation of Mt. Everest"
      ]
    },
    {
      "cell_type": "code",
      "metadata": {
        "id": "JI9uwacRYj2e",
        "colab_type": "code",
        "outputId": "a06fd4ce-ddca-47a1-edf0-dade434d8dcd",
        "colab": {
          "base_uri": "https://localhost:8080/",
          "height": 34
        }
      },
      "source": [
        "# Initialize the library.\n",
        "ee.Initialize()\n",
        "\n",
        "# Print the elevation of Mount Everest.\n",
        "dem = ee.Image('USGS/SRTMGL1_003')\n",
        "xy = ee.Geometry.Point([86.9250, 27.9881])\n",
        "elev = dem.sample(xy, 30).first().get('elevation').getInfo()\n",
        "print('Mount Everest elevation (m):', elev)"
      ],
      "execution_count": 3,
      "outputs": [
        {
          "output_type": "stream",
          "text": [
            "Mount Everest elevation (m): 8729\n"
          ],
          "name": "stdout"
        }
      ]
    },
    {
      "cell_type": "markdown",
      "metadata": {
        "id": "C1aIhGclXQ-x",
        "colab_type": "text"
      },
      "source": [
        "## Display Image from Google Earth Engine"
      ]
    },
    {
      "cell_type": "code",
      "metadata": {
        "id": "hhF6IlozYaFm",
        "colab_type": "code",
        "outputId": "153ded64-430d-426d-d32f-11ba50b04472",
        "colab": {
          "base_uri": "https://localhost:8080/",
          "height": 186
        }
      },
      "source": [
        "# Import libraries.\n",
        "import ee\n",
        "from IPython.display import Image\n",
        "\n",
        "# Initialize the Earth Engine library.\n",
        "ee.Initialize()\n",
        "\n",
        "# Display a thumbnail of a sample image asset.\n",
        "Image(url=ee.Image('USGS/SRTMGL1_003').getThumbUrl({'min': 0, 'max': 3000}))"
      ],
      "execution_count": 4,
      "outputs": [
        {
          "output_type": "execute_result",
          "data": {
            "text/html": [
              "<img src=\"https://earthengine.googleapis.com/api/thumb?thumbid=fc239d5e17aed2b4d38bc54c45bb1cb4&token=04e858f7c15e40fc70a47a4b9538689a\"/>"
            ],
            "text/plain": [
              "<IPython.core.display.Image object>"
            ]
          },
          "metadata": {
            "tags": []
          },
          "execution_count": 4
        }
      ]
    },
    {
      "cell_type": "markdown",
      "metadata": {
        "id": "I98msNwXXXAb",
        "colab_type": "text"
      },
      "source": [
        "## Create Web Map from Google Earth Engine"
      ]
    },
    {
      "cell_type": "code",
      "metadata": {
        "id": "BJhDc41kYQw5",
        "colab_type": "code",
        "outputId": "c5519429-268f-44f0-a511-a79cadfbe185",
        "colab": {
          "base_uri": "https://localhost:8080/",
          "height": 889
        }
      },
      "source": [
        "# Import libraries.\n",
        "import ee\n",
        "import folium\n",
        "\n",
        "# Initialize the Earth Engine library.\n",
        "ee.Initialize()\n",
        "\n",
        "# Define a method for displaying Earth Engine image tiles to folium map.\n",
        "def add_ee_layer(self, eeImageObject, visParams, name):\n",
        "  mapID = ee.Image(eeImageObject).getMapId(visParams)\n",
        "  folium.raster_layers.TileLayer(\n",
        "    tiles = \"https://earthengine.googleapis.com/map/\"+mapID['mapid']+\n",
        "      \"/{z}/{x}/{y}?token=\"+mapID['token'],\n",
        "    attr = \"Map Data © Google Earth Engine\",\n",
        "    name = name,\n",
        "    overlay = True,\n",
        "    control = True\n",
        "  ).add_to(self)\n",
        "\n",
        "# Add EE drawing method to folium.\n",
        "folium.Map.add_ee_layer = add_ee_layer\n",
        "\n",
        "# Fetch an elevation model.\n",
        "dem = ee.Image('USGS/SRTMGL1_003')\n",
        "\n",
        "# Set visualization parameters.\n",
        "visParams = {'min':0, 'max':3000, 'palette':['225ea8','41b6c4','a1dab4','ffffcc']}\n",
        "\n",
        "# Create a folium map object.\n",
        "myMap = folium.Map(location=[20, 0], zoom_start=3, height=500)\n",
        "\n",
        "# Add the elevation model to the map object.\n",
        "myMap.add_ee_layer(dem, visParams, 'DEM')\n",
        "\n",
        "# Add a layer control panel to the map.\n",
        "myMap.add_child(folium.LayerControl())\n",
        "\n",
        "# Display the map.\n",
        "display(myMap)"
      ],
      "execution_count": 5,
      "outputs": [
        {
          "output_type": "display_data",
          "data": {
            "text/html": [
              "<div style=\"width:100%;\"><div style=\"position:relative;width:100%;height:0;padding-bottom:60%;\"><iframe src=\"data:text/html;charset=utf-8;base64,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\" style=\"position:absolute;width:100%;height:100%;left:0;top:0;border:none !important;\" allowfullscreen webkitallowfullscreen mozallowfullscreen></iframe></div></div>"
            ],
            "text/plain": [
              "<folium.folium.Map at 0x7f3bdcc70860>"
            ]
          },
          "metadata": {
            "tags": []
          }
        }
      ]
    },
    {
      "cell_type": "markdown",
      "metadata": {
        "id": "_9coaqSIBYf6",
        "colab_type": "text"
      },
      "source": [
        ""
      ]
    },
    {
      "cell_type": "markdown",
      "metadata": {
        "id": "Qsie-XK1XfoM",
        "colab_type": "text"
      },
      "source": [
        "## Plot Data from Google Earth Engine"
      ]
    },
    {
      "cell_type": "code",
      "metadata": {
        "id": "kibIwEWvX7SW",
        "colab_type": "code",
        "outputId": "f3afe69c-1fd4-4bca-fdc3-4c4408bb49c2",
        "colab": {
          "base_uri": "https://localhost:8080/",
          "height": 282
        }
      },
      "source": [
        "# Import libraries.\n",
        "import ee\n",
        "import matplotlib.pyplot as plt\n",
        "\n",
        "# Initialize the Earth Engine module.\n",
        "ee.Initialize()\n",
        "\n",
        "# Fetch a Landsat image.\n",
        "img = ee.Image('LANDSAT/LT05/C01/T1_SR/LT05_034033_20000913')\n",
        "\n",
        "# Select Red and NIR bands, scale them, and sample 500 points.\n",
        "sampFC = img.select(['B3','B4']).divide(10000).sample(scale=30, numPixels=500)\n",
        "\n",
        "# Arrange the sample as a list of lists.\n",
        "sampDict = sampFC.reduceColumns(ee.Reducer.toList().repeat(2), ['B3', 'B4'])\n",
        "sampList = ee.List(sampDict.get('list'))\n",
        "\n",
        "# Save server-side ee.List as a client-side Python list.\n",
        "sampData = sampList.getInfo()\n",
        "\n",
        "# Display a scatter plot of Red-NIR sample pairs using matplotlib.\n",
        "plt.scatter(sampData[0], sampData[1], alpha=0.2)\n",
        "plt.xlabel('Red', fontsize=12)\n",
        "plt.ylabel('NIR', fontsize=12)\n",
        "plt.show()"
      ],
      "execution_count": 6,
      "outputs": [
        {
          "output_type": "display_data",
          "data": {
            "image/png": "[encoded data removed]",
            "text/plain": [
              "<Figure size 432x288 with 1 Axes>"
            ]
          },
          "metadata": {
            "tags": []
          }
        }
      ]
    },
    {
      "cell_type": "markdown",
      "metadata": {
        "id": "qRQ2L5X1XlkF",
        "colab_type": "text"
      },
      "source": [
        "# Install GRASS GIS"
      ]
    },
    {
      "cell_type": "code",
      "metadata": {
        "id": "vxtHPX7fYRYH",
        "colab_type": "code",
        "colab": {
          "base_uri": "https://localhost:8080/",
          "height": 1000
        },
        "outputId": "c6360d52-4eb5-4268-b02f-c0d26811035d"
      },
      "source": [
        "#https://launchpad.net/~ubuntugis/+archive/ubuntu/ubuntugis-unstable\n",
        "!add-apt-repository ppa:ubuntugis/ubuntugis-unstable\n",
        "\n",
        "#update packages\n",
        "!apt-get update\n",
        "\n",
        "#install grass\n",
        "!apt-get install grass -y"
      ],
      "execution_count": 7,
      "outputs": [
        {
          "output_type": "stream",
          "text": [
            " Unstable releases of Ubuntu GIS packages. These releases are more bleeding edge and while generally they should work well, they dont receive the same amount of quality assurance as our stable releases do.\n",
            " More info: https://launchpad.net/~ubuntugis/+archive/ubuntu/ubuntugis-unstable\n",
            "Press [ENTER] to continue or Ctrl-c to cancel adding it.\n",
            "\n",
            "Hit:1 http://archive.ubuntu.com/ubuntu bionic InRelease\n",
            "Get:2 http://archive.ubuntu.com/ubuntu bionic-updates InRelease [88.7 kB]\n",
            "Hit:3 http://ppa.launchpad.net/graphics-drivers/ppa/ubuntu bionic InRelease\n",
            "Get:4 http://ppa.launchpad.net/marutter/c2d4u3.5/ubuntu bionic InRelease [15.4 kB]\n",
            "Get:5 https://cloud.r-project.org/bin/linux/ubuntu bionic-cran35/ InRelease [3,626 B]\n",
            "Get:6 http://ppa.launchpad.net/ubuntugis/ubuntugis-unstable/ubuntu bionic InRelease [20.8 kB]\n",
            "Get:7 http://archive.ubuntu.com/ubuntu bionic-backports InRelease [74.6 kB]\n",
            "Get:8 http://security.ubuntu.com/ubuntu bionic-security InRelease [88.7 kB]\n",
            "Ign:9 https://developer.download.nvidia.com/compute/cuda/repos/ubuntu1804/x86_64  InRelease\n",
            "Ign:10 https://developer.download.nvidia.com/compute/machine-learning/repos/ubuntu1804/x86_64  InRelease\n",
            "Hit:11 https://developer.download.nvidia.com/compute/cuda/repos/ubuntu1804/x86_64  Release\n",
            "Hit:12 https://developer.download.nvidia.com/compute/machine-learning/repos/ubuntu1804/x86_64  Release\n",
            "Get:13 http://ppa.launchpad.net/marutter/c2d4u3.5/ubuntu bionic/main Sources [1,718 kB]\n",
            "Get:14 http://ppa.launchpad.net/marutter/c2d4u3.5/ubuntu bionic/main amd64 Packages [827 kB]\n",
            "Get:15 https://cloud.r-project.org/bin/linux/ubuntu bionic-cran35/ Packages [73.5 kB]\n",
            "Get:16 http://archive.ubuntu.com/ubuntu bionic-updates/universe amd64 Packages [1,302 kB]\n",
            "Get:17 http://archive.ubuntu.com/ubuntu bionic-updates/main amd64 Packages [994 kB]\n",
            "Get:18 http://ppa.launchpad.net/ubuntugis/ubuntugis-unstable/ubuntu bionic/main amd64 Packages [73.5 kB]\n",
            "Get:21 http://security.ubuntu.com/ubuntu bionic-security/main amd64 Packages [697 kB]\n",
            "Get:22 http://security.ubuntu.com/ubuntu bionic-security/universe amd64 Packages [782 kB]\n",
            "Fetched 6,760 kB in 4s (1,622 kB/s)\n",
            "Reading package lists... Done\n",
            "Hit:1 http://archive.ubuntu.com/ubuntu bionic InRelease\n",
            "Hit:2 http://ppa.launchpad.net/graphics-drivers/ppa/ubuntu bionic InRelease\n",
            "Hit:3 http://archive.ubuntu.com/ubuntu bionic-updates InRelease\n",
            "Hit:4 https://cloud.r-project.org/bin/linux/ubuntu bionic-cran35/ InRelease\n",
            "Hit:5 http://ppa.launchpad.net/marutter/c2d4u3.5/ubuntu bionic InRelease\n",
            "Hit:6 http://archive.ubuntu.com/ubuntu bionic-backports InRelease\n",
            "Hit:7 http://ppa.launchpad.net/ubuntugis/ubuntugis-unstable/ubuntu bionic InRelease\n",
            "Hit:8 http://security.ubuntu.com/ubuntu bionic-security InRelease\n",
            "Ign:9 https://developer.download.nvidia.com/compute/cuda/repos/ubuntu1804/x86_64  InRelease\n",
            "Ign:10 https://developer.download.nvidia.com/compute/machine-learning/repos/ubuntu1804/x86_64  InRelease\n",
            "Hit:11 https://developer.download.nvidia.com/compute/cuda/repos/ubuntu1804/x86_64  Release\n",
            "Hit:12 https://developer.download.nvidia.com/compute/machine-learning/repos/ubuntu1804/x86_64  Release\n",
            "Reading package lists... Done\n",
            "Reading package lists... Done\n",
            "Building dependency tree       \n",
            "Reading state information... Done\n",
            "The following packages were automatically installed and are no longer required:\n",
            "  libarmadillo8 libarpack2 libsuperlu5\n",
            "Use 'apt autoremove' to remove them.\n",
            "The following additional packages will be installed:\n",
            "  fonts-droid-fallback fonts-lyx fonts-noto-mono gdal-bin gdal-data\n",
            "  ghostscript grass-core grass-doc grass-gui gsfonts javascript-common\n",
            "  libcupsfilters1 libcupsimage2 libgdal20 libgs9 libgs9-common libijs-0.35\n",
            "  libjbig2dec0 libjs-jquery-ui libnotify4 libogdi4.1 libopencv-calib3d-dev\n",
            "  libopencv-calib3d3.2 libopencv-contrib-dev libopencv-contrib3.2\n",
            "  libopencv-core-dev libopencv-core3.2 libopencv-dev libopencv-features2d-dev\n",
            "  libopencv-features2d3.2 libopencv-flann-dev libopencv-flann3.2\n",
            "  libopencv-highgui-dev libopencv-highgui3.2 libopencv-imgcodecs-dev\n",
            "  libopencv-imgcodecs3.2 libopencv-imgproc-dev libopencv-imgproc3.2\n",
            "  libopencv-ml-dev libopencv-ml3.2 libopencv-objdetect-dev\n",
            "  libopencv-objdetect3.2 libopencv-photo-dev libopencv-photo3.2\n",
            "  libopencv-shape-dev libopencv-shape3.2 libopencv-stitching-dev\n",
            "  libopencv-stitching3.2 libopencv-superres-dev libopencv-superres3.2\n",
            "  libopencv-ts-dev libopencv-video-dev libopencv-video3.2\n",
            "  libopencv-videoio-dev libopencv-videoio3.2 libopencv-videostab-dev\n",
            "  libopencv-videostab3.2 libopencv-viz-dev libopencv-viz3.2 libopencv3.2-java\n",
            "  libopencv3.2-jni libpdal-base7 libpdal-plugin-faux libpdal-plugin-greyhound\n",
            "  libpdal-plugin-icebridge libpdal-plugin-pgpointcloud libpdal-plugin-python\n",
            "  libpdal-plugin-sqlite libpdal-plugins libpdal-util7 libproj13\n",
            "  libsqlite3-mod-spatialite libutempter0 libvtk6.3 libwxbase3.0-0v5\n",
            "  libwxgtk3.0-gtk3-0v5 libxxf86dga1 notification-daemon poppler-data proj-bin\n",
            "  python-gdal python-matplotlib-data python3-cycler python3-dateutil\n",
            "  python3-gdal python3-matplotlib python3-olefile python3-opengl python3-pil\n",
            "  python3-pyparsing python3-sip python3-six python3-tz python3-wxgtk4.0\n",
            "  ttf-bitstream-vera x11-utils xbitmaps xterm\n",
            "Suggested packages:\n",
            "  fonts-noto libgdal-grass ghostscript-x grass-dev e00compr avce00 gnuplot\n",
            "  gpsbabel gpstrans netpbm python3-rpy2 python3-termcolor grass-dev-doc\n",
            "  apache2 | lighttpd | httpd libjs-jquery-ui-docs ogdi-bin opencv-doc vtk6-doc\n",
            "  vtk6-examples poppler-utils fonts-japanese-mincho | fonts-ipafont-mincho\n",
            "  fonts-japanese-gothic | fonts-ipafont-gothic fonts-arphic-ukai\n",
            "  fonts-arphic-uming fonts-nanum python-cycler-doc dvipng gir1.2-gtk-3.0\n",
            "  inkscape ipython3 python-matplotlib-doc python3-cairocffi python3-gi-cairo\n",
            "  python3-gobject python3-nose python3-pyqt4 python3-scipy python3-tornado\n",
            "  texlive-extra-utils texlive-latex-extra ttf-staypuft libgle3 python-pil-doc\n",
            "  python3-pil-dbg python-pyparsing-doc wx3.0-doc mesa-utils xfonts-cyrillic\n",
            "Recommended packages:\n",
            "  opencv-data\n",
            "The following packages will be REMOVED:\n",
            "  libogdi3.2\n",
            "The following NEW packages will be installed:\n",
            "  fonts-droid-fallback fonts-lyx fonts-noto-mono ghostscript grass grass-core\n",
            "  grass-doc grass-gui gsfonts javascript-common libcupsfilters1 libcupsimage2\n",
            "  libgs9 libgs9-common libijs-0.35 libjbig2dec0 libjs-jquery-ui libnotify4\n",
            "  libogdi4.1 libpdal-base7 libpdal-plugin-faux libpdal-plugin-greyhound\n",
            "  libpdal-plugin-icebridge libpdal-plugin-pgpointcloud libpdal-plugin-python\n",
            "  libpdal-plugin-sqlite libpdal-plugins libpdal-util7 libproj13\n",
            "  libsqlite3-mod-spatialite libutempter0 libwxbase3.0-0v5 libwxgtk3.0-gtk3-0v5\n",
            "  libxxf86dga1 notification-daemon poppler-data proj-bin\n",
            "  python-matplotlib-data python3-cycler python3-dateutil python3-matplotlib\n",
            "  python3-olefile python3-opengl python3-pil python3-pyparsing python3-sip\n",
            "  python3-six python3-tz python3-wxgtk4.0 ttf-bitstream-vera x11-utils\n",
            "  xbitmaps xterm\n",
            "The following packages will be upgraded:\n",
            "  gdal-bin gdal-data libgdal20 libopencv-calib3d-dev libopencv-calib3d3.2\n",
            "  libopencv-contrib-dev libopencv-contrib3.2 libopencv-core-dev\n",
            "  libopencv-core3.2 libopencv-dev libopencv-features2d-dev\n",
            "  libopencv-features2d3.2 libopencv-flann-dev libopencv-flann3.2\n",
            "  libopencv-highgui-dev libopencv-highgui3.2 libopencv-imgcodecs-dev\n",
            "  libopencv-imgcodecs3.2 libopencv-imgproc-dev libopencv-imgproc3.2\n",
            "  libopencv-ml-dev libopencv-ml3.2 libopencv-objdetect-dev\n",
            "  libopencv-objdetect3.2 libopencv-photo-dev libopencv-photo3.2\n",
            "  libopencv-shape-dev libopencv-shape3.2 libopencv-stitching-dev\n",
            "  libopencv-stitching3.2 libopencv-superres-dev libopencv-superres3.2\n",
            "  libopencv-ts-dev libopencv-video-dev libopencv-video3.2\n",
            "  libopencv-videoio-dev libopencv-videoio3.2 libopencv-videostab-dev\n",
            "  libopencv-videostab3.2 libopencv-viz-dev libopencv-viz3.2 libopencv3.2-java\n",
            "  libopencv3.2-jni libvtk6.3 python-gdal python3-gdal\n",
            "46 upgraded, 53 newly installed, 1 to remove and 37 not upgraded.\n",
            "Need to get 134 MB of archives.\n",
            "After this operation, 246 MB of additional disk space will be used.\n",
            "Get:1 http://archive.ubuntu.com/ubuntu bionic/main amd64 fonts-droid-fallback all 1:6.0.1r16-1.1 [1,805 kB]\n",
            "Get:2 http://ppa.launchpad.net/ubuntugis/ubuntugis-unstable/ubuntu bionic/main amd64 libopencv-dev amd64 3.2.0+dfsg-4ubuntu0.1+bionic2 [236 kB]\n",
            "Get:3 http://archive.ubuntu.com/ubuntu bionic/main amd64 libxxf86dga1 amd64 2:1.1.4-1 [13.7 kB]\n",
            "Get:4 http://archive.ubuntu.com/ubuntu bionic/main amd64 poppler-data all 0.4.8-2 [1,479 kB]\n",
            "Get:5 http://archive.ubuntu.com/ubuntu bionic-updates/universe amd64 fonts-lyx all 2.2.4-0ubuntu0.18.04.1 [155 kB]\n",
            "Get:6 http://archive.ubuntu.com/ubuntu bionic/main amd64 fonts-noto-mono all 20171026-2 [75.5 kB]\n",
            "Get:7 http://archive.ubuntu.com/ubuntu bionic-updates/main amd64 libcupsimage2 amd64 2.2.7-1ubuntu2.7 [18.6 kB]\n",
            "Get:8 http://ppa.launchpad.net/ubuntugis/ubuntugis-unstable/ubuntu bionic/main amd64 libopencv-ts-dev amd64 3.2.0+dfsg-4ubuntu0.1+bionic2 [279 kB]\n",
            "Get:9 http://archive.ubuntu.com/ubuntu bionic/main amd64 libijs-0.35 amd64 0.35-13 [15.5 kB]\n",
            "Get:10 http://archive.ubuntu.com/ubuntu bionic/main amd64 libjbig2dec0 amd64 0.13-6 [55.9 kB]\n",
            "Get:11 http://archive.ubuntu.com/ubuntu bionic-updates/main amd64 libgs9-common all 9.26~dfsg+0-0ubuntu0.18.04.11 [5,092 kB]\n",
            "Get:12 http://archive.ubuntu.com/ubuntu bionic-updates/main amd64 libgs9 amd64 9.26~dfsg+0-0ubuntu0.18.04.11 [2,263 kB]\n",
            "Get:13 http://archive.ubuntu.com/ubuntu bionic-updates/main amd64 ghostscript amd64 9.26~dfsg+0-0ubuntu0.18.04.11 [51.0 kB]\n",
            "Get:14 http://archive.ubuntu.com/ubuntu bionic/universe amd64 python3-opengl all 3.1.0+dfsg-1 [497 kB]\n",
            "Get:15 http://archive.ubuntu.com/ubuntu bionic/universe amd64 python3-sip amd64 4.19.7+dfsg-1 [75.2 kB]\n",
            "Get:16 http://archive.ubuntu.com/ubuntu bionic/main amd64 python3-six all 1.11.0-2 [11.4 kB]\n",
            "Get:17 http://archive.ubuntu.com/ubuntu bionic/universe amd64 libwxbase3.0-0v5 amd64 3.0.4+dfsg-3 [954 kB]\n",
            "Get:18 http://archive.ubuntu.com/ubuntu bionic/main amd64 libnotify4 amd64 0.7.7-3 [17.3 kB]\n",
            "Get:19 http://archive.ubuntu.com/ubuntu bionic/universe amd64 libwxgtk3.0-gtk3-0v5 amd64 3.0.4+dfsg-3 [4,154 kB]\n",
            "Get:20 http://ppa.launchpad.net/ubuntugis/ubuntugis-unstable/ubuntu bionic/main amd64 libopencv-contrib-dev amd64 3.2.0+dfsg-4ubuntu0.1+bionic2 [1,878 kB]\n",
            "Get:21 http://archive.ubuntu.com/ubuntu bionic/universe amd64 python3-wxgtk4.0 amd64 4.0.1+dfsg-2 [6,439 kB]\n",
            "Get:22 http://archive.ubuntu.com/ubuntu bionic/main amd64 xbitmaps all 1.1.1-2 [28.1 kB]\n",
            "Get:23 http://archive.ubuntu.com/ubuntu bionic/main amd64 libutempter0 amd64 1.1.6-3 [7,898 B]\n",
            "Get:24 http://archive.ubuntu.com/ubuntu bionic/universe amd64 xterm amd64 330-1ubuntu2 [661 kB]\n",
            "Get:25 http://archive.ubuntu.com/ubuntu bionic/main amd64 gsfonts all 1:8.11+urwcyr1.0.7~pre44-4.4 [3,120 kB]\n",
            "Get:26 http://archive.ubuntu.com/ubuntu bionic/main amd64 javascript-common all 11 [6,066 B]\n",
            "Get:27 http://archive.ubuntu.com/ubuntu bionic-updates/main amd64 libcupsfilters1 amd64 1.20.2-0ubuntu3.1 [108 kB]\n",
            "Get:28 http://archive.ubuntu.com/ubuntu bionic/universe amd64 libjs-jquery-ui all 1.12.1+dfsg-5 [232 kB]\n",
            "Get:29 http://archive.ubuntu.com/ubuntu bionic/main amd64 notification-daemon amd64 3.20.0-3 [36.9 kB]\n",
            "Get:30 http://archive.ubuntu.com/ubuntu bionic/universe amd64 ttf-bitstream-vera all 1.10-8 [352 kB]\n",
            "Get:31 http://archive.ubuntu.com/ubuntu bionic/universe amd64 python-matplotlib-data all 2.1.1-2ubuntu3 [3,774 kB]\n",
            "Get:32 http://archive.ubuntu.com/ubuntu bionic/universe amd64 python3-cycler all 0.10.0-1 [7,622 B]\n",
            "Get:33 http://archive.ubuntu.com/ubuntu bionic/main amd64 python3-dateutil all 2.6.1-1 [52.3 kB]\n",
            "Get:34 http://archive.ubuntu.com/ubuntu bionic/main amd64 python3-pyparsing all 2.2.0+dfsg1-2 [52.2 kB]\n",
            "Get:35 http://archive.ubuntu.com/ubuntu bionic/main amd64 python3-tz all 2018.3-2 [25.1 kB]\n",
            "Get:36 http://archive.ubuntu.com/ubuntu bionic/universe amd64 python3-matplotlib amd64 2.1.1-2ubuntu3 [3,907 kB]\n",
            "Get:37 http://archive.ubuntu.com/ubuntu bionic/main amd64 python3-olefile all 0.45.1-1 [33.3 kB]\n",
            "Get:38 http://archive.ubuntu.com/ubuntu bionic/main amd64 python3-pil amd64 5.1.0-1 [328 kB]\n",
            "Get:39 http://archive.ubuntu.com/ubuntu bionic/main amd64 x11-utils amd64 7.7+3build1 [196 kB]\n",
            "Get:40 http://ppa.launchpad.net/ubuntugis/ubuntugis-unstable/ubuntu bionic/main amd64 libopencv-videostab-dev amd64 3.2.0+dfsg-4ubuntu0.1+bionic2 [135 kB]\n",
            "Get:41 http://ppa.launchpad.net/ubuntugis/ubuntugis-unstable/ubuntu bionic/main amd64 libopencv-stitching-dev amd64 3.2.0+dfsg-4ubuntu0.1+bionic2 [222 kB]\n",
            "Get:42 http://ppa.launchpad.net/ubuntugis/ubuntugis-unstable/ubuntu bionic/main amd64 libopencv-calib3d-dev amd64 3.2.0+dfsg-4ubuntu0.1+bionic2 [516 kB]\n",
            "Get:43 http://ppa.launchpad.net/ubuntugis/ubuntugis-unstable/ubuntu bionic/main amd64 libopencv-features2d-dev amd64 3.2.0+dfsg-4ubuntu0.1+bionic2 [294 kB]\n",
            "Get:44 http://ppa.launchpad.net/ubuntugis/ubuntugis-unstable/ubuntu bionic/main amd64 libopencv-flann-dev amd64 3.2.0+dfsg-4ubuntu0.1+bionic2 [176 kB]\n",
            "Get:45 http://ppa.launchpad.net/ubuntugis/ubuntugis-unstable/ubuntu bionic/main amd64 libopencv-contrib3.2 amd64 3.2.0+dfsg-4ubuntu0.1+bionic2 [1,464 kB]\n",
            "Get:46 http://ppa.launchpad.net/ubuntugis/ubuntugis-unstable/ubuntu bionic/main amd64 libopencv3.2-jni amd64 3.2.0+dfsg-4ubuntu0.1+bionic2 [201 kB]\n",
            "Get:47 http://ppa.launchpad.net/ubuntugis/ubuntugis-unstable/ubuntu bionic/main amd64 libopencv-videostab3.2 amd64 3.2.0+dfsg-4ubuntu0.1+bionic2 [111 kB]\n",
            "Get:48 http://ppa.launchpad.net/ubuntugis/ubuntugis-unstable/ubuntu bionic/main amd64 libopencv-stitching3.2 amd64 3.2.0+dfsg-4ubuntu0.1+bionic2 [179 kB]\n",
            "Get:49 http://ppa.launchpad.net/ubuntugis/ubuntugis-unstable/ubuntu bionic/main amd64 libopencv-calib3d3.2 amd64 3.2.0+dfsg-4ubuntu0.1+bionic2 [440 kB]\n",
            "Get:50 http://ppa.launchpad.net/ubuntugis/ubuntugis-unstable/ubuntu bionic/main amd64 libopencv-features2d3.2 amd64 3.2.0+dfsg-4ubuntu0.1+bionic2 [244 kB]\n",
            "Get:51 http://ppa.launchpad.net/ubuntugis/ubuntugis-unstable/ubuntu bionic/main amd64 libopencv-flann3.2 amd64 3.2.0+dfsg-4ubuntu0.1+bionic2 [105 kB]\n",
            "Get:52 http://ppa.launchpad.net/ubuntugis/ubuntugis-unstable/ubuntu bionic/main amd64 libopencv-objdetect-dev amd64 3.2.0+dfsg-4ubuntu0.1+bionic2 [175 kB]\n",
            "Get:53 http://ppa.launchpad.net/ubuntugis/ubuntugis-unstable/ubuntu bionic/main amd64 libopencv-objdetect3.2 amd64 3.2.0+dfsg-4ubuntu0.1+bionic2 [151 kB]\n",
            "Get:54 http://ppa.launchpad.net/ubuntugis/ubuntugis-unstable/ubuntu bionic/main amd64 libopencv-ml-dev amd64 3.2.0+dfsg-4ubuntu0.1+bionic2 [296 kB]\n",
            "Get:55 http://ppa.launchpad.net/ubuntugis/ubuntugis-unstable/ubuntu bionic/main amd64 libopencv-ml3.2 amd64 3.2.0+dfsg-4ubuntu0.1+bionic2 [236 kB]\n",
            "Get:56 http://ppa.launchpad.net/ubuntugis/ubuntugis-unstable/ubuntu bionic/main amd64 libopencv-superres-dev amd64 3.2.0+dfsg-4ubuntu0.1+bionic2 [65.7 kB]\n",
            "Get:57 http://ppa.launchpad.net/ubuntugis/ubuntugis-unstable/ubuntu bionic/main amd64 libopencv-highgui-dev amd64 3.2.0+dfsg-4ubuntu0.1+bionic2 [44.3 kB]\n",
            "Get:58 http://ppa.launchpad.net/ubuntugis/ubuntugis-unstable/ubuntu bionic/main amd64 libopencv-videoio-dev amd64 3.2.0+dfsg-4ubuntu0.1+bionic2 [124 kB]\n",
            "Get:59 http://ppa.launchpad.net/ubuntugis/ubuntugis-unstable/ubuntu bionic/main amd64 libopencv-imgcodecs-dev amd64 3.2.0+dfsg-4ubuntu0.1+bionic2 [132 kB]\n",
            "Get:60 http://ppa.launchpad.net/ubuntugis/ubuntugis-unstable/ubuntu bionic/main amd64 libopencv-superres3.2 amd64 3.2.0+dfsg-4ubuntu0.1+bionic2 [56.0 kB]\n",
            "Get:61 http://ppa.launchpad.net/ubuntugis/ubuntugis-unstable/ubuntu bionic/main amd64 libopencv-highgui3.2 amd64 3.2.0+dfsg-4ubuntu0.1+bionic2 [32.3 kB]\n",
            "Get:62 http://ppa.launchpad.net/ubuntugis/ubuntugis-unstable/ubuntu bionic/main amd64 libopencv-videoio3.2 amd64 3.2.0+dfsg-4ubuntu0.1+bionic2 [90.8 kB]\n",
            "Get:63 http://ppa.launchpad.net/ubuntugis/ubuntugis-unstable/ubuntu bionic/main amd64 libopencv-viz-dev amd64 3.2.0+dfsg-4ubuntu0.1+bionic2 [163 kB]\n",
            "Get:64 http://ppa.launchpad.net/ubuntugis/ubuntugis-unstable/ubuntu bionic/main amd64 libopencv-shape-dev amd64 3.2.0+dfsg-4ubuntu0.1+bionic2 [84.0 kB]\n",
            "Get:65 http://ppa.launchpad.net/ubuntugis/ubuntugis-unstable/ubuntu bionic/main amd64 libopencv-video-dev amd64 3.2.0+dfsg-4ubuntu0.1+bionic2 [162 kB]\n",
            "Get:66 http://ppa.launchpad.net/ubuntugis/ubuntugis-unstable/ubuntu bionic/main amd64 libopencv-photo-dev amd64 3.2.0+dfsg-4ubuntu0.1+bionic2 [238 kB]\n",
            "Get:67 http://ppa.launchpad.net/ubuntugis/ubuntugis-unstable/ubuntu bionic/main amd64 libopencv-imgproc-dev amd64 3.2.0+dfsg-4ubuntu0.1+bionic2 [1,024 kB]\n",
            "Get:68 http://ppa.launchpad.net/ubuntugis/ubuntugis-unstable/ubuntu bionic/main amd64 libopencv-core-dev amd64 3.2.0+dfsg-4ubuntu0.1+bionic2 [1,108 kB]\n",
            "Get:69 http://ppa.launchpad.net/ubuntugis/ubuntugis-unstable/ubuntu bionic/main amd64 libproj13 amd64 5.2.0-1~bionic0 [202 kB]\n",
            "Get:70 http://ppa.launchpad.net/ubuntugis/ubuntugis-unstable/ubuntu bionic/main amd64 libvtk6.3 amd64 6.3.0+dfsg2-2build4~bionic2 [31.4 MB]\n",
            "Get:71 http://ppa.launchpad.net/ubuntugis/ubuntugis-unstable/ubuntu bionic/main amd64 libopencv-viz3.2 amd64 3.2.0+dfsg-4ubuntu0.1+bionic2 [125 kB]\n",
            "Get:72 http://ppa.launchpad.net/ubuntugis/ubuntugis-unstable/ubuntu bionic/main amd64 libopencv-shape3.2 amd64 3.2.0+dfsg-4ubuntu0.1+bionic2 [69.7 kB]\n",
            "Get:73 http://ppa.launchpad.net/ubuntugis/ubuntugis-unstable/ubuntu bionic/main amd64 libopencv-video3.2 amd64 3.2.0+dfsg-4ubuntu0.1+bionic2 [136 kB]\n",
            "Get:74 http://ppa.launchpad.net/ubuntugis/ubuntugis-unstable/ubuntu bionic/main amd64 libopencv-photo3.2 amd64 3.2.0+dfsg-4ubuntu0.1+bionic2 [203 kB]\n",
            "Get:75 http://ppa.launchpad.net/ubuntugis/ubuntugis-unstable/ubuntu bionic/main amd64 libopencv-imgcodecs3.2 amd64 3.2.0+dfsg-4ubuntu0.1+bionic2 [95.8 kB]\n",
            "Get:76 http://ppa.launchpad.net/ubuntugis/ubuntugis-unstable/ubuntu bionic/main amd64 libopencv-imgproc3.2 amd64 3.2.0+dfsg-4ubuntu0.1+bionic2 [831 kB]\n",
            "Get:77 http://ppa.launchpad.net/ubuntugis/ubuntugis-unstable/ubuntu bionic/main amd64 libopencv-core3.2 amd64 3.2.0+dfsg-4ubuntu0.1+bionic2 [720 kB]\n",
            "Get:78 http://ppa.launchpad.net/ubuntugis/ubuntugis-unstable/ubuntu bionic/main amd64 libopencv3.2-java all 3.2.0+dfsg-4ubuntu0.1+bionic2 [401 kB]\n",
            "Get:79 http://ppa.launchpad.net/ubuntugis/ubuntugis-unstable/ubuntu bionic/main amd64 python3-gdal amd64 2.4.2+dfsg-1~bionic0 [596 kB]\n",
            "Get:80 http://ppa.launchpad.net/ubuntugis/ubuntugis-unstable/ubuntu bionic/main amd64 python-gdal amd64 2.4.2+dfsg-1~bionic0 [809 kB]\n",
            "Get:81 http://ppa.launchpad.net/ubuntugis/ubuntugis-unstable/ubuntu bionic/main amd64 gdal-bin amd64 2.4.2+dfsg-1~bionic0 [408 kB]\n",
            "Get:82 http://ppa.launchpad.net/ubuntugis/ubuntugis-unstable/ubuntu bionic/main amd64 gdal-data all 2.4.2+dfsg-1~bionic0 [749 kB]\n",
            "Get:83 http://ppa.launchpad.net/ubuntugis/ubuntugis-unstable/ubuntu bionic/main amd64 libgdal20 amd64 2.4.2+dfsg-1~bionic0 [6,031 kB]\n",
            "Get:84 http://ppa.launchpad.net/ubuntugis/ubuntugis-unstable/ubuntu bionic/main amd64 libogdi4.1 amd64 4.1.0+ds-1~bionic0 [199 kB]\n",
            "Get:85 http://ppa.launchpad.net/ubuntugis/ubuntugis-unstable/ubuntu bionic/main amd64 grass-doc all 7.8.0-1~bionic1 [32.5 MB]\n",
            "Get:86 http://ppa.launchpad.net/ubuntugis/ubuntugis-unstable/ubuntu bionic/main amd64 libpdal-util7 amd64 1.8.0+ds-1~bionic2 [71.5 kB]\n",
            "Get:87 http://ppa.launchpad.net/ubuntugis/ubuntugis-unstable/ubuntu bionic/main amd64 libpdal-base7 amd64 1.8.0+ds-1~bionic2 [1,415 kB]\n",
            "Get:88 http://ppa.launchpad.net/ubuntugis/ubuntugis-unstable/ubuntu bionic/main amd64 grass-core amd64 7.8.0-1~bionic1 [5,615 kB]\n",
            "Get:89 http://ppa.launchpad.net/ubuntugis/ubuntugis-unstable/ubuntu bionic/main amd64 grass-gui amd64 7.8.0-1~bionic1 [3,234 kB]\n",
            "Get:90 http://ppa.launchpad.net/ubuntugis/ubuntugis-unstable/ubuntu bionic/main amd64 grass all 7.8.0-1~bionic1 [24.7 kB]\n",
            "Get:91 http://ppa.launchpad.net/ubuntugis/ubuntugis-unstable/ubuntu bionic/main amd64 libpdal-plugin-faux amd64 1.8.0+ds-1~bionic2 [34.6 kB]\n",
            "Get:92 http://ppa.launchpad.net/ubuntugis/ubuntugis-unstable/ubuntu bionic/main amd64 libpdal-plugin-greyhound amd64 1.8.0+ds-1~bionic2 [139 kB]\n",
            "Get:93 http://ppa.launchpad.net/ubuntugis/ubuntugis-unstable/ubuntu bionic/main amd64 libpdal-plugin-icebridge amd64 1.8.0+ds-1~bionic2 [49.4 kB]\n",
            "Get:94 http://ppa.launchpad.net/ubuntugis/ubuntugis-unstable/ubuntu bionic/main amd64 libpdal-plugin-pgpointcloud amd64 1.8.0+ds-1~bionic2 [80.3 kB]\n",
            "Get:95 http://ppa.launchpad.net/ubuntugis/ubuntugis-unstable/ubuntu bionic/main amd64 libpdal-plugin-python amd64 1.8.0+ds-1~bionic2 [108 kB]\n",
            "Get:96 http://ppa.launchpad.net/ubuntugis/ubuntugis-unstable/ubuntu bionic/main amd64 libsqlite3-mod-spatialite amd64 4.3.0a-5build1+bionic1 [1,231 kB]\n",
            "Get:97 http://ppa.launchpad.net/ubuntugis/ubuntugis-unstable/ubuntu bionic/main amd64 libpdal-plugin-sqlite amd64 1.8.0+ds-1~bionic2 [91.4 kB]\n",
            "Get:98 http://ppa.launchpad.net/ubuntugis/ubuntugis-unstable/ubuntu bionic/main amd64 libpdal-plugins amd64 1.8.0+ds-1~bionic2 [20.5 kB]\n",
            "Get:99 http://ppa.launchpad.net/ubuntugis/ubuntugis-unstable/ubuntu bionic/main amd64 proj-bin amd64 5.2.0-1~bionic0 [84.1 kB]\n",
            "Fetched 134 MB in 2min 21s (952 kB/s)\n",
            "Extracting templates from packages: 100%\n",
            "(Reading database ... 132681 files and directories currently installed.)\n",
            "Preparing to unpack .../00-libopencv-dev_3.2.0+dfsg-4ubuntu0.1+bionic2_amd64.deb ...\n",
            "Unpacking libopencv-dev (3.2.0+dfsg-4ubuntu0.1+bionic2) over (3.2.0+dfsg-4ubuntu0.1) ...\n",
            "Preparing to unpack .../01-libopencv-ts-dev_3.2.0+dfsg-4ubuntu0.1+bionic2_amd64.deb ...\n",
            "Unpacking libopencv-ts-dev:amd64 (3.2.0+dfsg-4ubuntu0.1+bionic2) over (3.2.0+dfsg-4ubuntu0.1) ...\n",
            "Preparing to unpack .../02-libopencv-contrib-dev_3.2.0+dfsg-4ubuntu0.1+bionic2_amd64.deb ...\n",
            "Unpacking libopencv-contrib-dev:amd64 (3.2.0+dfsg-4ubuntu0.1+bionic2) over (3.2.0+dfsg-4ubuntu0.1) ...\n",
            "Preparing to unpack .../03-libopencv-videostab-dev_3.2.0+dfsg-4ubuntu0.1+bionic2_amd64.deb ...\n",
            "Unpacking libopencv-videostab-dev:amd64 (3.2.0+dfsg-4ubuntu0.1+bionic2) over (3.2.0+dfsg-4ubuntu0.1) ...\n",
            "Preparing to unpack .../04-libopencv-stitching-dev_3.2.0+dfsg-4ubuntu0.1+bionic2_amd64.deb ...\n",
            "Unpacking libopencv-stitching-dev:amd64 (3.2.0+dfsg-4ubuntu0.1+bionic2) over (3.2.0+dfsg-4ubuntu0.1) ...\n",
            "Preparing to unpack .../05-libopencv-calib3d-dev_3.2.0+dfsg-4ubuntu0.1+bionic2_amd64.deb ...\n",
            "Unpacking libopencv-calib3d-dev:amd64 (3.2.0+dfsg-4ubuntu0.1+bionic2) over (3.2.0+dfsg-4ubuntu0.1) ...\n",
            "Preparing to unpack .../06-libopencv-features2d-dev_3.2.0+dfsg-4ubuntu0.1+bionic2_amd64.deb ...\n",
            "Unpacking libopencv-features2d-dev:amd64 (3.2.0+dfsg-4ubuntu0.1+bionic2) over (3.2.0+dfsg-4ubuntu0.1) ...\n",
            "Preparing to unpack .../07-libopencv-flann-dev_3.2.0+dfsg-4ubuntu0.1+bionic2_amd64.deb ...\n",
            "Unpacking libopencv-flann-dev:amd64 (3.2.0+dfsg-4ubuntu0.1+bionic2) over (3.2.0+dfsg-4ubuntu0.1) ...\n",
            "Preparing to unpack .../08-libopencv-contrib3.2_3.2.0+dfsg-4ubuntu0.1+bionic2_amd64.deb ...\n",
            "Unpacking libopencv-contrib3.2:amd64 (3.2.0+dfsg-4ubuntu0.1+bionic2) over (3.2.0+dfsg-4ubuntu0.1) ...\n",
            "Preparing to unpack .../09-libopencv3.2-jni_3.2.0+dfsg-4ubuntu0.1+bionic2_amd64.deb ...\n",
            "Unpacking libopencv3.2-jni (3.2.0+dfsg-4ubuntu0.1+bionic2) over (3.2.0+dfsg-4ubuntu0.1) ...\n",
            "Preparing to unpack .../10-libopencv-videostab3.2_3.2.0+dfsg-4ubuntu0.1+bionic2_amd64.deb ...\n",
            "Unpacking libopencv-videostab3.2:amd64 (3.2.0+dfsg-4ubuntu0.1+bionic2) over (3.2.0+dfsg-4ubuntu0.1) ...\n",
            "Preparing to unpack .../11-libopencv-stitching3.2_3.2.0+dfsg-4ubuntu0.1+bionic2_amd64.deb ...\n",
            "Unpacking libopencv-stitching3.2:amd64 (3.2.0+dfsg-4ubuntu0.1+bionic2) over (3.2.0+dfsg-4ubuntu0.1) ...\n",
            "Preparing to unpack .../12-libopencv-calib3d3.2_3.2.0+dfsg-4ubuntu0.1+bionic2_amd64.deb ...\n",
            "Unpacking libopencv-calib3d3.2:amd64 (3.2.0+dfsg-4ubuntu0.1+bionic2) over (3.2.0+dfsg-4ubuntu0.1) ...\n",
            "Preparing to unpack .../13-libopencv-features2d3.2_3.2.0+dfsg-4ubuntu0.1+bionic2_amd64.deb ...\n",
            "Unpacking libopencv-features2d3.2:amd64 (3.2.0+dfsg-4ubuntu0.1+bionic2) over (3.2.0+dfsg-4ubuntu0.1) ...\n",
            "Preparing to unpack .../14-libopencv-flann3.2_3.2.0+dfsg-4ubuntu0.1+bionic2_amd64.deb ...\n",
            "Unpacking libopencv-flann3.2:amd64 (3.2.0+dfsg-4ubuntu0.1+bionic2) over (3.2.0+dfsg-4ubuntu0.1) ...\n",
            "Preparing to unpack .../15-libopencv-objdetect-dev_3.2.0+dfsg-4ubuntu0.1+bionic2_amd64.deb ...\n",
            "Unpacking libopencv-objdetect-dev:amd64 (3.2.0+dfsg-4ubuntu0.1+bionic2) over (3.2.0+dfsg-4ubuntu0.1) ...\n",
            "Preparing to unpack .../16-libopencv-objdetect3.2_3.2.0+dfsg-4ubuntu0.1+bionic2_amd64.deb ...\n",
            "Unpacking libopencv-objdetect3.2:amd64 (3.2.0+dfsg-4ubuntu0.1+bionic2) over (3.2.0+dfsg-4ubuntu0.1) ...\n",
            "Preparing to unpack .../17-libopencv-ml-dev_3.2.0+dfsg-4ubuntu0.1+bionic2_amd64.deb ...\n",
            "Unpacking libopencv-ml-dev:amd64 (3.2.0+dfsg-4ubuntu0.1+bionic2) over (3.2.0+dfsg-4ubuntu0.1) ...\n",
            "Preparing to unpack .../18-libopencv-ml3.2_3.2.0+dfsg-4ubuntu0.1+bionic2_amd64.deb ...\n",
            "Unpacking libopencv-ml3.2:amd64 (3.2.0+dfsg-4ubuntu0.1+bionic2) over (3.2.0+dfsg-4ubuntu0.1) ...\n",
            "Preparing to unpack .../19-libopencv-superres-dev_3.2.0+dfsg-4ubuntu0.1+bionic2_amd64.deb ...\n",
            "Unpacking libopencv-superres-dev:amd64 (3.2.0+dfsg-4ubuntu0.1+bionic2) over (3.2.0+dfsg-4ubuntu0.1) ...\n",
            "Preparing to unpack .../20-libopencv-highgui-dev_3.2.0+dfsg-4ubuntu0.1+bionic2_amd64.deb ...\n",
            "Unpacking libopencv-highgui-dev:amd64 (3.2.0+dfsg-4ubuntu0.1+bionic2) over (3.2.0+dfsg-4ubuntu0.1) ...\n",
            "Preparing to unpack .../21-libopencv-videoio-dev_3.2.0+dfsg-4ubuntu0.1+bionic2_amd64.deb ...\n",
            "Unpacking libopencv-videoio-dev:amd64 (3.2.0+dfsg-4ubuntu0.1+bionic2) over (3.2.0+dfsg-4ubuntu0.1) ...\n",
            "Preparing to unpack .../22-libopencv-imgcodecs-dev_3.2.0+dfsg-4ubuntu0.1+bionic2_amd64.deb ...\n",
            "Unpacking libopencv-imgcodecs-dev:amd64 (3.2.0+dfsg-4ubuntu0.1+bionic2) over (3.2.0+dfsg-4ubuntu0.1) ...\n",
            "Preparing to unpack .../23-libopencv-superres3.2_3.2.0+dfsg-4ubuntu0.1+bionic2_amd64.deb ...\n",
            "Unpacking libopencv-superres3.2:amd64 (3.2.0+dfsg-4ubuntu0.1+bionic2) over (3.2.0+dfsg-4ubuntu0.1) ...\n",
            "Preparing to unpack .../24-libopencv-highgui3.2_3.2.0+dfsg-4ubuntu0.1+bionic2_amd64.deb ...\n",
            "Unpacking libopencv-highgui3.2:amd64 (3.2.0+dfsg-4ubuntu0.1+bionic2) over (3.2.0+dfsg-4ubuntu0.1) ...\n",
            "Preparing to unpack .../25-libopencv-videoio3.2_3.2.0+dfsg-4ubuntu0.1+bionic2_amd64.deb ...\n",
            "Unpacking libopencv-videoio3.2:amd64 (3.2.0+dfsg-4ubuntu0.1+bionic2) over (3.2.0+dfsg-4ubuntu0.1) ...\n",
            "Preparing to unpack .../26-libopencv-viz-dev_3.2.0+dfsg-4ubuntu0.1+bionic2_amd64.deb ...\n",
            "Unpacking libopencv-viz-dev:amd64 (3.2.0+dfsg-4ubuntu0.1+bionic2) over (3.2.0+dfsg-4ubuntu0.1) ...\n",
            "Preparing to unpack .../27-libopencv-shape-dev_3.2.0+dfsg-4ubuntu0.1+bionic2_amd64.deb ...\n",
            "Unpacking libopencv-shape-dev:amd64 (3.2.0+dfsg-4ubuntu0.1+bionic2) over (3.2.0+dfsg-4ubuntu0.1) ...\n",
            "Preparing to unpack .../28-libopencv-video-dev_3.2.0+dfsg-4ubuntu0.1+bionic2_amd64.deb ...\n",
            "Unpacking libopencv-video-dev:amd64 (3.2.0+dfsg-4ubuntu0.1+bionic2) over (3.2.0+dfsg-4ubuntu0.1) ...\n",
            "Preparing to unpack .../29-libopencv-photo-dev_3.2.0+dfsg-4ubuntu0.1+bionic2_amd64.deb ...\n",
            "Unpacking libopencv-photo-dev:amd64 (3.2.0+dfsg-4ubuntu0.1+bionic2) over (3.2.0+dfsg-4ubuntu0.1) ...\n",
            "Preparing to unpack .../30-libopencv-imgproc-dev_3.2.0+dfsg-4ubuntu0.1+bionic2_amd64.deb ...\n",
            "Unpacking libopencv-imgproc-dev:amd64 (3.2.0+dfsg-4ubuntu0.1+bionic2) over (3.2.0+dfsg-4ubuntu0.1) ...\n",
            "Preparing to unpack .../31-libopencv-core-dev_3.2.0+dfsg-4ubuntu0.1+bionic2_amd64.deb ...\n",
            "Unpacking libopencv-core-dev:amd64 (3.2.0+dfsg-4ubuntu0.1+bionic2) over (3.2.0+dfsg-4ubuntu0.1) ...\n",
            "Selecting previously unselected package libproj13:amd64.\n",
            "Preparing to unpack .../32-libproj13_5.2.0-1~bionic0_amd64.deb ...\n",
            "Unpacking libproj13:amd64 (5.2.0-1~bionic0) ...\n",
            "Preparing to unpack .../33-libvtk6.3_6.3.0+dfsg2-2build4~bionic2_amd64.deb ...\n",
            "Unpacking libvtk6.3 (6.3.0+dfsg2-2build4~bionic2) over (6.3.0+dfsg1-11build1) ...\n",
            "Preparing to unpack .../34-libopencv-viz3.2_3.2.0+dfsg-4ubuntu0.1+bionic2_amd64.deb ...\n",
            "Unpacking libopencv-viz3.2:amd64 (3.2.0+dfsg-4ubuntu0.1+bionic2) over (3.2.0+dfsg-4ubuntu0.1) ...\n",
            "Preparing to unpack .../35-libopencv-shape3.2_3.2.0+dfsg-4ubuntu0.1+bionic2_amd64.deb ...\n",
            "Unpacking libopencv-shape3.2:amd64 (3.2.0+dfsg-4ubuntu0.1+bionic2) over (3.2.0+dfsg-4ubuntu0.1) ...\n",
            "Preparing to unpack .../36-libopencv-video3.2_3.2.0+dfsg-4ubuntu0.1+bionic2_amd64.deb ...\n",
            "Unpacking libopencv-video3.2:amd64 (3.2.0+dfsg-4ubuntu0.1+bionic2) over (3.2.0+dfsg-4ubuntu0.1) ...\n",
            "Preparing to unpack .../37-libopencv-photo3.2_3.2.0+dfsg-4ubuntu0.1+bionic2_amd64.deb ...\n",
            "Unpacking libopencv-photo3.2:amd64 (3.2.0+dfsg-4ubuntu0.1+bionic2) over (3.2.0+dfsg-4ubuntu0.1) ...\n",
            "Preparing to unpack .../38-libopencv-imgcodecs3.2_3.2.0+dfsg-4ubuntu0.1+bionic2_amd64.deb ...\n",
            "Unpacking libopencv-imgcodecs3.2:amd64 (3.2.0+dfsg-4ubuntu0.1+bionic2) over (3.2.0+dfsg-4ubuntu0.1) ...\n",
            "Preparing to unpack .../39-libopencv-imgproc3.2_3.2.0+dfsg-4ubuntu0.1+bionic2_amd64.deb ...\n",
            "Unpacking libopencv-imgproc3.2:amd64 (3.2.0+dfsg-4ubuntu0.1+bionic2) over (3.2.0+dfsg-4ubuntu0.1) ...\n",
            "Preparing to unpack .../40-libopencv-core3.2_3.2.0+dfsg-4ubuntu0.1+bionic2_amd64.deb ...\n",
            "Unpacking libopencv-core3.2:amd64 (3.2.0+dfsg-4ubuntu0.1+bionic2) over (3.2.0+dfsg-4ubuntu0.1) ...\n",
            "Preparing to unpack .../41-libopencv3.2-java_3.2.0+dfsg-4ubuntu0.1+bionic2_all.deb ...\n",
            "Unpacking libopencv3.2-java (3.2.0+dfsg-4ubuntu0.1+bionic2) over (3.2.0+dfsg-4ubuntu0.1) ...\n",
            "Preparing to unpack .../42-python3-gdal_2.4.2+dfsg-1~bionic0_amd64.deb ...\n",
            "Unpacking python3-gdal (2.4.2+dfsg-1~bionic0) over (2.2.3+dfsg-2) ...\n",
            "Preparing to unpack .../43-python-gdal_2.4.2+dfsg-1~bionic0_amd64.deb ...\n",
            "Unpacking python-gdal (2.4.2+dfsg-1~bionic0) over (2.2.3+dfsg-2) ...\n",
            "Preparing to unpack .../44-gdal-bin_2.4.2+dfsg-1~bionic0_amd64.deb ...\n",
            "Unpacking gdal-bin (2.4.2+dfsg-1~bionic0) over (2.2.3+dfsg-2) ...\n",
            "Preparing to unpack .../45-gdal-data_2.4.2+dfsg-1~bionic0_all.deb ...\n",
            "Unpacking gdal-data (2.4.2+dfsg-1~bionic0) over (2.2.3+dfsg-2) ...\n",
            "Preparing to unpack .../46-libgdal20_2.4.2+dfsg-1~bionic0_amd64.deb ...\n",
            "Unpacking libgdal20 (2.4.2+dfsg-1~bionic0) over (2.2.3+dfsg-2) ...\n",
            "(Reading database ... 132707 files and directories currently installed.)\n",
            "Removing libogdi3.2 (3.2.0+ds-2) ...\n",
            "Selecting previously unselected package libogdi4.1.\n",
            "(Reading database ... 132689 files and directories currently installed.)\n",
            "Preparing to unpack .../00-libogdi4.1_4.1.0+ds-1~bionic0_amd64.deb ...\n",
            "Unpacking libogdi4.1 (4.1.0+ds-1~bionic0) ...\n",
            "Selecting previously unselected package fonts-droid-fallback.\n",
            "Preparing to unpack .../01-fonts-droid-fallback_1%3a6.0.1r16-1.1_all.deb ...\n",
            "Unpacking fonts-droid-fallback (1:6.0.1r16-1.1) ...\n",
            "Selecting previously unselected package libxxf86dga1:amd64.\n",
            "Preparing to unpack .../02-libxxf86dga1_2%3a1.1.4-1_amd64.deb ...\n",
            "Unpacking libxxf86dga1:amd64 (2:1.1.4-1) ...\n",
            "Selecting previously unselected package poppler-data.\n",
            "Preparing to unpack .../03-poppler-data_0.4.8-2_all.deb ...\n",
            "Unpacking poppler-data (0.4.8-2) ...\n",
            "Selecting previously unselected package fonts-lyx.\n",
            "Preparing to unpack .../04-fonts-lyx_2.2.4-0ubuntu0.18.04.1_all.deb ...\n",
            "Unpacking fonts-lyx (2.2.4-0ubuntu0.18.04.1) ...\n",
            "Selecting previously unselected package fonts-noto-mono.\n",
            "Preparing to unpack .../05-fonts-noto-mono_20171026-2_all.deb ...\n",
            "Unpacking fonts-noto-mono (20171026-2) ...\n",
            "Selecting previously unselected package libcupsimage2:amd64.\n",
            "Preparing to unpack .../06-libcupsimage2_2.2.7-1ubuntu2.7_amd64.deb ...\n",
            "Unpacking libcupsimage2:amd64 (2.2.7-1ubuntu2.7) ...\n",
            "Selecting previously unselected package libijs-0.35:amd64.\n",
            "Preparing to unpack .../07-libijs-0.35_0.35-13_amd64.deb ...\n",
            "Unpacking libijs-0.35:amd64 (0.35-13) ...\n",
            "Selecting previously unselected package libjbig2dec0:amd64.\n",
            "Preparing to unpack .../08-libjbig2dec0_0.13-6_amd64.deb ...\n",
            "Unpacking libjbig2dec0:amd64 (0.13-6) ...\n",
            "Selecting previously unselected package libgs9-common.\n",
            "Preparing to unpack .../09-libgs9-common_9.26~dfsg+0-0ubuntu0.18.04.11_all.deb ...\n",
            "Unpacking libgs9-common (9.26~dfsg+0-0ubuntu0.18.04.11) ...\n",
            "Selecting previously unselected package libgs9:amd64.\n",
            "Preparing to unpack .../10-libgs9_9.26~dfsg+0-0ubuntu0.18.04.11_amd64.deb ...\n",
            "Unpacking libgs9:amd64 (9.26~dfsg+0-0ubuntu0.18.04.11) ...\n",
            "Selecting previously unselected package ghostscript.\n",
            "Preparing to unpack .../11-ghostscript_9.26~dfsg+0-0ubuntu0.18.04.11_amd64.deb ...\n",
            "Unpacking ghostscript (9.26~dfsg+0-0ubuntu0.18.04.11) ...\n",
            "Selecting previously unselected package grass-doc.\n",
            "Preparing to unpack .../12-grass-doc_7.8.0-1~bionic1_all.deb ...\n",
            "Unpacking grass-doc (7.8.0-1~bionic1) ...\n",
            "Selecting previously unselected package libpdal-util7.\n",
            "Preparing to unpack .../13-libpdal-util7_1.8.0+ds-1~bionic2_amd64.deb ...\n",
            "Unpacking libpdal-util7 (1.8.0+ds-1~bionic2) ...\n",
            "Selecting previously unselected package libpdal-base7.\n",
            "Preparing to unpack .../14-libpdal-base7_1.8.0+ds-1~bionic2_amd64.deb ...\n",
            "Unpacking libpdal-base7 (1.8.0+ds-1~bionic2) ...\n",
            "Selecting previously unselected package grass-core.\n",
            "Preparing to unpack .../15-grass-core_7.8.0-1~bionic1_amd64.deb ...\n",
            "Unpacking grass-core (7.8.0-1~bionic1) ...\n",
            "Selecting previously unselected package python3-opengl.\n",
            "Preparing to unpack .../16-python3-opengl_3.1.0+dfsg-1_all.deb ...\n",
            "Unpacking python3-opengl (3.1.0+dfsg-1) ...\n",
            "Selecting previously unselected package python3-sip.\n",
            "Preparing to unpack .../17-python3-sip_4.19.7+dfsg-1_amd64.deb ...\n",
            "Unpacking python3-sip (4.19.7+dfsg-1) ...\n",
            "Selecting previously unselected package python3-six.\n",
            "Preparing to unpack .../18-python3-six_1.11.0-2_all.deb ...\n",
            "Unpacking python3-six (1.11.0-2) ...\n",
            "Selecting previously unselected package libwxbase3.0-0v5:amd64.\n",
            "Preparing to unpack .../19-libwxbase3.0-0v5_3.0.4+dfsg-3_amd64.deb ...\n",
            "Unpacking libwxbase3.0-0v5:amd64 (3.0.4+dfsg-3) ...\n",
            "Selecting previously unselected package libnotify4:amd64.\n",
            "Preparing to unpack .../20-libnotify4_0.7.7-3_amd64.deb ...\n",
            "Unpacking libnotify4:amd64 (0.7.7-3) ...\n",
            "Selecting previously unselected package libwxgtk3.0-gtk3-0v5:amd64.\n",
            "Preparing to unpack .../21-libwxgtk3.0-gtk3-0v5_3.0.4+dfsg-3_amd64.deb ...\n",
            "Unpacking libwxgtk3.0-gtk3-0v5:amd64 (3.0.4+dfsg-3) ...\n",
            "Selecting previously unselected package python3-wxgtk4.0.\n",
            "Preparing to unpack .../22-python3-wxgtk4.0_4.0.1+dfsg-2_amd64.deb ...\n",
            "Unpacking python3-wxgtk4.0 (4.0.1+dfsg-2) ...\n",
            "Selecting previously unselected package xbitmaps.\n",
            "Preparing to unpack .../23-xbitmaps_1.1.1-2_all.deb ...\n",
            "Unpacking xbitmaps (1.1.1-2) ...\n",
            "Selecting previously unselected package libutempter0:amd64.\n",
            "Preparing to unpack .../24-libutempter0_1.1.6-3_amd64.deb ...\n",
            "Unpacking libutempter0:amd64 (1.1.6-3) ...\n",
            "Selecting previously unselected package xterm.\n",
            "Preparing to unpack .../25-xterm_330-1ubuntu2_amd64.deb ...\n",
            "Unpacking xterm (330-1ubuntu2) ...\n",
            "Selecting previously unselected package grass-gui.\n",
            "Preparing to unpack .../26-grass-gui_7.8.0-1~bionic1_amd64.deb ...\n",
            "Unpacking grass-gui (7.8.0-1~bionic1) ...\n",
            "Selecting previously unselected package grass.\n",
            "Preparing to unpack .../27-grass_7.8.0-1~bionic1_all.deb ...\n",
            "Unpacking grass (7.8.0-1~bionic1) ...\n",
            "Selecting previously unselected package gsfonts.\n",
            "Preparing to unpack .../28-gsfonts_1%3a8.11+urwcyr1.0.7~pre44-4.4_all.deb ...\n",
            "Unpacking gsfonts (1:8.11+urwcyr1.0.7~pre44-4.4) ...\n",
            "Selecting previously unselected package javascript-common.\n",
            "Preparing to unpack .../29-javascript-common_11_all.deb ...\n",
            "Unpacking javascript-common (11) ...\n",
            "Selecting previously unselected package libcupsfilters1:amd64.\n",
            "Preparing to unpack .../30-libcupsfilters1_1.20.2-0ubuntu3.1_amd64.deb ...\n",
            "Unpacking libcupsfilters1:amd64 (1.20.2-0ubuntu3.1) ...\n",
            "Selecting previously unselected package libjs-jquery-ui.\n",
            "Preparing to unpack .../31-libjs-jquery-ui_1.12.1+dfsg-5_all.deb ...\n",
            "Unpacking libjs-jquery-ui (1.12.1+dfsg-5) ...\n",
            "Selecting previously unselected package libpdal-plugin-faux.\n",
            "Preparing to unpack .../32-libpdal-plugin-faux_1.8.0+ds-1~bionic2_amd64.deb ...\n",
            "Unpacking libpdal-plugin-faux (1.8.0+ds-1~bionic2) ...\n",
            "Selecting previously unselected package libpdal-plugin-greyhound.\n",
            "Preparing to unpack .../33-libpdal-plugin-greyhound_1.8.0+ds-1~bionic2_amd64.deb ...\n",
            "Unpacking libpdal-plugin-greyhound (1.8.0+ds-1~bionic2) ...\n",
            "Selecting previously unselected package libpdal-plugin-icebridge.\n",
            "Preparing to unpack .../34-libpdal-plugin-icebridge_1.8.0+ds-1~bionic2_amd64.deb ...\n",
            "Unpacking libpdal-plugin-icebridge (1.8.0+ds-1~bionic2) ...\n",
            "Selecting previously unselected package libpdal-plugin-pgpointcloud.\n",
            "Preparing to unpack .../35-libpdal-plugin-pgpointcloud_1.8.0+ds-1~bionic2_amd64.deb ...\n",
            "Unpacking libpdal-plugin-pgpointcloud (1.8.0+ds-1~bionic2) ...\n",
            "Selecting previously unselected package libpdal-plugin-python.\n",
            "Preparing to unpack .../36-libpdal-plugin-python_1.8.0+ds-1~bionic2_amd64.deb ...\n",
            "Unpacking libpdal-plugin-python (1.8.0+ds-1~bionic2) ...\n",
            "Selecting previously unselected package libsqlite3-mod-spatialite:amd64.\n",
            "Preparing to unpack .../37-libsqlite3-mod-spatialite_4.3.0a-5build1+bionic1_amd64.deb ...\n",
            "Unpacking libsqlite3-mod-spatialite:amd64 (4.3.0a-5build1+bionic1) ...\n",
            "Selecting previously unselected package libpdal-plugin-sqlite.\n",
            "Preparing to unpack .../38-libpdal-plugin-sqlite_1.8.0+ds-1~bionic2_amd64.deb ...\n",
            "Unpacking libpdal-plugin-sqlite (1.8.0+ds-1~bionic2) ...\n",
            "Selecting previously unselected package libpdal-plugins.\n",
            "Preparing to unpack .../39-libpdal-plugins_1.8.0+ds-1~bionic2_amd64.deb ...\n",
            "Unpacking libpdal-plugins (1.8.0+ds-1~bionic2) ...\n",
            "Selecting previously unselected package notification-daemon.\n",
            "Preparing to unpack .../40-notification-daemon_3.20.0-3_amd64.deb ...\n",
            "Unpacking notification-daemon (3.20.0-3) ...\n",
            "Selecting previously unselected package proj-bin.\n",
            "Preparing to unpack .../41-proj-bin_5.2.0-1~bionic0_amd64.deb ...\n",
            "Unpacking proj-bin (5.2.0-1~bionic0) ...\n",
            "Selecting previously unselected package ttf-bitstream-vera.\n",
            "Preparing to unpack .../42-ttf-bitstream-vera_1.10-8_all.deb ...\n",
            "Unpacking ttf-bitstream-vera (1.10-8) ...\n",
            "Selecting previously unselected package python-matplotlib-data.\n",
            "Preparing to unpack .../43-python-matplotlib-data_2.1.1-2ubuntu3_all.deb ...\n",
            "Unpacking python-matplotlib-data (2.1.1-2ubuntu3) ...\n",
            "Selecting previously unselected package python3-cycler.\n",
            "Preparing to unpack .../44-python3-cycler_0.10.0-1_all.deb ...\n",
            "Unpacking python3-cycler (0.10.0-1) ...\n",
            "Selecting previously unselected package python3-dateutil.\n",
            "Preparing to unpack .../45-python3-dateutil_2.6.1-1_all.deb ...\n",
            "Unpacking python3-dateutil (2.6.1-1) ...\n",
            "Selecting previously unselected package python3-pyparsing.\n",
            "Preparing to unpack .../46-python3-pyparsing_2.2.0+dfsg1-2_all.deb ...\n",
            "Unpacking python3-pyparsing (2.2.0+dfsg1-2) ...\n",
            "Selecting previously unselected package python3-tz.\n",
            "Preparing to unpack .../47-python3-tz_2018.3-2_all.deb ...\n",
            "Unpacking python3-tz (2018.3-2) ...\n",
            "Selecting previously unselected package python3-matplotlib.\n",
            "Preparing to unpack .../48-python3-matplotlib_2.1.1-2ubuntu3_amd64.deb ...\n",
            "Unpacking python3-matplotlib (2.1.1-2ubuntu3) ...\n",
            "Selecting previously unselected package python3-olefile.\n",
            "Preparing to unpack .../49-python3-olefile_0.45.1-1_all.deb ...\n",
            "Unpacking python3-olefile (0.45.1-1) ...\n",
            "Selecting previously unselected package python3-pil:amd64.\n",
            "Preparing to unpack .../50-python3-pil_5.1.0-1_amd64.deb ...\n",
            "Unpacking python3-pil:amd64 (5.1.0-1) ...\n",
            "Selecting previously unselected package x11-utils.\n",
            "Preparing to unpack .../51-x11-utils_7.7+3build1_amd64.deb ...\n",
            "Unpacking x11-utils (7.7+3build1) ...\n",
            "Setting up libgs9-common (9.26~dfsg+0-0ubuntu0.18.04.11) ...\n",
            "Setting up libnotify4:amd64 (0.7.7-3) ...\n",
            "Setting up fonts-droid-fallback (1:6.0.1r16-1.1) ...\n",
            "Setting up python3-pil:amd64 (5.1.0-1) ...\n",
            "Processing triggers for mime-support (3.60ubuntu1) ...\n",
            "Setting up gsfonts (1:8.11+urwcyr1.0.7~pre44-4.4) ...\n",
            "Setting up python3-olefile (0.45.1-1) ...\n",
            "Setting up xbitmaps (1.1.1-2) ...\n",
            "Setting up poppler-data (0.4.8-2) ...\n",
            "Setting up libopencv-core3.2:amd64 (3.2.0+dfsg-4ubuntu0.1+bionic2) ...\n",
            "Setting up python3-six (1.11.0-2) ...\n",
            "Setting up python3-pyparsing (2.2.0+dfsg1-2) ...\n",
            "Setting up python3-cycler (0.10.0-1) ...\n",
            "Setting up libproj13:amd64 (5.2.0-1~bionic0) ...\n",
            "Setting up python3-opengl (3.1.0+dfsg-1) ...\n",
            "Setting up libsqlite3-mod-spatialite:amd64 (4.3.0a-5build1+bionic1) ...\n",
            "Setting up libutempter0:amd64 (1.1.6-3) ...\n",
            "Setting up fonts-noto-mono (20171026-2) ...\n",
            "Setting up libwxbase3.0-0v5:amd64 (3.0.4+dfsg-3) ...\n",
            "Setting up libcupsfilters1:amd64 (1.20.2-0ubuntu3.1) ...\n",
            "Setting up gdal-data (2.4.2+dfsg-1~bionic0) ...\n",
            "Setting up libcupsimage2:amd64 (2.2.7-1ubuntu2.7) ...\n",
            "Setting up libjbig2dec0:amd64 (0.13-6) ...\n",
            "Setting up libxxf86dga1:amd64 (2:1.1.4-1) ...\n",
            "Processing triggers for libc-bin (2.27-3ubuntu1) ...\n",
            "Setting up libpdal-util7 (1.8.0+ds-1~bionic2) ...\n",
            "Setting up grass-doc (7.8.0-1~bionic1) ...\n",
            "Setting up proj-bin (5.2.0-1~bionic0) ...\n",
            "Setting up libjs-jquery-ui (1.12.1+dfsg-5) ...\n",
            "Setting up libopencv-core-dev:amd64 (3.2.0+dfsg-4ubuntu0.1+bionic2) ...\n",
            "Setting up libogdi4.1 (4.1.0+ds-1~bionic0) ...\n",
            "Setting up libijs-0.35:amd64 (0.35-13) ...\n",
            "Setting up libopencv-ml3.2:amd64 (3.2.0+dfsg-4ubuntu0.1+bionic2) ...\n",
            "Setting up python3-sip (4.19.7+dfsg-1) ...\n",
            "Setting up libwxgtk3.0-gtk3-0v5:amd64 (3.0.4+dfsg-3) ...\n",
            "Setting up ttf-bitstream-vera (1.10-8) ...\n",
            "Setting up libopencv-ml-dev:amd64 (3.2.0+dfsg-4ubuntu0.1+bionic2) ...\n",
            "Processing triggers for man-db (2.8.3-2ubuntu0.1) ...\n",
            "Setting up libopencv-imgproc3.2:amd64 (3.2.0+dfsg-4ubuntu0.1+bionic2) ...\n",
            "Setting up libopencv-flann3.2:amd64 (3.2.0+dfsg-4ubuntu0.1+bionic2) ...\n",
            "Setting up javascript-common (11) ...\n",
            "Setting up libopencv-video3.2:amd64 (3.2.0+dfsg-4ubuntu0.1+bionic2) ...\n",
            "Processing triggers for hicolor-icon-theme (0.17-2) ...\n",
            "Setting up libgs9:amd64 (9.26~dfsg+0-0ubuntu0.18.04.11) ...\n",
            "Setting up python3-tz (2018.3-2) ...\n",
            "Setting up libopencv-imgproc-dev:amd64 (3.2.0+dfsg-4ubuntu0.1+bionic2) ...\n",
            "Processing triggers for fontconfig (2.12.6-0ubuntu2) ...\n",
            "Setting up python3-dateutil (2.6.1-1) ...\n",
            "Setting up notification-daemon (3.20.0-3) ...\n",
            "Setting up fonts-lyx (2.2.4-0ubuntu0.18.04.1) ...\n",
            "Setting up libopencv-photo3.2:amd64 (3.2.0+dfsg-4ubuntu0.1+bionic2) ...\n",
            "Setting up python3-wxgtk4.0 (4.0.1+dfsg-2) ...\n",
            "Setting up libopencv-ts-dev:amd64 (3.2.0+dfsg-4ubuntu0.1+bionic2) ...\n",
            "Setting up libopencv-photo-dev:amd64 (3.2.0+dfsg-4ubuntu0.1+bionic2) ...\n",
            "Setting up python-matplotlib-data (2.1.1-2ubuntu3) ...\n",
            "Setting up libgdal20 (2.4.2+dfsg-1~bionic0) ...\n",
            "Setting up libopencv-flann-dev:amd64 (3.2.0+dfsg-4ubuntu0.1+bionic2) ...\n",
            "Setting up x11-utils (7.7+3build1) ...\n",
            "Setting up ghostscript (9.26~dfsg+0-0ubuntu0.18.04.11) ...\n",
            "Setting up libopencv-imgcodecs3.2:amd64 (3.2.0+dfsg-4ubuntu0.1+bionic2) ...\n",
            "Setting up xterm (330-1ubuntu2) ...\n",
            "update-alternatives: using /usr/bin/xterm to provide /usr/bin/x-terminal-emulator (x-terminal-emulator) in auto mode\n",
            "update-alternatives: using /usr/bin/lxterm to provide /usr/bin/x-terminal-emulator (x-terminal-emulator) in auto mode\n",
            "Setting up python3-gdal (2.4.2+dfsg-1~bionic0) ...\n",
            "Setting up libvtk6.3 (6.3.0+dfsg2-2build4~bionic2) ...\n",
            "Setting up python-gdal (2.4.2+dfsg-1~bionic0) ...\n",
            "Setting up libopencv-shape3.2:amd64 (3.2.0+dfsg-4ubuntu0.1+bionic2) ...\n",
            "Setting up libopencv-video-dev:amd64 (3.2.0+dfsg-4ubuntu0.1+bionic2) ...\n",
            "Setting up python3-matplotlib (2.1.1-2ubuntu3) ...\n",
            "Setting up gdal-bin (2.4.2+dfsg-1~bionic0) ...\n",
            "Setting up libopencv-videoio3.2:amd64 (3.2.0+dfsg-4ubuntu0.1+bionic2) ...\n",
            "Setting up libopencv-shape-dev:amd64 (3.2.0+dfsg-4ubuntu0.1+bionic2) ...\n",
            "Setting up libpdal-base7 (1.8.0+ds-1~bionic2) ...\n",
            "Setting up libopencv-imgcodecs-dev:amd64 (3.2.0+dfsg-4ubuntu0.1+bionic2) ...\n",
            "Setting up libopencv-viz3.2:amd64 (3.2.0+dfsg-4ubuntu0.1+bionic2) ...\n",
            "Setting up libpdal-plugin-python (1.8.0+ds-1~bionic2) ...\n",
            "Setting up libpdal-plugin-greyhound (1.8.0+ds-1~bionic2) ...\n",
            "Setting up grass-core (7.8.0-1~bionic1) ...\n",
            "Setting up libpdal-plugin-icebridge (1.8.0+ds-1~bionic2) ...\n",
            "Setting up libopencv-superres3.2:amd64 (3.2.0+dfsg-4ubuntu0.1+bionic2) ...\n",
            "Setting up libpdal-plugin-pgpointcloud (1.8.0+ds-1~bionic2) ...\n",
            "Setting up libpdal-plugin-faux (1.8.0+ds-1~bionic2) ...\n",
            "Setting up libpdal-plugin-sqlite (1.8.0+ds-1~bionic2) ...\n",
            "Setting up libopencv-highgui3.2:amd64 (3.2.0+dfsg-4ubuntu0.1+bionic2) ...\n",
            "Setting up libopencv-videoio-dev:amd64 (3.2.0+dfsg-4ubuntu0.1+bionic2) ...\n",
            "Setting up libopencv-viz-dev:amd64 (3.2.0+dfsg-4ubuntu0.1+bionic2) ...\n",
            "Setting up grass-gui (7.8.0-1~bionic1) ...\n",
            "Setting up libpdal-plugins (1.8.0+ds-1~bionic2) ...\n",
            "Setting up libopencv-objdetect3.2:amd64 (3.2.0+dfsg-4ubuntu0.1+bionic2) ...\n",
            "Setting up libopencv-highgui-dev:amd64 (3.2.0+dfsg-4ubuntu0.1+bionic2) ...\n",
            "Setting up libopencv-features2d3.2:amd64 (3.2.0+dfsg-4ubuntu0.1+bionic2) ...\n",
            "Setting up libopencv-superres-dev:amd64 (3.2.0+dfsg-4ubuntu0.1+bionic2) ...\n",
            "Setting up libopencv-features2d-dev:amd64 (3.2.0+dfsg-4ubuntu0.1+bionic2) ...\n",
            "Setting up libopencv-calib3d3.2:amd64 (3.2.0+dfsg-4ubuntu0.1+bionic2) ...\n",
            "Setting up grass (7.8.0-1~bionic1) ...\n",
            "Setting up libopencv-stitching3.2:amd64 (3.2.0+dfsg-4ubuntu0.1+bionic2) ...\n",
            "Setting up libopencv-calib3d-dev:amd64 (3.2.0+dfsg-4ubuntu0.1+bionic2) ...\n",
            "Setting up libopencv-objdetect-dev:amd64 (3.2.0+dfsg-4ubuntu0.1+bionic2) ...\n",
            "Setting up libopencv-videostab3.2:amd64 (3.2.0+dfsg-4ubuntu0.1+bionic2) ...\n",
            "Setting up libopencv-stitching-dev:amd64 (3.2.0+dfsg-4ubuntu0.1+bionic2) ...\n",
            "Setting up libopencv-contrib3.2:amd64 (3.2.0+dfsg-4ubuntu0.1+bionic2) ...\n",
            "Setting up libopencv-videostab-dev:amd64 (3.2.0+dfsg-4ubuntu0.1+bionic2) ...\n",
            "Setting up libopencv-contrib-dev:amd64 (3.2.0+dfsg-4ubuntu0.1+bionic2) ...\n",
            "Setting up libopencv3.2-jni (3.2.0+dfsg-4ubuntu0.1+bionic2) ...\n",
            "Setting up libopencv3.2-java (3.2.0+dfsg-4ubuntu0.1+bionic2) ...\n",
            "Setting up libopencv-dev (3.2.0+dfsg-4ubuntu0.1+bionic2) ...\n",
            "Processing triggers for libc-bin (2.27-3ubuntu1) ...\n"
          ],
          "name": "stdout"
        }
      ]
    },
    {
      "cell_type": "markdown",
      "metadata": {
        "id": "WwnJ91LJYIxQ",
        "colab_type": "text"
      },
      "source": [
        "## Prepare GRASS for use in Jupyter Notebook\n",
        "Source: https://grasswiki.osgeo.org/wiki/GRASS_GIS_Jupyter_notebooks"
      ]
    },
    {
      "cell_type": "code",
      "metadata": {
        "id": "0KLgbeESBtMz",
        "colab_type": "code",
        "colab": {
          "base_uri": "https://localhost:8080/",
          "height": 119
        },
        "outputId": "a14c819c-ad9a-4847-ab7c-5abdcc3f98f8"
      },
      "source": [
        "#directory where GRASS GIS lives\n",
        "#!find / -name grass*\n",
        "!export GISBASE=`/usr/lib/grass78 --config path`   # or define path to binaries like /usr/local/grass-7.4.svn\n",
        "!echo $GISBASE\n",
        "\n",
        "# generate GISRC\n",
        "# Defines the system wide value while in a GRASS session\n",
        "!mkdir $HOME/grassdata\n",
        "!MYGISDBASE=$HOME/grassdata # Change this path to reflect your own \n",
        "!MYLOC=GEE # Change this location name to reflect your own \n",
        "!MYMAPSET=PERMANENT\n",
        "\n",
        "# Set the global grassrc file to individual file name\n",
        "!MYGISRC=\"$HOME/.grassrc.$$\"\n",
        "\n",
        "!echo \"GISDBASE: $MYGISDBASE\" > \"$MYGISRC\"\n",
        "!echo \"LOCATION_NAME: $MYLOC\" >> \"$MYGISRC\"\n",
        "!echo \"MAPSET: $MYMAPSET\" >> \"$MYGISRC\"\n",
        "!echo \"GRASS_GUI: text\" >> \"$MYGISRC\"\n",
        "\n",
        "# path to GRASS settings file\n",
        "!export GISRC=$MYGISRC\n",
        "\n",
        "!export LD_LIBRARY_PATH=$GISBASE/lib:$LD_LIBRARY_PATH\n",
        "!export PYTHONPATH=$GISBASE/etc/python:$PYTHONPATH\n",
        "!export PATH=$GISBASE/bin:$GISBASE/scripts:$PATH"
      ],
      "execution_count": 8,
      "outputs": [
        {
          "output_type": "stream",
          "text": [
            "/bin/bash: /usr/lib/grass78: Is a directory\n",
            "\n",
            "/bin/bash: : No such file or directory\n",
            "/bin/bash: : No such file or directory\n",
            "/bin/bash: : No such file or directory\n",
            "/bin/bash: : No such file or directory\n"
          ],
          "name": "stdout"
        }
      ]
    },
    {
      "cell_type": "markdown",
      "metadata": {
        "id": "jdUdpzbYYijD",
        "colab_type": "text"
      },
      "source": [
        "## Download Sample GRASS Data"
      ]
    },
    {
      "cell_type": "code",
      "metadata": {
        "id": "V9SbkeieGUsQ",
        "colab_type": "code",
        "colab": {
          "base_uri": "https://localhost:8080/",
          "height": 1000
        },
        "outputId": "266d8348-730b-40a6-812e-1e351bba430c"
      },
      "source": [
        "#Download Sample Data\n",
        "!wget /$HOME/grassdata/ \"https://grass.osgeo.org/sampledata/north_carolina/nc_spm_08_grass7.tar.gz\"\n",
        "!tar xvzf nc_spm_08_grass7.tar.gz\n",
        "!mv /content/nc_spm_08_grass7 /root/grassdata/\n",
        "!chown -R root:root /root/grassdata/nc_spm_08_grass7/ #TODO: Read up on how colab is handling users becasue I'm guessing I shouldn't need to change owner to root. This data should probably also live in /content/grassdata"
      ],
      "execution_count": 9,
      "outputs": [
        {
          "output_type": "stream",
          "text": [
            "//root/grassdata/: Scheme missing.\n",
            "--2019-10-30 14:16:23--  https://grass.osgeo.org/sampledata/north_carolina/nc_spm_08_grass7.tar.gz\n",
            "Resolving grass.osgeo.org (grass.osgeo.org)... 140.211.15.3\n",
            "Connecting to grass.osgeo.org (grass.osgeo.org)|140.211.15.3|:443... connected.\n",
            "HTTP request sent, awaiting response... 200 OK\n",
            "Length: 147659133 (141M) [application/x-gzip]\n",
            "Saving to: ‘nc_spm_08_grass7.tar.gz’\n",
            "\n",
            "nc_spm_08_grass7.ta 100%[===================>] 140.82M  19.7MB/s    in 8.1s    \n",
            "\n",
            "2019-10-30 14:16:32 (17.3 MB/s) - ‘nc_spm_08_grass7.tar.gz’ saved [147659133/147659133]\n",
            "\n",
            "FINISHED --2019-10-30 14:16:32--\n",
            "Total wall clock time: 9.0s\n",
            "Downloaded: 1 files, 141M in 8.1s (17.3 MB/s)\n",
            "nc_spm_08_grass7/\n",
            "nc_spm_08_grass7/VERSION.txt\n",
            "nc_spm_08_grass7/PERMANENT/\n",
            "nc_spm_08_grass7/PERMANENT/cellhd/\n",
            "nc_spm_08_grass7/PERMANENT/cellhd/landcover_1m\n",
            "nc_spm_08_grass7/PERMANENT/cellhd/zipcodes\n",
            "nc_spm_08_grass7/PERMANENT/cellhd/lsat7_2002_20\n",
            "nc_spm_08_grass7/PERMANENT/cellhd/cfactorbare_1m\n",
            "nc_spm_08_grass7/PERMANENT/cellhd/lsat7_2002_50\n",
            "nc_spm_08_grass7/PERMANENT/cellhd/ortho_2001_t792_1m\n",
            "nc_spm_08_grass7/PERMANENT/cellhd/facility\n",
            "nc_spm_08_grass7/PERMANENT/cellhd/soilsID\n",
            "nc_spm_08_grass7/PERMANENT/cellhd/lsat7_2002_80\n",
            "nc_spm_08_grass7/PERMANENT/cellhd/elevation_shade\n",
            "nc_spm_08_grass7/PERMANENT/cellhd/soils_Kfactor\n",
            "nc_spm_08_grass7/PERMANENT/cellhd/lsat7_2002_70\n",
            "nc_spm_08_grass7/PERMANENT/cellhd/lsat7_2002_30\n",
            "nc_spm_08_grass7/PERMANENT/cellhd/lsat7_2002_10\n",
            "nc_spm_08_grass7/PERMANENT/cellhd/el_D783_6m\n",
            "nc_spm_08_grass7/PERMANENT/cellhd/lakes\n",
            "nc_spm_08_grass7/PERMANENT/cellhd/elev_ned_30m\n",
            "nc_spm_08_grass7/PERMANENT/cellhd/streams_derived\n",
            "nc_spm_08_grass7/PERMANENT/cellhd/cfactorgrow_1m\n",
            "nc_spm_08_grass7/PERMANENT/cellhd/elev_lid792_1m\n",
            "nc_spm_08_grass7/PERMANENT/cellhd/boundary_county_500m\n",
            "nc_spm_08_grass7/PERMANENT/cellhd/el_D782_6m\n",
            "nc_spm_08_grass7/PERMANENT/cellhd/urban\n",
            "nc_spm_08_grass7/PERMANENT/cellhd/basin_50K\n",
            "nc_spm_08_grass7/PERMANENT/cellhd/lsat7_2002_62\n",
            "nc_spm_08_grass7/PERMANENT/cellhd/slope\n",
            "nc_spm_08_grass7/PERMANENT/cellhd/elevation\n",
            "nc_spm_08_grass7/PERMANENT/cellhd/geology_30m\n",
            "nc_spm_08_grass7/PERMANENT/cellhd/elev_srtm_30m\n",
            "nc_spm_08_grass7/PERMANENT/cellhd/ncmask_500m\n",
            "nc_spm_08_grass7/PERMANENT/cellhd/landclass96\n",
            "nc_spm_08_grass7/PERMANENT/cellhd/el_D792_6m\n",
            "nc_spm_08_grass7/PERMANENT/cellhd/aspect\n",
            "nc_spm_08_grass7/PERMANENT/cellhd/zipcodes_dbl\n",
            "nc_spm_08_grass7/PERMANENT/cellhd/towns\n",
            "nc_spm_08_grass7/PERMANENT/cellhd/el_D793_6m\n",
            "nc_spm_08_grass7/PERMANENT/cellhd/lsat7_2002_61\n",
            "nc_spm_08_grass7/PERMANENT/cellhd/landuse96_28m\n",
            "nc_spm_08_grass7/PERMANENT/cellhd/lsat7_2002_40\n",
            "nc_spm_08_grass7/PERMANENT/cellhd/elev_state_500m\n",
            "nc_spm_08_grass7/PERMANENT/cellhd/roadsmajor\n",
            "nc_spm_08_grass7/PERMANENT/g3dcell/\n",
            "nc_spm_08_grass7/PERMANENT/PROJ_UNITS\n",
            "nc_spm_08_grass7/PERMANENT/VAR\n",
            "nc_spm_08_grass7/PERMANENT/cats/\n",
            "nc_spm_08_grass7/PERMANENT/cats/landcover_1m\n",
            "nc_spm_08_grass7/PERMANENT/cats/zipcodes\n",
            "nc_spm_08_grass7/PERMANENT/cats/lsat7_2002_20\n",
            "nc_spm_08_grass7/PERMANENT/cats/cfactorbare_1m\n",
            "nc_spm_08_grass7/PERMANENT/cats/lsat7_2002_50\n",
            "nc_spm_08_grass7/PERMANENT/cats/ortho_2001_t792_1m\n",
            "nc_spm_08_grass7/PERMANENT/cats/facility\n",
            "nc_spm_08_grass7/PERMANENT/cats/soilsID\n",
            "nc_spm_08_grass7/PERMANENT/cats/lsat7_2002_80\n",
            "nc_spm_08_grass7/PERMANENT/cats/elevation_shade\n",
            "nc_spm_08_grass7/PERMANENT/cats/soils_Kfactor\n",
            "nc_spm_08_grass7/PERMANENT/cats/lsat7_2002_70\n",
            "nc_spm_08_grass7/PERMANENT/cats/lsat7_2002_30\n",
            "nc_spm_08_grass7/PERMANENT/cats/lsat7_2002_10\n",
            "nc_spm_08_grass7/PERMANENT/cats/el_D783_6m\n",
            "nc_spm_08_grass7/PERMANENT/cats/lakes\n",
            "nc_spm_08_grass7/PERMANENT/cats/elev_ned_30m\n",
            "nc_spm_08_grass7/PERMANENT/cats/streams_derived\n",
            "nc_spm_08_grass7/PERMANENT/cats/cfactorgrow_1m\n",
            "nc_spm_08_grass7/PERMANENT/cats/elev_lid792_1m\n",
            "nc_spm_08_grass7/PERMANENT/cats/boundary_county_500m\n",
            "nc_spm_08_grass7/PERMANENT/cats/el_D782_6m\n",
            "nc_spm_08_grass7/PERMANENT/cats/urban\n",
            "nc_spm_08_grass7/PERMANENT/cats/basin_50K\n",
            "nc_spm_08_grass7/PERMANENT/cats/lsat7_2002_62\n",
            "nc_spm_08_grass7/PERMANENT/cats/slope\n",
            "nc_spm_08_grass7/PERMANENT/cats/elevation\n",
            "nc_spm_08_grass7/PERMANENT/cats/geology_30m\n",
            "nc_spm_08_grass7/PERMANENT/cats/elev_srtm_30m\n",
            "nc_spm_08_grass7/PERMANENT/cats/ncmask_500m\n",
            "nc_spm_08_grass7/PERMANENT/cats/landclass96\n",
            "nc_spm_08_grass7/PERMANENT/cats/el_D792_6m\n",
            "nc_spm_08_grass7/PERMANENT/cats/aspect\n",
            "nc_spm_08_grass7/PERMANENT/cats/zipcodes_dbl\n",
            "nc_spm_08_grass7/PERMANENT/cats/towns\n",
            "nc_spm_08_grass7/PERMANENT/cats/el_D793_6m\n",
            "nc_spm_08_grass7/PERMANENT/cats/lsat7_2002_61\n",
            "nc_spm_08_grass7/PERMANENT/cats/landuse96_28m\n",
            "nc_spm_08_grass7/PERMANENT/cats/lsat7_2002_40\n",
            "nc_spm_08_grass7/PERMANENT/cats/elev_state_500m\n",
            "nc_spm_08_grass7/PERMANENT/cats/roadsmajor\n",
            "nc_spm_08_grass7/PERMANENT/WIND\n",
            "nc_spm_08_grass7/PERMANENT/colr/\n",
            "nc_spm_08_grass7/PERMANENT/colr/landcover_1m\n",
            "nc_spm_08_grass7/PERMANENT/colr/zipcodes\n",
            "nc_spm_08_grass7/PERMANENT/colr/lsat7_2002_20\n",
            "nc_spm_08_grass7/PERMANENT/colr/cfactorbare_1m\n",
            "nc_spm_08_grass7/PERMANENT/colr/lsat7_2002_50\n",
            "nc_spm_08_grass7/PERMANENT/colr/ortho_2001_t792_1m\n",
            "nc_spm_08_grass7/PERMANENT/colr/soilsID\n",
            "nc_spm_08_grass7/PERMANENT/colr/lsat7_2002_80\n",
            "nc_spm_08_grass7/PERMANENT/colr/elevation_shade\n",
            "nc_spm_08_grass7/PERMANENT/colr/lsat7_2002_70\n",
            "nc_spm_08_grass7/PERMANENT/colr/lsat7_2002_30\n",
            "nc_spm_08_grass7/PERMANENT/colr/lsat7_2002_10\n",
            "nc_spm_08_grass7/PERMANENT/colr/el_D783_6m\n",
            "nc_spm_08_grass7/PERMANENT/colr/elev_ned_30m\n",
            "nc_spm_08_grass7/PERMANENT/colr/cfactorgrow_1m\n",
            "nc_spm_08_grass7/PERMANENT/colr/elev_lid792_1m\n",
            "nc_spm_08_grass7/PERMANENT/colr/boundary_county_500m\n",
            "nc_spm_08_grass7/PERMANENT/colr/el_D782_6m\n",
            "nc_spm_08_grass7/PERMANENT/colr/urban\n",
            "nc_spm_08_grass7/PERMANENT/colr/basin_50K\n",
            "nc_spm_08_grass7/PERMANENT/colr/lsat7_2002_62\n",
            "nc_spm_08_grass7/PERMANENT/colr/slope\n",
            "nc_spm_08_grass7/PERMANENT/colr/elevation\n",
            "nc_spm_08_grass7/PERMANENT/colr/geology_30m\n",
            "nc_spm_08_grass7/PERMANENT/colr/landclass96\n",
            "nc_spm_08_grass7/PERMANENT/colr/el_D792_6m\n",
            "nc_spm_08_grass7/PERMANENT/colr/aspect\n",
            "nc_spm_08_grass7/PERMANENT/colr/zipcodes_dbl\n",
            "nc_spm_08_grass7/PERMANENT/colr/el_D793_6m\n",
            "nc_spm_08_grass7/PERMANENT/colr/lsat7_2002_61\n",
            "nc_spm_08_grass7/PERMANENT/colr/landuse96_28m\n",
            "nc_spm_08_grass7/PERMANENT/colr/lsat7_2002_40\n",
            "nc_spm_08_grass7/PERMANENT/colr/elev_state_500m\n",
            "nc_spm_08_grass7/PERMANENT/colr/roadsmajor\n",
            "nc_spm_08_grass7/PERMANENT/cell_misc/\n",
            "nc_spm_08_grass7/PERMANENT/cell_misc/landcover_1m/\n",
            "nc_spm_08_grass7/PERMANENT/cell_misc/landcover_1m/range\n",
            "nc_spm_08_grass7/PERMANENT/cell_misc/landcover_1m/null\n",
            "nc_spm_08_grass7/PERMANENT/cell_misc/zipcodes/\n",
            "nc_spm_08_grass7/PERMANENT/cell_misc/zipcodes/range\n",
            "nc_spm_08_grass7/PERMANENT/cell_misc/zipcodes/null\n",
            "nc_spm_08_grass7/PERMANENT/cell_misc/lsat7_2002_20/\n",
            "nc_spm_08_grass7/PERMANENT/cell_misc/lsat7_2002_20/range\n",
            "nc_spm_08_grass7/PERMANENT/cell_misc/lsat7_2002_20/null\n",
            "nc_spm_08_grass7/PERMANENT/cell_misc/cfactorbare_1m/\n",
            "nc_spm_08_grass7/PERMANENT/cell_misc/cfactorbare_1m/null\n",
            "nc_spm_08_grass7/PERMANENT/cell_misc/cfactorbare_1m/f_range\n",
            "nc_spm_08_grass7/PERMANENT/cell_misc/cfactorbare_1m/f_format\n",
            "nc_spm_08_grass7/PERMANENT/cell_misc/cfactorbare_1m/f_quant\n",
            "nc_spm_08_grass7/PERMANENT/cell_misc/lsat7_2002_50/\n",
            "nc_spm_08_grass7/PERMANENT/cell_misc/lsat7_2002_50/range\n",
            "nc_spm_08_grass7/PERMANENT/cell_misc/lsat7_2002_50/null\n",
            "nc_spm_08_grass7/PERMANENT/cell_misc/ortho_2001_t792_1m/\n",
            "nc_spm_08_grass7/PERMANENT/cell_misc/ortho_2001_t792_1m/range\n",
            "nc_spm_08_grass7/PERMANENT/cell_misc/ortho_2001_t792_1m/null\n",
            "nc_spm_08_grass7/PERMANENT/cell_misc/facility/\n",
            "nc_spm_08_grass7/PERMANENT/cell_misc/facility/range\n",
            "nc_spm_08_grass7/PERMANENT/cell_misc/facility/null\n",
            "nc_spm_08_grass7/PERMANENT/cell_misc/soilsID/\n",
            "nc_spm_08_grass7/PERMANENT/cell_misc/soilsID/range\n",
            "nc_spm_08_grass7/PERMANENT/cell_misc/soilsID/null\n",
            "nc_spm_08_grass7/PERMANENT/cell_misc/lsat7_2002_80/\n",
            "nc_spm_08_grass7/PERMANENT/cell_misc/lsat7_2002_80/range\n",
            "nc_spm_08_grass7/PERMANENT/cell_misc/lsat7_2002_80/null\n",
            "nc_spm_08_grass7/PERMANENT/cell_misc/elevation_shade/\n",
            "nc_spm_08_grass7/PERMANENT/cell_misc/elevation_shade/null\n",
            "nc_spm_08_grass7/PERMANENT/cell_misc/elevation_shade/f_range\n",
            "nc_spm_08_grass7/PERMANENT/cell_misc/elevation_shade/f_format\n",
            "nc_spm_08_grass7/PERMANENT/cell_misc/elevation_shade/f_quant\n",
            "nc_spm_08_grass7/PERMANENT/cell_misc/soils_Kfactor/\n",
            "nc_spm_08_grass7/PERMANENT/cell_misc/soils_Kfactor/null\n",
            "nc_spm_08_grass7/PERMANENT/cell_misc/soils_Kfactor/f_range\n",
            "nc_spm_08_grass7/PERMANENT/cell_misc/soils_Kfactor/f_format\n",
            "nc_spm_08_grass7/PERMANENT/cell_misc/soils_Kfactor/f_quant\n",
            "nc_spm_08_grass7/PERMANENT/cell_misc/lsat7_2002_70/\n",
            "nc_spm_08_grass7/PERMANENT/cell_misc/lsat7_2002_70/range\n",
            "nc_spm_08_grass7/PERMANENT/cell_misc/lsat7_2002_70/null\n",
            "nc_spm_08_grass7/PERMANENT/cell_misc/lsat7_2002_30/\n",
            "nc_spm_08_grass7/PERMANENT/cell_misc/lsat7_2002_30/range\n",
            "nc_spm_08_grass7/PERMANENT/cell_misc/lsat7_2002_30/null\n",
            "nc_spm_08_grass7/PERMANENT/cell_misc/lsat7_2002_10/\n",
            "nc_spm_08_grass7/PERMANENT/cell_misc/lsat7_2002_10/range\n",
            "nc_spm_08_grass7/PERMANENT/cell_misc/lsat7_2002_10/null\n",
            "nc_spm_08_grass7/PERMANENT/cell_misc/lsat7_2002_10/timestamp\n",
            "nc_spm_08_grass7/PERMANENT/cell_misc/el_D783_6m/\n",
            "nc_spm_08_grass7/PERMANENT/cell_misc/el_D783_6m/null\n",
            "nc_spm_08_grass7/PERMANENT/cell_misc/el_D783_6m/f_range\n",
            "nc_spm_08_grass7/PERMANENT/cell_misc/el_D783_6m/f_format\n",
            "nc_spm_08_grass7/PERMANENT/cell_misc/el_D783_6m/f_quant\n",
            "nc_spm_08_grass7/PERMANENT/cell_misc/lakes/\n",
            "nc_spm_08_grass7/PERMANENT/cell_misc/lakes/range\n",
            "nc_spm_08_grass7/PERMANENT/cell_misc/lakes/null\n",
            "nc_spm_08_grass7/PERMANENT/cell_misc/elev_ned_30m/\n",
            "nc_spm_08_grass7/PERMANENT/cell_misc/elev_ned_30m/null\n",
            "nc_spm_08_grass7/PERMANENT/cell_misc/elev_ned_30m/f_range\n",
            "nc_spm_08_grass7/PERMANENT/cell_misc/elev_ned_30m/f_format\n",
            "nc_spm_08_grass7/PERMANENT/cell_misc/elev_ned_30m/f_quant\n",
            "nc_spm_08_grass7/PERMANENT/cell_misc/streams_derived/\n",
            "nc_spm_08_grass7/PERMANENT/cell_misc/streams_derived/range\n",
            "nc_spm_08_grass7/PERMANENT/cell_misc/streams_derived/null\n",
            "nc_spm_08_grass7/PERMANENT/cell_misc/cfactorgrow_1m/\n",
            "nc_spm_08_grass7/PERMANENT/cell_misc/cfactorgrow_1m/null\n",
            "nc_spm_08_grass7/PERMANENT/cell_misc/cfactorgrow_1m/f_range\n",
            "nc_spm_08_grass7/PERMANENT/cell_misc/cfactorgrow_1m/f_format\n",
            "nc_spm_08_grass7/PERMANENT/cell_misc/cfactorgrow_1m/f_quant\n",
            "nc_spm_08_grass7/PERMANENT/cell_misc/elev_lid792_1m/\n",
            "nc_spm_08_grass7/PERMANENT/cell_misc/elev_lid792_1m/null\n",
            "nc_spm_08_grass7/PERMANENT/cell_misc/elev_lid792_1m/f_range\n",
            "nc_spm_08_grass7/PERMANENT/cell_misc/elev_lid792_1m/f_format\n",
            "nc_spm_08_grass7/PERMANENT/cell_misc/elev_lid792_1m/f_quant\n",
            "nc_spm_08_grass7/PERMANENT/cell_misc/boundary_county_500m/\n",
            "nc_spm_08_grass7/PERMANENT/cell_misc/boundary_county_500m/null\n",
            "nc_spm_08_grass7/PERMANENT/cell_misc/boundary_county_500m/f_range\n",
            "nc_spm_08_grass7/PERMANENT/cell_misc/boundary_county_500m/f_format\n",
            "nc_spm_08_grass7/PERMANENT/cell_misc/boundary_county_500m/f_quant\n",
            "nc_spm_08_grass7/PERMANENT/cell_misc/el_D782_6m/\n",
            "nc_spm_08_grass7/PERMANENT/cell_misc/el_D782_6m/null\n",
            "nc_spm_08_grass7/PERMANENT/cell_misc/el_D782_6m/f_range\n",
            "nc_spm_08_grass7/PERMANENT/cell_misc/el_D782_6m/f_format\n",
            "nc_spm_08_grass7/PERMANENT/cell_misc/el_D782_6m/f_quant\n",
            "nc_spm_08_grass7/PERMANENT/cell_misc/urban/\n",
            "nc_spm_08_grass7/PERMANENT/cell_misc/urban/range\n",
            "nc_spm_08_grass7/PERMANENT/cell_misc/urban/null\n",
            "nc_spm_08_grass7/PERMANENT/cell_misc/basin_50K/\n",
            "nc_spm_08_grass7/PERMANENT/cell_misc/basin_50K/range\n",
            "nc_spm_08_grass7/PERMANENT/cell_misc/basin_50K/null\n",
            "nc_spm_08_grass7/PERMANENT/cell_misc/lsat7_2002_62/\n",
            "nc_spm_08_grass7/PERMANENT/cell_misc/lsat7_2002_62/range\n",
            "nc_spm_08_grass7/PERMANENT/cell_misc/lsat7_2002_62/null\n",
            "nc_spm_08_grass7/PERMANENT/cell_misc/slope/\n",
            "nc_spm_08_grass7/PERMANENT/cell_misc/slope/null\n",
            "nc_spm_08_grass7/PERMANENT/cell_misc/slope/f_range\n",
            "nc_spm_08_grass7/PERMANENT/cell_misc/slope/f_format\n",
            "nc_spm_08_grass7/PERMANENT/cell_misc/slope/f_quant\n",
            "nc_spm_08_grass7/PERMANENT/cell_misc/elevation/\n",
            "nc_spm_08_grass7/PERMANENT/cell_misc/elevation/null\n",
            "nc_spm_08_grass7/PERMANENT/cell_misc/elevation/f_range\n",
            "nc_spm_08_grass7/PERMANENT/cell_misc/elevation/f_format\n",
            "nc_spm_08_grass7/PERMANENT/cell_misc/elevation/f_quant\n",
            "nc_spm_08_grass7/PERMANENT/cell_misc/geology_30m/\n",
            "nc_spm_08_grass7/PERMANENT/cell_misc/geology_30m/range\n",
            "nc_spm_08_grass7/PERMANENT/cell_misc/geology_30m/null\n",
            "nc_spm_08_grass7/PERMANENT/cell_misc/elev_srtm_30m/\n",
            "nc_spm_08_grass7/PERMANENT/cell_misc/elev_srtm_30m/null\n",
            "nc_spm_08_grass7/PERMANENT/cell_misc/elev_srtm_30m/f_range\n",
            "nc_spm_08_grass7/PERMANENT/cell_misc/elev_srtm_30m/f_format\n",
            "nc_spm_08_grass7/PERMANENT/cell_misc/elev_srtm_30m/f_quant\n",
            "nc_spm_08_grass7/PERMANENT/cell_misc/ncmask_500m/\n",
            "nc_spm_08_grass7/PERMANENT/cell_misc/ncmask_500m/range\n",
            "nc_spm_08_grass7/PERMANENT/cell_misc/ncmask_500m/null\n",
            "nc_spm_08_grass7/PERMANENT/cell_misc/landclass96/\n",
            "nc_spm_08_grass7/PERMANENT/cell_misc/landclass96/range\n",
            "nc_spm_08_grass7/PERMANENT/cell_misc/el_D792_6m/\n",
            "nc_spm_08_grass7/PERMANENT/cell_misc/el_D792_6m/null\n",
            "nc_spm_08_grass7/PERMANENT/cell_misc/el_D792_6m/f_range\n",
            "nc_spm_08_grass7/PERMANENT/cell_misc/el_D792_6m/f_format\n",
            "nc_spm_08_grass7/PERMANENT/cell_misc/el_D792_6m/f_quant\n",
            "nc_spm_08_grass7/PERMANENT/cell_misc/aspect/\n",
            "nc_spm_08_grass7/PERMANENT/cell_misc/aspect/null\n",
            "nc_spm_08_grass7/PERMANENT/cell_misc/aspect/f_range\n",
            "nc_spm_08_grass7/PERMANENT/cell_misc/aspect/f_format\n",
            "nc_spm_08_grass7/PERMANENT/cell_misc/aspect/f_quant\n",
            "nc_spm_08_grass7/PERMANENT/cell_misc/zipcodes_dbl/\n",
            "nc_spm_08_grass7/PERMANENT/cell_misc/zipcodes_dbl/null\n",
            "nc_spm_08_grass7/PERMANENT/cell_misc/zipcodes_dbl/f_range\n",
            "nc_spm_08_grass7/PERMANENT/cell_misc/zipcodes_dbl/f_format\n",
            "nc_spm_08_grass7/PERMANENT/cell_misc/zipcodes_dbl/f_quant\n",
            "nc_spm_08_grass7/PERMANENT/cell_misc/towns/\n",
            "nc_spm_08_grass7/PERMANENT/cell_misc/towns/range\n",
            "nc_spm_08_grass7/PERMANENT/cell_misc/el_D793_6m/\n",
            "nc_spm_08_grass7/PERMANENT/cell_misc/el_D793_6m/null\n",
            "nc_spm_08_grass7/PERMANENT/cell_misc/el_D793_6m/f_range\n",
            "nc_spm_08_grass7/PERMANENT/cell_misc/el_D793_6m/f_format\n",
            "nc_spm_08_grass7/PERMANENT/cell_misc/el_D793_6m/f_quant\n",
            "nc_spm_08_grass7/PERMANENT/cell_misc/lsat7_2002_61/\n",
            "nc_spm_08_grass7/PERMANENT/cell_misc/lsat7_2002_61/range\n",
            "nc_spm_08_grass7/PERMANENT/cell_misc/lsat7_2002_61/null\n",
            "nc_spm_08_grass7/PERMANENT/cell_misc/landuse96_28m/\n",
            "nc_spm_08_grass7/PERMANENT/cell_misc/landuse96_28m/range\n",
            "nc_spm_08_grass7/PERMANENT/cell_misc/landuse96_28m/null\n",
            "nc_spm_08_grass7/PERMANENT/cell_misc/landuse96_28m/histogram\n",
            "nc_spm_08_grass7/PERMANENT/cell_misc/lsat7_2002_40/\n",
            "nc_spm_08_grass7/PERMANENT/cell_misc/lsat7_2002_40/range\n",
            "nc_spm_08_grass7/PERMANENT/cell_misc/lsat7_2002_40/null\n",
            "nc_spm_08_grass7/PERMANENT/cell_misc/elev_state_500m/\n",
            "nc_spm_08_grass7/PERMANENT/cell_misc/elev_state_500m/null\n",
            "nc_spm_08_grass7/PERMANENT/cell_misc/elev_state_500m/f_range\n",
            "nc_spm_08_grass7/PERMANENT/cell_misc/elev_state_500m/f_format\n",
            "nc_spm_08_grass7/PERMANENT/cell_misc/elev_state_500m/f_quant\n",
            "nc_spm_08_grass7/PERMANENT/cell_misc/roadsmajor/\n",
            "nc_spm_08_grass7/PERMANENT/cell_misc/roadsmajor/range\n",
            "nc_spm_08_grass7/PERMANENT/cell_misc/roadsmajor/null\n",
            "nc_spm_08_grass7/PERMANENT/windows/\n",
            "nc_spm_08_grass7/PERMANENT/windows/previous_zoom\n",
            "nc_spm_08_grass7/PERMANENT/windows/wake_30m\n",
            "nc_spm_08_grass7/PERMANENT/windows/rural_1m\n",
            "nc_spm_08_grass7/PERMANENT/windows/swwake_10m\n",
            "nc_spm_08_grass7/PERMANENT/windows/swwake_30m\n",
            "nc_spm_08_grass7/PERMANENT/windows/nc_500m\n",
            "nc_spm_08_grass7/PERMANENT/fcell/\n",
            "nc_spm_08_grass7/PERMANENT/fcell/cfactorbare_1m\n",
            "nc_spm_08_grass7/PERMANENT/fcell/elevation_shade\n",
            "nc_spm_08_grass7/PERMANENT/fcell/soils_Kfactor\n",
            "nc_spm_08_grass7/PERMANENT/fcell/el_D783_6m\n",
            "nc_spm_08_grass7/PERMANENT/fcell/elev_ned_30m\n",
            "nc_spm_08_grass7/PERMANENT/fcell/cfactorgrow_1m\n",
            "nc_spm_08_grass7/PERMANENT/fcell/elev_lid792_1m\n",
            "nc_spm_08_grass7/PERMANENT/fcell/boundary_county_500m\n",
            "nc_spm_08_grass7/PERMANENT/fcell/el_D782_6m\n",
            "nc_spm_08_grass7/PERMANENT/fcell/slope\n",
            "nc_spm_08_grass7/PERMANENT/fcell/elevation\n",
            "nc_spm_08_grass7/PERMANENT/fcell/elev_srtm_30m\n",
            "nc_spm_08_grass7/PERMANENT/fcell/el_D792_6m\n",
            "nc_spm_08_grass7/PERMANENT/fcell/aspect\n",
            "nc_spm_08_grass7/PERMANENT/fcell/zipcodes_dbl\n",
            "nc_spm_08_grass7/PERMANENT/fcell/el_D793_6m\n",
            "nc_spm_08_grass7/PERMANENT/fcell/elev_state_500m\n",
            "nc_spm_08_grass7/PERMANENT/hist/\n",
            "nc_spm_08_grass7/PERMANENT/hist/landcover_1m\n",
            "nc_spm_08_grass7/PERMANENT/hist/zipcodes\n",
            "nc_spm_08_grass7/PERMANENT/hist/lsat7_2002_20\n",
            "nc_spm_08_grass7/PERMANENT/hist/cfactorbare_1m\n",
            "nc_spm_08_grass7/PERMANENT/hist/lsat7_2002_50\n",
            "nc_spm_08_grass7/PERMANENT/hist/ortho_2001_t792_1m\n",
            "nc_spm_08_grass7/PERMANENT/hist/facility\n",
            "nc_spm_08_grass7/PERMANENT/hist/soilsID\n",
            "nc_spm_08_grass7/PERMANENT/hist/lsat7_2002_80\n",
            "nc_spm_08_grass7/PERMANENT/hist/elevation_shade\n",
            "nc_spm_08_grass7/PERMANENT/hist/soils_Kfactor\n",
            "nc_spm_08_grass7/PERMANENT/hist/lsat7_2002_70\n",
            "nc_spm_08_grass7/PERMANENT/hist/lsat7_2002_30\n",
            "nc_spm_08_grass7/PERMANENT/hist/lsat7_2002_10\n",
            "nc_spm_08_grass7/PERMANENT/hist/el_D783_6m\n",
            "nc_spm_08_grass7/PERMANENT/hist/lakes\n",
            "nc_spm_08_grass7/PERMANENT/hist/elev_ned_30m\n",
            "nc_spm_08_grass7/PERMANENT/hist/streams_derived\n",
            "nc_spm_08_grass7/PERMANENT/hist/cfactorgrow_1m\n",
            "nc_spm_08_grass7/PERMANENT/hist/elev_lid792_1m\n",
            "nc_spm_08_grass7/PERMANENT/hist/boundary_county_500m\n",
            "nc_spm_08_grass7/PERMANENT/hist/el_D782_6m\n",
            "nc_spm_08_grass7/PERMANENT/hist/urban\n",
            "nc_spm_08_grass7/PERMANENT/hist/basin_50K\n",
            "nc_spm_08_grass7/PERMANENT/hist/lsat7_2002_62\n",
            "nc_spm_08_grass7/PERMANENT/hist/slope\n",
            "nc_spm_08_grass7/PERMANENT/hist/elevation\n",
            "nc_spm_08_grass7/PERMANENT/hist/geology_30m\n",
            "nc_spm_08_grass7/PERMANENT/hist/elev_srtm_30m\n",
            "nc_spm_08_grass7/PERMANENT/hist/ncmask_500m\n",
            "nc_spm_08_grass7/PERMANENT/hist/landclass96\n",
            "nc_spm_08_grass7/PERMANENT/hist/el_D792_6m\n",
            "nc_spm_08_grass7/PERMANENT/hist/aspect\n",
            "nc_spm_08_grass7/PERMANENT/hist/zipcodes_dbl\n",
            "nc_spm_08_grass7/PERMANENT/hist/towns\n",
            "nc_spm_08_grass7/PERMANENT/hist/el_D793_6m\n",
            "nc_spm_08_grass7/PERMANENT/hist/lsat7_2002_61\n",
            "nc_spm_08_grass7/PERMANENT/hist/landuse96_28m\n",
            "nc_spm_08_grass7/PERMANENT/hist/lsat7_2002_40\n",
            "nc_spm_08_grass7/PERMANENT/hist/elev_state_500m\n",
            "nc_spm_08_grass7/PERMANENT/hist/roadsmajor\n",
            "nc_spm_08_grass7/PERMANENT/DEFAULT_WIND\n",
            "nc_spm_08_grass7/PERMANENT/PROJ_INFO\n",
            "nc_spm_08_grass7/PERMANENT/sqlite/\n",
            "nc_spm_08_grass7/PERMANENT/sqlite/sqlite.db\n",
            "nc_spm_08_grass7/PERMANENT/vector/\n",
            "nc_spm_08_grass7/PERMANENT/vector/boundary_county/\n",
            "nc_spm_08_grass7/PERMANENT/vector/boundary_county/head\n",
            "nc_spm_08_grass7/PERMANENT/vector/boundary_county/topo\n",
            "nc_spm_08_grass7/PERMANENT/vector/boundary_county/sidx\n",
            "nc_spm_08_grass7/PERMANENT/vector/boundary_county/dbln\n",
            "nc_spm_08_grass7/PERMANENT/vector/boundary_county/hist\n",
            "nc_spm_08_grass7/PERMANENT/vector/boundary_county/cidx\n",
            "nc_spm_08_grass7/PERMANENT/vector/boundary_county/coor\n",
            "nc_spm_08_grass7/PERMANENT/vector/busroute1/\n",
            "nc_spm_08_grass7/PERMANENT/vector/busroute1/head\n",
            "nc_spm_08_grass7/PERMANENT/vector/busroute1/topo\n",
            "nc_spm_08_grass7/PERMANENT/vector/busroute1/sidx\n",
            "nc_spm_08_grass7/PERMANENT/vector/busroute1/dbln\n",
            "nc_spm_08_grass7/PERMANENT/vector/busroute1/hist\n",
            "nc_spm_08_grass7/PERMANENT/vector/busroute1/cidx\n",
            "nc_spm_08_grass7/PERMANENT/vector/busroute1/coor\n",
            "nc_spm_08_grass7/PERMANENT/vector/P079218/\n",
            "nc_spm_08_grass7/PERMANENT/vector/P079218/head\n",
            "nc_spm_08_grass7/PERMANENT/vector/P079218/topo\n",
            "nc_spm_08_grass7/PERMANENT/vector/P079218/sidx\n",
            "nc_spm_08_grass7/PERMANENT/vector/P079218/dbln\n",
            "nc_spm_08_grass7/PERMANENT/vector/P079218/hist\n",
            "nc_spm_08_grass7/PERMANENT/vector/P079218/cidx\n",
            "nc_spm_08_grass7/PERMANENT/vector/P079218/coor\n",
            "nc_spm_08_grass7/PERMANENT/vector/nc_state/\n",
            "nc_spm_08_grass7/PERMANENT/vector/nc_state/head\n",
            "nc_spm_08_grass7/PERMANENT/vector/nc_state/topo\n",
            "nc_spm_08_grass7/PERMANENT/vector/nc_state/sidx\n",
            "nc_spm_08_grass7/PERMANENT/vector/nc_state/dbln\n",
            "nc_spm_08_grass7/PERMANENT/vector/nc_state/hist\n",
            "nc_spm_08_grass7/PERMANENT/vector/nc_state/cidx\n",
            "nc_spm_08_grass7/PERMANENT/vector/nc_state/coor\n",
            "nc_spm_08_grass7/PERMANENT/vector/geodetic_pts/\n",
            "nc_spm_08_grass7/PERMANENT/vector/geodetic_pts/head\n",
            "nc_spm_08_grass7/PERMANENT/vector/geodetic_pts/topo\n",
            "nc_spm_08_grass7/PERMANENT/vector/geodetic_pts/sidx\n",
            "nc_spm_08_grass7/PERMANENT/vector/geodetic_pts/dbln\n",
            "nc_spm_08_grass7/PERMANENT/vector/geodetic_pts/hist\n",
            "nc_spm_08_grass7/PERMANENT/vector/geodetic_pts/cidx\n",
            "nc_spm_08_grass7/PERMANENT/vector/geodetic_pts/coor\n",
            "nc_spm_08_grass7/PERMANENT/vector/elev_lid792_bepts/\n",
            "nc_spm_08_grass7/PERMANENT/vector/elev_lid792_bepts/head\n",
            "nc_spm_08_grass7/PERMANENT/vector/elev_lid792_bepts/topo\n",
            "nc_spm_08_grass7/PERMANENT/vector/elev_lid792_bepts/sidx\n",
            "nc_spm_08_grass7/PERMANENT/vector/elev_lid792_bepts/dbln\n",
            "nc_spm_08_grass7/PERMANENT/vector/elev_lid792_bepts/hist\n",
            "nc_spm_08_grass7/PERMANENT/vector/elev_lid792_bepts/cidx\n",
            "nc_spm_08_grass7/PERMANENT/vector/elev_lid792_bepts/coor\n",
            "nc_spm_08_grass7/PERMANENT/vector/P079214/\n",
            "nc_spm_08_grass7/PERMANENT/vector/P079214/head\n",
            "nc_spm_08_grass7/PERMANENT/vector/P079214/topo\n",
            "nc_spm_08_grass7/PERMANENT/vector/P079214/sidx\n",
            "nc_spm_08_grass7/PERMANENT/vector/P079214/dbln\n",
            "nc_spm_08_grass7/PERMANENT/vector/P079214/hist\n",
            "nc_spm_08_grass7/PERMANENT/vector/P079214/cidx\n",
            "nc_spm_08_grass7/PERMANENT/vector/P079214/coor\n",
            "nc_spm_08_grass7/PERMANENT/vector/comm_colleges/\n",
            "nc_spm_08_grass7/PERMANENT/vector/comm_colleges/head\n",
            "nc_spm_08_grass7/PERMANENT/vector/comm_colleges/topo\n",
            "nc_spm_08_grass7/PERMANENT/vector/comm_colleges/sidx\n",
            "nc_spm_08_grass7/PERMANENT/vector/comm_colleges/dbln\n",
            "nc_spm_08_grass7/PERMANENT/vector/comm_colleges/hist\n",
            "nc_spm_08_grass7/PERMANENT/vector/comm_colleges/cidx\n",
            "nc_spm_08_grass7/PERMANENT/vector/comm_colleges/coor\n",
            "nc_spm_08_grass7/PERMANENT/vector/busstopsall/\n",
            "nc_spm_08_grass7/PERMANENT/vector/busstopsall/head\n",
            "nc_spm_08_grass7/PERMANENT/vector/busstopsall/topo\n",
            "nc_spm_08_grass7/PERMANENT/vector/busstopsall/sidx\n",
            "nc_spm_08_grass7/PERMANENT/vector/busstopsall/dbln\n",
            "nc_spm_08_grass7/PERMANENT/vector/busstopsall/hist\n",
            "nc_spm_08_grass7/PERMANENT/vector/busstopsall/cidx\n",
            "nc_spm_08_grass7/PERMANENT/vector/busstopsall/coor\n",
            "nc_spm_08_grass7/PERMANENT/vector/geology/\n",
            "nc_spm_08_grass7/PERMANENT/vector/geology/head\n",
            "nc_spm_08_grass7/PERMANENT/vector/geology/topo\n",
            "nc_spm_08_grass7/PERMANENT/vector/geology/sidx\n",
            "nc_spm_08_grass7/PERMANENT/vector/geology/dbln\n",
            "nc_spm_08_grass7/PERMANENT/vector/geology/hist\n",
            "nc_spm_08_grass7/PERMANENT/vector/geology/cidx\n",
            "nc_spm_08_grass7/PERMANENT/vector/geology/coor\n",
            "nc_spm_08_grass7/PERMANENT/vector/census_wake2000/\n",
            "nc_spm_08_grass7/PERMANENT/vector/census_wake2000/head\n",
            "nc_spm_08_grass7/PERMANENT/vector/census_wake2000/topo\n",
            "nc_spm_08_grass7/PERMANENT/vector/census_wake2000/sidx\n",
            "nc_spm_08_grass7/PERMANENT/vector/census_wake2000/dbln\n",
            "nc_spm_08_grass7/PERMANENT/vector/census_wake2000/hist\n",
            "nc_spm_08_grass7/PERMANENT/vector/census_wake2000/cidx\n",
            "nc_spm_08_grass7/PERMANENT/vector/census_wake2000/coor\n",
            "nc_spm_08_grass7/PERMANENT/vector/lakes/\n",
            "nc_spm_08_grass7/PERMANENT/vector/lakes/head\n",
            "nc_spm_08_grass7/PERMANENT/vector/lakes/topo\n",
            "nc_spm_08_grass7/PERMANENT/vector/lakes/sidx\n",
            "nc_spm_08_grass7/PERMANENT/vector/lakes/dbln\n",
            "nc_spm_08_grass7/PERMANENT/vector/lakes/hist\n",
            "nc_spm_08_grass7/PERMANENT/vector/lakes/cidx\n",
            "nc_spm_08_grass7/PERMANENT/vector/lakes/coor\n",
            "nc_spm_08_grass7/PERMANENT/vector/poi_names_wake/\n",
            "nc_spm_08_grass7/PERMANENT/vector/poi_names_wake/head\n",
            "nc_spm_08_grass7/PERMANENT/vector/poi_names_wake/topo\n",
            "nc_spm_08_grass7/PERMANENT/vector/poi_names_wake/sidx\n",
            "nc_spm_08_grass7/PERMANENT/vector/poi_names_wake/dbln\n",
            "nc_spm_08_grass7/PERMANENT/vector/poi_names_wake/hist\n",
            "nc_spm_08_grass7/PERMANENT/vector/poi_names_wake/cidx\n",
            "nc_spm_08_grass7/PERMANENT/vector/poi_names_wake/coor\n",
            "nc_spm_08_grass7/PERMANENT/vector/busroute_a/\n",
            "nc_spm_08_grass7/PERMANENT/vector/busroute_a/head\n",
            "nc_spm_08_grass7/PERMANENT/vector/busroute_a/topo\n",
            "nc_spm_08_grass7/PERMANENT/vector/busroute_a/sidx\n",
            "nc_spm_08_grass7/PERMANENT/vector/busroute_a/dbln\n",
            "nc_spm_08_grass7/PERMANENT/vector/busroute_a/hist\n",
            "nc_spm_08_grass7/PERMANENT/vector/busroute_a/cidx\n",
            "nc_spm_08_grass7/PERMANENT/vector/busroute_a/coor\n",
            "nc_spm_08_grass7/PERMANENT/vector/P079219/\n",
            "nc_spm_08_grass7/PERMANENT/vector/P079219/head\n",
            "nc_spm_08_grass7/PERMANENT/vector/P079219/topo\n",
            "nc_spm_08_grass7/PERMANENT/vector/P079219/sidx\n",
            "nc_spm_08_grass7/PERMANENT/vector/P079219/dbln\n",
            "nc_spm_08_grass7/PERMANENT/vector/P079219/hist\n",
            "nc_spm_08_grass7/PERMANENT/vector/P079219/cidx\n",
            "nc_spm_08_grass7/PERMANENT/vector/P079219/coor\n",
            "nc_spm_08_grass7/PERMANENT/vector/geonames_NC/\n",
            "nc_spm_08_grass7/PERMANENT/vector/geonames_NC/head\n",
            "nc_spm_08_grass7/PERMANENT/vector/geonames_NC/topo\n",
            "nc_spm_08_grass7/PERMANENT/vector/geonames_NC/sidx\n",
            "nc_spm_08_grass7/PERMANENT/vector/geonames_NC/dbln\n",
            "nc_spm_08_grass7/PERMANENT/vector/geonames_NC/hist\n",
            "nc_spm_08_grass7/PERMANENT/vector/geonames_NC/cidx\n",
            "nc_spm_08_grass7/PERMANENT/vector/geonames_NC/coor\n",
            "nc_spm_08_grass7/PERMANENT/vector/elev_lidrural_mrptsft/\n",
            "nc_spm_08_grass7/PERMANENT/vector/elev_lidrural_mrptsft/head\n",
            "nc_spm_08_grass7/PERMANENT/vector/elev_lidrural_mrptsft/topo\n",
            "nc_spm_08_grass7/PERMANENT/vector/elev_lidrural_mrptsft/sidx\n",
            "nc_spm_08_grass7/PERMANENT/vector/elev_lidrural_mrptsft/dbln\n",
            "nc_spm_08_grass7/PERMANENT/vector/elev_lidrural_mrptsft/hist\n",
            "nc_spm_08_grass7/PERMANENT/vector/elev_lidrural_mrptsft/cidx\n",
            "nc_spm_08_grass7/PERMANENT/vector/elev_lidrural_mrptsft/coor\n",
            "nc_spm_08_grass7/PERMANENT/vector/overpasses/\n",
            "nc_spm_08_grass7/PERMANENT/vector/overpasses/head\n",
            "nc_spm_08_grass7/PERMANENT/vector/overpasses/topo\n",
            "nc_spm_08_grass7/PERMANENT/vector/overpasses/sidx\n",
            "nc_spm_08_grass7/PERMANENT/vector/overpasses/dbln\n",
            "nc_spm_08_grass7/PERMANENT/vector/overpasses/hist\n",
            "nc_spm_08_grass7/PERMANENT/vector/overpasses/cidx\n",
            "nc_spm_08_grass7/PERMANENT/vector/overpasses/coor\n",
            "nc_spm_08_grass7/PERMANENT/vector/streams/\n",
            "nc_spm_08_grass7/PERMANENT/vector/streams/head\n",
            "nc_spm_08_grass7/PERMANENT/vector/streams/topo\n",
            "nc_spm_08_grass7/PERMANENT/vector/streams/sidx\n",
            "nc_spm_08_grass7/PERMANENT/vector/streams/dbln\n",
            "nc_spm_08_grass7/PERMANENT/vector/streams/hist\n",
            "nc_spm_08_grass7/PERMANENT/vector/streams/cidx\n",
            "nc_spm_08_grass7/PERMANENT/vector/streams/coor\n",
            "nc_spm_08_grass7/PERMANENT/vector/precip_30ynormals/\n",
            "nc_spm_08_grass7/PERMANENT/vector/precip_30ynormals/head\n",
            "nc_spm_08_grass7/PERMANENT/vector/precip_30ynormals/topo\n",
            "nc_spm_08_grass7/PERMANENT/vector/precip_30ynormals/sidx\n",
            "nc_spm_08_grass7/PERMANENT/vector/precip_30ynormals/dbln\n",
            "nc_spm_08_grass7/PERMANENT/vector/precip_30ynormals/hist\n",
            "nc_spm_08_grass7/PERMANENT/vector/precip_30ynormals/cidx\n",
            "nc_spm_08_grass7/PERMANENT/vector/precip_30ynormals/coor\n",
            "nc_spm_08_grass7/PERMANENT/vector/streets_wake/\n",
            "nc_spm_08_grass7/PERMANENT/vector/streets_wake/head\n",
            "nc_spm_08_grass7/PERMANENT/vector/streets_wake/topo\n",
            "nc_spm_08_grass7/PERMANENT/vector/streets_wake/sidx\n",
            "nc_spm_08_grass7/PERMANENT/vector/streets_wake/dbln\n",
            "nc_spm_08_grass7/PERMANENT/vector/streets_wake/hist\n",
            "nc_spm_08_grass7/PERMANENT/vector/streets_wake/cidx\n",
            "nc_spm_08_grass7/PERMANENT/vector/streets_wake/coor\n",
            "nc_spm_08_grass7/PERMANENT/vector/P079215/\n",
            "nc_spm_08_grass7/PERMANENT/vector/P079215/head\n",
            "nc_spm_08_grass7/PERMANENT/vector/P079215/topo\n",
            "nc_spm_08_grass7/PERMANENT/vector/P079215/sidx\n",
            "nc_spm_08_grass7/PERMANENT/vector/P079215/dbln\n",
            "nc_spm_08_grass7/PERMANENT/vector/P079215/hist\n",
            "nc_spm_08_grass7/PERMANENT/vector/P079215/cidx\n",
            "nc_spm_08_grass7/PERMANENT/vector/P079215/coor\n",
            "nc_spm_08_grass7/PERMANENT/vector/swwake_10m/\n",
            "nc_spm_08_grass7/PERMANENT/vector/swwake_10m/head\n",
            "nc_spm_08_grass7/PERMANENT/vector/swwake_10m/topo\n",
            "nc_spm_08_grass7/PERMANENT/vector/swwake_10m/sidx\n",
            "nc_spm_08_grass7/PERMANENT/vector/swwake_10m/dbln\n",
            "nc_spm_08_grass7/PERMANENT/vector/swwake_10m/hist\n",
            "nc_spm_08_grass7/PERMANENT/vector/swwake_10m/cidx\n",
            "nc_spm_08_grass7/PERMANENT/vector/swwake_10m/coor\n",
            "nc_spm_08_grass7/PERMANENT/vector/firestations/\n",
            "nc_spm_08_grass7/PERMANENT/vector/firestations/head\n",
            "nc_spm_08_grass7/PERMANENT/vector/firestations/topo\n",
            "nc_spm_08_grass7/PERMANENT/vector/firestations/sidx\n",
            "nc_spm_08_grass7/PERMANENT/vector/firestations/dbln\n",
            "nc_spm_08_grass7/PERMANENT/vector/firestations/hist\n",
            "nc_spm_08_grass7/PERMANENT/vector/firestations/cidx\n",
            "nc_spm_08_grass7/PERMANENT/vector/firestations/coor\n",
            "nc_spm_08_grass7/PERMANENT/vector/elev_ned10m_cont10m/\n",
            "nc_spm_08_grass7/PERMANENT/vector/elev_ned10m_cont10m/head\n",
            "nc_spm_08_grass7/PERMANENT/vector/elev_ned10m_cont10m/topo\n",
            "nc_spm_08_grass7/PERMANENT/vector/elev_ned10m_cont10m/sidx\n",
            "nc_spm_08_grass7/PERMANENT/vector/elev_ned10m_cont10m/dbln\n",
            "nc_spm_08_grass7/PERMANENT/vector/elev_ned10m_cont10m/hist\n",
            "nc_spm_08_grass7/PERMANENT/vector/elev_ned10m_cont10m/cidx\n",
            "nc_spm_08_grass7/PERMANENT/vector/elev_ned10m_cont10m/coor\n",
            "nc_spm_08_grass7/PERMANENT/vector/geodetic_swwake_pts/\n",
            "nc_spm_08_grass7/PERMANENT/vector/geodetic_swwake_pts/head\n",
            "nc_spm_08_grass7/PERMANENT/vector/geodetic_swwake_pts/topo\n",
            "nc_spm_08_grass7/PERMANENT/vector/geodetic_swwake_pts/sidx\n",
            "nc_spm_08_grass7/PERMANENT/vector/geodetic_swwake_pts/dbln\n",
            "nc_spm_08_grass7/PERMANENT/vector/geodetic_swwake_pts/hist\n",
            "nc_spm_08_grass7/PERMANENT/vector/geodetic_swwake_pts/cidx\n",
            "nc_spm_08_grass7/PERMANENT/vector/geodetic_swwake_pts/coor\n",
            "nc_spm_08_grass7/PERMANENT/vector/precip_30ynormals_3d/\n",
            "nc_spm_08_grass7/PERMANENT/vector/precip_30ynormals_3d/head\n",
            "nc_spm_08_grass7/PERMANENT/vector/precip_30ynormals_3d/topo\n",
            "nc_spm_08_grass7/PERMANENT/vector/precip_30ynormals_3d/sidx\n",
            "nc_spm_08_grass7/PERMANENT/vector/precip_30ynormals_3d/dbln\n",
            "nc_spm_08_grass7/PERMANENT/vector/precip_30ynormals_3d/hist\n",
            "nc_spm_08_grass7/PERMANENT/vector/precip_30ynormals_3d/cidx\n",
            "nc_spm_08_grass7/PERMANENT/vector/precip_30ynormals_3d/coor\n",
            "nc_spm_08_grass7/PERMANENT/vector/elev_lidrural_mrpts/\n",
            "nc_spm_08_grass7/PERMANENT/vector/elev_lidrural_mrpts/head\n",
            "nc_spm_08_grass7/PERMANENT/vector/elev_lidrural_mrpts/topo\n",
            "nc_spm_08_grass7/PERMANENT/vector/elev_lidrural_mrpts/sidx\n",
            "nc_spm_08_grass7/PERMANENT/vector/elev_lidrural_mrpts/dbln\n",
            "nc_spm_08_grass7/PERMANENT/vector/elev_lidrural_mrpts/hist\n",
            "nc_spm_08_grass7/PERMANENT/vector/elev_lidrural_mrpts/cidx\n",
            "nc_spm_08_grass7/PERMANENT/vector/elev_lidrural_mrpts/coor\n",
            "nc_spm_08_grass7/PERMANENT/vector/elev_lid792_cont1m/\n",
            "nc_spm_08_grass7/PERMANENT/vector/elev_lid792_cont1m/head\n",
            "nc_spm_08_grass7/PERMANENT/vector/elev_lid792_cont1m/topo\n",
            "nc_spm_08_grass7/PERMANENT/vector/elev_lid792_cont1m/sidx\n",
            "nc_spm_08_grass7/PERMANENT/vector/elev_lid792_cont1m/dbln\n",
            "nc_spm_08_grass7/PERMANENT/vector/elev_lid792_cont1m/hist\n",
            "nc_spm_08_grass7/PERMANENT/vector/elev_lid792_cont1m/cidx\n",
            "nc_spm_08_grass7/PERMANENT/vector/elev_lid792_cont1m/coor\n",
            "nc_spm_08_grass7/PERMANENT/vector/urbanarea/\n",
            "nc_spm_08_grass7/PERMANENT/vector/urbanarea/head\n",
            "nc_spm_08_grass7/PERMANENT/vector/urbanarea/topo\n",
            "nc_spm_08_grass7/PERMANENT/vector/urbanarea/sidx\n",
            "nc_spm_08_grass7/PERMANENT/vector/urbanarea/dbln\n",
            "nc_spm_08_grass7/PERMANENT/vector/urbanarea/hist\n",
            "nc_spm_08_grass7/PERMANENT/vector/urbanarea/cidx\n",
            "nc_spm_08_grass7/PERMANENT/vector/urbanarea/coor\n",
            "nc_spm_08_grass7/PERMANENT/vector/hospitals/\n",
            "nc_spm_08_grass7/PERMANENT/vector/hospitals/head\n",
            "nc_spm_08_grass7/PERMANENT/vector/hospitals/topo\n",
            "nc_spm_08_grass7/PERMANENT/vector/hospitals/sidx\n",
            "nc_spm_08_grass7/PERMANENT/vector/hospitals/dbln\n",
            "nc_spm_08_grass7/PERMANENT/vector/hospitals/hist\n",
            "nc_spm_08_grass7/PERMANENT/vector/hospitals/cidx\n",
            "nc_spm_08_grass7/PERMANENT/vector/hospitals/coor\n",
            "nc_spm_08_grass7/PERMANENT/vector/soils_wake/\n",
            "nc_spm_08_grass7/PERMANENT/vector/soils_wake/head\n",
            "nc_spm_08_grass7/PERMANENT/vector/soils_wake/topo\n",
            "nc_spm_08_grass7/PERMANENT/vector/soils_wake/sidx\n",
            "nc_spm_08_grass7/PERMANENT/vector/soils_wake/dbln\n",
            "nc_spm_08_grass7/PERMANENT/vector/soils_wake/hist\n",
            "nc_spm_08_grass7/PERMANENT/vector/soils_wake/cidx\n",
            "nc_spm_08_grass7/PERMANENT/vector/soils_wake/coor\n",
            "nc_spm_08_grass7/PERMANENT/vector/usgsgages/\n",
            "nc_spm_08_grass7/PERMANENT/vector/usgsgages/head\n",
            "nc_spm_08_grass7/PERMANENT/vector/usgsgages/topo\n",
            "nc_spm_08_grass7/PERMANENT/vector/usgsgages/sidx\n",
            "nc_spm_08_grass7/PERMANENT/vector/usgsgages/dbln\n",
            "nc_spm_08_grass7/PERMANENT/vector/usgsgages/hist\n",
            "nc_spm_08_grass7/PERMANENT/vector/usgsgages/cidx\n",
            "nc_spm_08_grass7/PERMANENT/vector/usgsgages/coor\n",
            "nc_spm_08_grass7/PERMANENT/vector/zipcodes_wake/\n",
            "nc_spm_08_grass7/PERMANENT/vector/zipcodes_wake/head\n",
            "nc_spm_08_grass7/PERMANENT/vector/zipcodes_wake/topo\n",
            "nc_spm_08_grass7/PERMANENT/vector/zipcodes_wake/sidx\n",
            "nc_spm_08_grass7/PERMANENT/vector/zipcodes_wake/dbln\n",
            "nc_spm_08_grass7/PERMANENT/vector/zipcodes_wake/hist\n",
            "nc_spm_08_grass7/PERMANENT/vector/zipcodes_wake/cidx\n",
            "nc_spm_08_grass7/PERMANENT/vector/zipcodes_wake/coor\n",
            "nc_spm_08_grass7/PERMANENT/vector/busroute11/\n",
            "nc_spm_08_grass7/PERMANENT/vector/busroute11/head\n",
            "nc_spm_08_grass7/PERMANENT/vector/busroute11/topo\n",
            "nc_spm_08_grass7/PERMANENT/vector/busroute11/sidx\n",
            "nc_spm_08_grass7/PERMANENT/vector/busroute11/dbln\n",
            "nc_spm_08_grass7/PERMANENT/vector/busroute11/hist\n",
            "nc_spm_08_grass7/PERMANENT/vector/busroute11/cidx\n",
            "nc_spm_08_grass7/PERMANENT/vector/busroute11/coor\n",
            "nc_spm_08_grass7/PERMANENT/vector/bridges/\n",
            "nc_spm_08_grass7/PERMANENT/vector/bridges/head\n",
            "nc_spm_08_grass7/PERMANENT/vector/bridges/topo\n",
            "nc_spm_08_grass7/PERMANENT/vector/bridges/sidx\n",
            "nc_spm_08_grass7/PERMANENT/vector/bridges/dbln\n",
            "nc_spm_08_grass7/PERMANENT/vector/bridges/hist\n",
            "nc_spm_08_grass7/PERMANENT/vector/bridges/cidx\n",
            "nc_spm_08_grass7/PERMANENT/vector/bridges/coor\n",
            "nc_spm_08_grass7/PERMANENT/vector/geonames_wake/\n",
            "nc_spm_08_grass7/PERMANENT/vector/geonames_wake/head\n",
            "nc_spm_08_grass7/PERMANENT/vector/geonames_wake/topo\n",
            "nc_spm_08_grass7/PERMANENT/vector/geonames_wake/sidx\n",
            "nc_spm_08_grass7/PERMANENT/vector/geonames_wake/dbln\n",
            "nc_spm_08_grass7/PERMANENT/vector/geonames_wake/hist\n",
            "nc_spm_08_grass7/PERMANENT/vector/geonames_wake/cidx\n",
            "nc_spm_08_grass7/PERMANENT/vector/geonames_wake/coor\n",
            "nc_spm_08_grass7/PERMANENT/vector/busroutesall/\n",
            "nc_spm_08_grass7/PERMANENT/vector/busroutesall/head\n",
            "nc_spm_08_grass7/PERMANENT/vector/busroutesall/topo\n",
            "nc_spm_08_grass7/PERMANENT/vector/busroutesall/sidx\n",
            "nc_spm_08_grass7/PERMANENT/vector/busroutesall/dbln\n",
            "nc_spm_08_grass7/PERMANENT/vector/busroutesall/hist\n",
            "nc_spm_08_grass7/PERMANENT/vector/busroutesall/cidx\n",
            "nc_spm_08_grass7/PERMANENT/vector/busroutesall/coor\n",
            "nc_spm_08_grass7/PERMANENT/vector/elev_lid792_randpts/\n",
            "nc_spm_08_grass7/PERMANENT/vector/elev_lid792_randpts/head\n",
            "nc_spm_08_grass7/PERMANENT/vector/elev_lid792_randpts/topo\n",
            "nc_spm_08_grass7/PERMANENT/vector/elev_lid792_randpts/sidx\n",
            "nc_spm_08_grass7/PERMANENT/vector/elev_lid792_randpts/dbln\n",
            "nc_spm_08_grass7/PERMANENT/vector/elev_lid792_randpts/hist\n",
            "nc_spm_08_grass7/PERMANENT/vector/elev_lid792_randpts/cidx\n",
            "nc_spm_08_grass7/PERMANENT/vector/elev_lid792_randpts/coor\n",
            "nc_spm_08_grass7/PERMANENT/vector/railroads/\n",
            "nc_spm_08_grass7/PERMANENT/vector/railroads/head\n",
            "nc_spm_08_grass7/PERMANENT/vector/railroads/topo\n",
            "nc_spm_08_grass7/PERMANENT/vector/railroads/sidx\n",
            "nc_spm_08_grass7/PERMANENT/vector/railroads/dbln\n",
            "nc_spm_08_grass7/PERMANENT/vector/railroads/hist\n",
            "nc_spm_08_grass7/PERMANENT/vector/railroads/cidx\n",
            "nc_spm_08_grass7/PERMANENT/vector/railroads/coor\n",
            "nc_spm_08_grass7/PERMANENT/vector/boundary_municp/\n",
            "nc_spm_08_grass7/PERMANENT/vector/boundary_municp/head\n",
            "nc_spm_08_grass7/PERMANENT/vector/boundary_municp/topo\n",
            "nc_spm_08_grass7/PERMANENT/vector/boundary_municp/sidx\n",
            "nc_spm_08_grass7/PERMANENT/vector/boundary_municp/dbln\n",
            "nc_spm_08_grass7/PERMANENT/vector/boundary_municp/hist\n",
            "nc_spm_08_grass7/PERMANENT/vector/boundary_municp/cidx\n",
            "nc_spm_08_grass7/PERMANENT/vector/boundary_municp/coor\n",
            "nc_spm_08_grass7/PERMANENT/vector/schools_wake/\n",
            "nc_spm_08_grass7/PERMANENT/vector/schools_wake/head\n",
            "nc_spm_08_grass7/PERMANENT/vector/schools_wake/topo\n",
            "nc_spm_08_grass7/PERMANENT/vector/schools_wake/sidx\n",
            "nc_spm_08_grass7/PERMANENT/vector/schools_wake/dbln\n",
            "nc_spm_08_grass7/PERMANENT/vector/schools_wake/hist\n",
            "nc_spm_08_grass7/PERMANENT/vector/schools_wake/cidx\n",
            "nc_spm_08_grass7/PERMANENT/vector/schools_wake/coor\n",
            "nc_spm_08_grass7/PERMANENT/vector/busroute6/\n",
            "nc_spm_08_grass7/PERMANENT/vector/busroute6/head\n",
            "nc_spm_08_grass7/PERMANENT/vector/busroute6/topo\n",
            "nc_spm_08_grass7/PERMANENT/vector/busroute6/sidx\n",
            "nc_spm_08_grass7/PERMANENT/vector/busroute6/dbln\n",
            "nc_spm_08_grass7/PERMANENT/vector/busroute6/hist\n",
            "nc_spm_08_grass7/PERMANENT/vector/busroute6/cidx\n",
            "nc_spm_08_grass7/PERMANENT/vector/busroute6/coor\n",
            "nc_spm_08_grass7/PERMANENT/vector/censusblk_swwake/\n",
            "nc_spm_08_grass7/PERMANENT/vector/censusblk_swwake/head\n",
            "nc_spm_08_grass7/PERMANENT/vector/censusblk_swwake/topo\n",
            "nc_spm_08_grass7/PERMANENT/vector/censusblk_swwake/sidx\n",
            "nc_spm_08_grass7/PERMANENT/vector/censusblk_swwake/dbln\n",
            "nc_spm_08_grass7/PERMANENT/vector/censusblk_swwake/hist\n",
            "nc_spm_08_grass7/PERMANENT/vector/censusblk_swwake/cidx\n",
            "nc_spm_08_grass7/PERMANENT/vector/censusblk_swwake/coor\n",
            "nc_spm_08_grass7/PERMANENT/vector/soils_general/\n",
            "nc_spm_08_grass7/PERMANENT/vector/soils_general/head\n",
            "nc_spm_08_grass7/PERMANENT/vector/soils_general/topo\n",
            "nc_spm_08_grass7/PERMANENT/vector/soils_general/sidx\n",
            "nc_spm_08_grass7/PERMANENT/vector/soils_general/dbln\n",
            "nc_spm_08_grass7/PERMANENT/vector/soils_general/hist\n",
            "nc_spm_08_grass7/PERMANENT/vector/soils_general/cidx\n",
            "nc_spm_08_grass7/PERMANENT/vector/soils_general/coor\n",
            "nc_spm_08_grass7/PERMANENT/vector/roadsmajor/\n",
            "nc_spm_08_grass7/PERMANENT/vector/roadsmajor/head\n",
            "nc_spm_08_grass7/PERMANENT/vector/roadsmajor/topo\n",
            "nc_spm_08_grass7/PERMANENT/vector/roadsmajor/sidx\n",
            "nc_spm_08_grass7/PERMANENT/vector/roadsmajor/dbln\n",
            "nc_spm_08_grass7/PERMANENT/vector/roadsmajor/hist\n",
            "nc_spm_08_grass7/PERMANENT/vector/roadsmajor/cidx\n",
            "nc_spm_08_grass7/PERMANENT/vector/roadsmajor/coor\n",
            "nc_spm_08_grass7/PERMANENT/cell/\n",
            "nc_spm_08_grass7/PERMANENT/cell/landcover_1m\n",
            "nc_spm_08_grass7/PERMANENT/cell/zipcodes\n",
            "nc_spm_08_grass7/PERMANENT/cell/lsat7_2002_20\n",
            "nc_spm_08_grass7/PERMANENT/cell/cfactorbare_1m\n",
            "nc_spm_08_grass7/PERMANENT/cell/lsat7_2002_50\n",
            "nc_spm_08_grass7/PERMANENT/cell/ortho_2001_t792_1m\n",
            "nc_spm_08_grass7/PERMANENT/cell/facility\n",
            "nc_spm_08_grass7/PERMANENT/cell/soilsID\n",
            "nc_spm_08_grass7/PERMANENT/cell/lsat7_2002_80\n",
            "nc_spm_08_grass7/PERMANENT/cell/elevation_shade\n",
            "nc_spm_08_grass7/PERMANENT/cell/soils_Kfactor\n",
            "nc_spm_08_grass7/PERMANENT/cell/lsat7_2002_70\n",
            "nc_spm_08_grass7/PERMANENT/cell/lsat7_2002_30\n",
            "nc_spm_08_grass7/PERMANENT/cell/lsat7_2002_10\n",
            "nc_spm_08_grass7/PERMANENT/cell/el_D783_6m\n",
            "nc_spm_08_grass7/PERMANENT/cell/lakes\n",
            "nc_spm_08_grass7/PERMANENT/cell/elev_ned_30m\n",
            "nc_spm_08_grass7/PERMANENT/cell/streams_derived\n",
            "nc_spm_08_grass7/PERMANENT/cell/cfactorgrow_1m\n",
            "nc_spm_08_grass7/PERMANENT/cell/elev_lid792_1m\n",
            "nc_spm_08_grass7/PERMANENT/cell/boundary_county_500m\n",
            "nc_spm_08_grass7/PERMANENT/cell/el_D782_6m\n",
            "nc_spm_08_grass7/PERMANENT/cell/urban\n",
            "nc_spm_08_grass7/PERMANENT/cell/basin_50K\n",
            "nc_spm_08_grass7/PERMANENT/cell/lsat7_2002_62\n",
            "nc_spm_08_grass7/PERMANENT/cell/slope\n",
            "nc_spm_08_grass7/PERMANENT/cell/elevation\n",
            "nc_spm_08_grass7/PERMANENT/cell/geology_30m\n",
            "nc_spm_08_grass7/PERMANENT/cell/elev_srtm_30m\n",
            "nc_spm_08_grass7/PERMANENT/cell/ncmask_500m\n",
            "nc_spm_08_grass7/PERMANENT/cell/landclass96\n",
            "nc_spm_08_grass7/PERMANENT/cell/el_D792_6m\n",
            "nc_spm_08_grass7/PERMANENT/cell/aspect\n",
            "nc_spm_08_grass7/PERMANENT/cell/zipcodes_dbl\n",
            "nc_spm_08_grass7/PERMANENT/cell/towns\n",
            "nc_spm_08_grass7/PERMANENT/cell/el_D793_6m\n",
            "nc_spm_08_grass7/PERMANENT/cell/lsat7_2002_61\n",
            "nc_spm_08_grass7/PERMANENT/cell/landuse96_28m\n",
            "nc_spm_08_grass7/PERMANENT/cell/lsat7_2002_40\n",
            "nc_spm_08_grass7/PERMANENT/cell/elev_state_500m\n",
            "nc_spm_08_grass7/PERMANENT/cell/roadsmajor\n",
            "nc_spm_08_grass7/PERMANENT/PROJ_EPSG\n",
            "nc_spm_08_grass7/user1/\n",
            "nc_spm_08_grass7/user1/cellhd/\n",
            "nc_spm_08_grass7/user1/g3dcell/\n",
            "nc_spm_08_grass7/user1/VAR\n",
            "nc_spm_08_grass7/user1/cats/\n",
            "nc_spm_08_grass7/user1/SEARCH_PATH\n",
            "nc_spm_08_grass7/user1/WIND\n",
            "nc_spm_08_grass7/user1/colr/\n",
            "nc_spm_08_grass7/user1/cell_misc/\n",
            "nc_spm_08_grass7/user1/fcell/\n",
            "nc_spm_08_grass7/user1/hist/\n",
            "nc_spm_08_grass7/user1/colr2/\n",
            "nc_spm_08_grass7/user1/sqlite/\n",
            "nc_spm_08_grass7/user1/vector/\n",
            "nc_spm_08_grass7/user1/cell/\n",
            "nc_spm_08_grass7/CREDITS.txt\n",
            "nc_spm_08_grass7/landsat/\n",
            "nc_spm_08_grass7/landsat/cellhd/\n",
            "nc_spm_08_grass7/landsat/cellhd/lsat7_2000_20\n",
            "nc_spm_08_grass7/landsat/cellhd/lsat5_1987_60\n",
            "nc_spm_08_grass7/landsat/cellhd/lsat7_2000_50\n",
            "nc_spm_08_grass7/landsat/cellhd/lsat5_1987_40\n",
            "nc_spm_08_grass7/landsat/cellhd/lsat5_1987_20\n",
            "nc_spm_08_grass7/landsat/cellhd/lsat5_1987_70\n",
            "nc_spm_08_grass7/landsat/cellhd/lsat5_1987_50\n",
            "nc_spm_08_grass7/landsat/cellhd/lsat7_2000_70\n",
            "nc_spm_08_grass7/landsat/cellhd/lsat7_2000_40\n",
            "nc_spm_08_grass7/landsat/cellhd/lsat7_2000_80\n",
            "nc_spm_08_grass7/landsat/cellhd/lsat5_1987_30\n",
            "nc_spm_08_grass7/landsat/cellhd/lsat7_2000_30\n",
            "nc_spm_08_grass7/landsat/cellhd/lsat7_2000_10\n",
            "nc_spm_08_grass7/landsat/cellhd/lsat7_2000_61\n",
            "nc_spm_08_grass7/landsat/cellhd/lsat5_1987_10\n",
            "nc_spm_08_grass7/landsat/g3dcell/\n",
            "nc_spm_08_grass7/landsat/VAR\n",
            "nc_spm_08_grass7/landsat/cats/\n",
            "nc_spm_08_grass7/landsat/cats/lsat7_2000_20\n",
            "nc_spm_08_grass7/landsat/cats/lsat5_1987_60\n",
            "nc_spm_08_grass7/landsat/cats/lsat7_2000_50\n",
            "nc_spm_08_grass7/landsat/cats/lsat5_1987_40\n",
            "nc_spm_08_grass7/landsat/cats/lsat5_1987_20\n",
            "nc_spm_08_grass7/landsat/cats/lsat5_1987_70\n",
            "nc_spm_08_grass7/landsat/cats/lsat5_1987_50\n",
            "nc_spm_08_grass7/landsat/cats/lsat7_2000_70\n",
            "nc_spm_08_grass7/landsat/cats/lsat7_2000_40\n",
            "nc_spm_08_grass7/landsat/cats/lsat7_2000_80\n",
            "nc_spm_08_grass7/landsat/cats/lsat5_1987_30\n",
            "nc_spm_08_grass7/landsat/cats/lsat7_2000_30\n",
            "nc_spm_08_grass7/landsat/cats/lsat7_2000_10\n",
            "nc_spm_08_grass7/landsat/cats/lsat7_2000_61\n",
            "nc_spm_08_grass7/landsat/cats/lsat5_1987_10\n",
            "nc_spm_08_grass7/landsat/group/\n",
            "nc_spm_08_grass7/landsat/group/lsat7_2000/\n",
            "nc_spm_08_grass7/landsat/group/lsat7_2000/REF\n",
            "nc_spm_08_grass7/landsat/WIND\n",
            "nc_spm_08_grass7/landsat/colr/\n",
            "nc_spm_08_grass7/landsat/colr/lsat7_2000_20\n",
            "nc_spm_08_grass7/landsat/colr/lsat5_1987_60\n",
            "nc_spm_08_grass7/landsat/colr/lsat7_2000_50\n",
            "nc_spm_08_grass7/landsat/colr/lsat5_1987_40\n",
            "nc_spm_08_grass7/landsat/colr/lsat5_1987_20\n",
            "nc_spm_08_grass7/landsat/colr/lsat5_1987_70\n",
            "nc_spm_08_grass7/landsat/colr/lsat5_1987_50\n",
            "nc_spm_08_grass7/landsat/colr/lsat7_2000_70\n",
            "nc_spm_08_grass7/landsat/colr/lsat7_2000_40\n",
            "nc_spm_08_grass7/landsat/colr/lsat7_2000_80\n",
            "nc_spm_08_grass7/landsat/colr/lsat5_1987_30\n",
            "nc_spm_08_grass7/landsat/colr/lsat7_2000_30\n",
            "nc_spm_08_grass7/landsat/colr/lsat7_2000_10\n",
            "nc_spm_08_grass7/landsat/colr/lsat7_2000_61\n",
            "nc_spm_08_grass7/landsat/colr/lsat5_1987_10\n",
            "nc_spm_08_grass7/landsat/cell_misc/\n",
            "nc_spm_08_grass7/landsat/cell_misc/lsat7_2000_20/\n",
            "nc_spm_08_grass7/landsat/cell_misc/lsat7_2000_20/range\n",
            "nc_spm_08_grass7/landsat/cell_misc/lsat7_2000_20/null\n",
            "nc_spm_08_grass7/landsat/cell_misc/lsat7_2000_20/timestamp\n",
            "nc_spm_08_grass7/landsat/cell_misc/lsat5_1987_60/\n",
            "nc_spm_08_grass7/landsat/cell_misc/lsat5_1987_60/range\n",
            "nc_spm_08_grass7/landsat/cell_misc/lsat5_1987_60/null\n",
            "nc_spm_08_grass7/landsat/cell_misc/lsat5_1987_60/timestamp\n",
            "nc_spm_08_grass7/landsat/cell_misc/lsat7_2000_50/\n",
            "nc_spm_08_grass7/landsat/cell_misc/lsat7_2000_50/range\n",
            "nc_spm_08_grass7/landsat/cell_misc/lsat7_2000_50/null\n",
            "nc_spm_08_grass7/landsat/cell_misc/lsat7_2000_50/timestamp\n",
            "nc_spm_08_grass7/landsat/cell_misc/lsat5_1987_40/\n",
            "nc_spm_08_grass7/landsat/cell_misc/lsat5_1987_40/range\n",
            "nc_spm_08_grass7/landsat/cell_misc/lsat5_1987_40/null\n",
            "nc_spm_08_grass7/landsat/cell_misc/lsat5_1987_40/timestamp\n",
            "nc_spm_08_grass7/landsat/cell_misc/lsat5_1987_20/\n",
            "nc_spm_08_grass7/landsat/cell_misc/lsat5_1987_20/range\n",
            "nc_spm_08_grass7/landsat/cell_misc/lsat5_1987_20/null\n",
            "nc_spm_08_grass7/landsat/cell_misc/lsat5_1987_20/timestamp\n",
            "nc_spm_08_grass7/landsat/cell_misc/lsat5_1987_70/\n",
            "nc_spm_08_grass7/landsat/cell_misc/lsat5_1987_70/range\n",
            "nc_spm_08_grass7/landsat/cell_misc/lsat5_1987_70/null\n",
            "nc_spm_08_grass7/landsat/cell_misc/lsat5_1987_70/timestamp\n",
            "nc_spm_08_grass7/landsat/cell_misc/lsat5_1987_50/\n",
            "nc_spm_08_grass7/landsat/cell_misc/lsat5_1987_50/range\n",
            "nc_spm_08_grass7/landsat/cell_misc/lsat5_1987_50/null\n",
            "nc_spm_08_grass7/landsat/cell_misc/lsat5_1987_50/timestamp\n",
            "nc_spm_08_grass7/landsat/cell_misc/lsat7_2000_70/\n",
            "nc_spm_08_grass7/landsat/cell_misc/lsat7_2000_70/range\n",
            "nc_spm_08_grass7/landsat/cell_misc/lsat7_2000_70/null\n",
            "nc_spm_08_grass7/landsat/cell_misc/lsat7_2000_70/timestamp\n",
            "nc_spm_08_grass7/landsat/cell_misc/lsat7_2000_40/\n",
            "nc_spm_08_grass7/landsat/cell_misc/lsat7_2000_40/range\n",
            "nc_spm_08_grass7/landsat/cell_misc/lsat7_2000_40/null\n",
            "nc_spm_08_grass7/landsat/cell_misc/lsat7_2000_40/timestamp\n",
            "nc_spm_08_grass7/landsat/cell_misc/lsat7_2000_80/\n",
            "nc_spm_08_grass7/landsat/cell_misc/lsat7_2000_80/range\n",
            "nc_spm_08_grass7/landsat/cell_misc/lsat7_2000_80/null\n",
            "nc_spm_08_grass7/landsat/cell_misc/lsat7_2000_80/timestamp\n",
            "nc_spm_08_grass7/landsat/cell_misc/lsat5_1987_30/\n",
            "nc_spm_08_grass7/landsat/cell_misc/lsat5_1987_30/range\n",
            "nc_spm_08_grass7/landsat/cell_misc/lsat5_1987_30/null\n",
            "nc_spm_08_grass7/landsat/cell_misc/lsat5_1987_30/timestamp\n",
            "nc_spm_08_grass7/landsat/cell_misc/lsat7_2000_30/\n",
            "nc_spm_08_grass7/landsat/cell_misc/lsat7_2000_30/range\n",
            "nc_spm_08_grass7/landsat/cell_misc/lsat7_2000_30/null\n",
            "nc_spm_08_grass7/landsat/cell_misc/lsat7_2000_30/timestamp\n",
            "nc_spm_08_grass7/landsat/cell_misc/lsat7_2000_10/\n",
            "nc_spm_08_grass7/landsat/cell_misc/lsat7_2000_10/range\n",
            "nc_spm_08_grass7/landsat/cell_misc/lsat7_2000_10/null\n",
            "nc_spm_08_grass7/landsat/cell_misc/lsat7_2000_10/timestamp\n",
            "nc_spm_08_grass7/landsat/cell_misc/lsat7_2000_61/\n",
            "nc_spm_08_grass7/landsat/cell_misc/lsat7_2000_61/range\n",
            "nc_spm_08_grass7/landsat/cell_misc/lsat7_2000_61/null\n",
            "nc_spm_08_grass7/landsat/cell_misc/lsat7_2000_61/timestamp\n",
            "nc_spm_08_grass7/landsat/cell_misc/lsat5_1987_10/\n",
            "nc_spm_08_grass7/landsat/cell_misc/lsat5_1987_10/range\n",
            "nc_spm_08_grass7/landsat/cell_misc/lsat5_1987_10/null\n",
            "nc_spm_08_grass7/landsat/cell_misc/lsat5_1987_10/timestamp\n",
            "nc_spm_08_grass7/landsat/fcell/\n",
            "nc_spm_08_grass7/landsat/hist/\n",
            "nc_spm_08_grass7/landsat/hist/lsat7_2000_20\n",
            "nc_spm_08_grass7/landsat/hist/lsat5_1987_60\n",
            "nc_spm_08_grass7/landsat/hist/lsat7_2000_50\n",
            "nc_spm_08_grass7/landsat/hist/lsat5_1987_40\n",
            "nc_spm_08_grass7/landsat/hist/lsat5_1987_20\n",
            "nc_spm_08_grass7/landsat/hist/lsat5_1987_70\n",
            "nc_spm_08_grass7/landsat/hist/lsat5_1987_50\n",
            "nc_spm_08_grass7/landsat/hist/lsat7_2000_70\n",
            "nc_spm_08_grass7/landsat/hist/lsat7_2000_40\n",
            "nc_spm_08_grass7/landsat/hist/lsat7_2000_80\n",
            "nc_spm_08_grass7/landsat/hist/lsat5_1987_30\n",
            "nc_spm_08_grass7/landsat/hist/lsat7_2000_30\n",
            "nc_spm_08_grass7/landsat/hist/lsat7_2000_10\n",
            "nc_spm_08_grass7/landsat/hist/lsat7_2000_61\n",
            "nc_spm_08_grass7/landsat/hist/lsat5_1987_10\n",
            "nc_spm_08_grass7/landsat/sqlite/\n",
            "nc_spm_08_grass7/landsat/cell/\n",
            "nc_spm_08_grass7/landsat/cell/lsat7_2000_20\n",
            "nc_spm_08_grass7/landsat/cell/lsat5_1987_60\n",
            "nc_spm_08_grass7/landsat/cell/lsat7_2000_50\n",
            "nc_spm_08_grass7/landsat/cell/lsat5_1987_40\n",
            "nc_spm_08_grass7/landsat/cell/lsat5_1987_20\n",
            "nc_spm_08_grass7/landsat/cell/lsat5_1987_70\n",
            "nc_spm_08_grass7/landsat/cell/lsat5_1987_50\n",
            "nc_spm_08_grass7/landsat/cell/lsat7_2000_70\n",
            "nc_spm_08_grass7/landsat/cell/lsat7_2000_40\n",
            "nc_spm_08_grass7/landsat/cell/lsat7_2000_80\n",
            "nc_spm_08_grass7/landsat/cell/lsat5_1987_30\n",
            "nc_spm_08_grass7/landsat/cell/lsat7_2000_30\n",
            "nc_spm_08_grass7/landsat/cell/lsat7_2000_10\n",
            "nc_spm_08_grass7/landsat/cell/lsat7_2000_61\n",
            "nc_spm_08_grass7/landsat/cell/lsat5_1987_10\n",
            "nc_spm_08_grass7/HISTORY.txt\n"
          ],
          "name": "stdout"
        }
      ]
    },
    {
      "cell_type": "markdown",
      "metadata": {
        "id": "CFKb2Es9UQUf",
        "colab_type": "text"
      },
      "source": [
        "## Configure Python to Run GRASS\n",
        "Credited to  https://github.com/wenzeslaus/try-grass-in-jupyter"
      ]
    },
    {
      "cell_type": "code",
      "metadata": {
        "id": "7pBVfyMTEer3",
        "colab_type": "code",
        "colab": {}
      },
      "source": [
        "# import Python standard library and IPython packages we need\n",
        "import os\n",
        "import sys\n",
        "import subprocess\n",
        "from IPython.display import Image\n",
        "\n",
        "# ask GRASS GIS where its Python packages are\n",
        "gisbase= \"/usr/lib/grass78\"\n",
        "# gisbase = subprocess.check_output([\"grass78\", \"--config\", \"path\"]).strip()\n",
        "# print(gisbase)\n",
        "os.environ['GISBASE'] = gisbase\n",
        "\n",
        "sys.path.append(os.path.join(\"/usr/lib/grass78\", \"etc\", \"python\"))\n",
        "\n",
        "# import GRASS GIS packages we need\n",
        "import grass.script as gs\n",
        "import grass.script.setup as gsetup\n",
        "\n",
        "# create GRASS GIS session\n",
        "rcfile = gsetup.init(gisbase, \"/root/grassdata\", \"nc_spm_08_grass7\", \"user1\")\n",
        "\n",
        "# we want functions to raise exceptions and see standard output of the modules\n",
        "gs.set_raise_on_error(True)\n",
        "gs.set_capture_stderr(True)\n",
        "# simply overwrite existing maps like we overwrite Python variable values\n",
        "os.environ['GRASS_OVERWRITE'] = '1'\n",
        "# enable map rendering to in Jupyter Notebook\n",
        "os.environ['GRASS_FONT'] = 'sans'\n",
        "# set display modules to render into a file (named map.png by default)\n",
        "os.environ['GRASS_RENDER_IMMEDIATE'] = 'cairo'\n",
        "os.environ['GRASS_RENDER_FILE_READ'] = 'TRUE'\n",
        "os.environ['GRASS_LEGEND_FILE'] = 'legend.txt'\n"
      ],
      "execution_count": 0,
      "outputs": []
    },
    {
      "cell_type": "code",
      "metadata": {
        "id": "EzBq7yLiQkWP",
        "colab_type": "code",
        "colab": {}
      },
      "source": [
        ""
      ],
      "execution_count": 0,
      "outputs": []
    },
    {
      "cell_type": "markdown",
      "metadata": {
        "id": "0B8jIYSSNmtF",
        "colab_type": "text"
      },
      "source": [
        "### Raster buffer\n",
        "Set computational region and create multiple buffers in given distances around lakes represented as raster:"
      ]
    },
    {
      "cell_type": "code",
      "metadata": {
        "id": "s7F_VhKtNr6c",
        "colab_type": "code",
        "colab": {
          "base_uri": "https://localhost:8080/",
          "height": 497
        },
        "outputId": "ab77e328-7c05-49a1-ae1d-658af3eb9bab"
      },
      "source": [
        "gs.parse_command('g.region', raster=\"lakes\", flags='pg')\n",
        "gs.run_command('r.buffer', input=\"lakes\", output=\"lakes_buff\", distances=[60, 120, 240, 500])\n",
        "gs.run_command('d.erase')\n",
        "gs.run_command('d.rast', map=\"lakes_buff\")\n",
        "gs.run_command('d.legend', raster=\"lakes_buff\", range=(2, 5), at=(80, 100, 2, 10))\n",
        "Image(filename=\"map.png\")"
      ],
      "execution_count": 11,
      "outputs": [
        {
          "output_type": "execute_result",
          "data": {
            "image/png": "[encoded data removed]",
            "text/plain": [
              "<IPython.core.display.Image object>"
            ]
          },
          "metadata": {
            "tags": []
          },
          "execution_count": 11
        }
      ]
    },
    {
      "cell_type": "markdown",
      "metadata": {
        "id": "KeIdR83gS7CE",
        "colab_type": "text"
      },
      "source": [
        "### Vector buffer\n",
        "Create a negative buffer around state boundary represented as a vector. Vector modules typically don't follow computational region, but we set it to inform display modules about our area of interest."
      ]
    },
    {
      "cell_type": "code",
      "metadata": {
        "id": "3DY3tc8uL-pc",
        "colab_type": "code",
        "colab": {
          "base_uri": "https://localhost:8080/",
          "height": 497
        },
        "outputId": "9daa38b9-44a6-4e04-edc4-2cdaa17c20f9"
      },
      "source": [
        "gs.run_command('v.buffer', input=\"boundary_county\", output=\"buffer\", distance=-10000)\n",
        "gs.parse_command('g.region', vector=\"boundary_county\", flags='pg')\n",
        "gs.run_command('d.erase')  # erase the display before drawing again\n",
        "!rm -f $GRASS_LEGEND_FILE  # and remove the legend file\n",
        "gs.run_command('d.vect', map=\"boundary_county\", fill_color=\"#5A91ED\", legend_label=\"County boundary\")\n",
        "gs.run_command('d.vect', map=\"buffer\", fill_color=\"#F8766D\", legend_label=\"Inner portion\")\n",
        "gs.run_command('d.legend.vect', at=(10, 35))\n",
        "Image(filename=\"map.png\")"
      ],
      "execution_count": 12,
      "outputs": [
        {
          "output_type": "execute_result",
          "data": {
            "image/png": "[encoded data removed]",
            "text/plain": [
              "<IPython.core.display.Image object>"
            ]
          },
          "metadata": {
            "tags": []
          },
          "execution_count": 12
        }
      ]
    },
    {
      "cell_type": "code",
      "metadata": {
        "id": "ZSzS3nbUUrKM",
        "colab_type": "code",
        "colab": {
          "base_uri": "https://localhost:8080/",
          "height": 374
        },
        "outputId": "b120d278-30cd-4787-d2d8-5c7125ac7d50"
      },
      "source": [
        "gs.parse_command('g.list', type=\"vector\", flags=\"p\")\n"
      ],
      "execution_count": 13,
      "outputs": [
        {
          "output_type": "execute_result",
          "data": {
            "text/plain": [
              "{'': None,\n",
              " '----------------------------------------------': None,\n",
              " 'P079214                   elev_lid792_bepts         poi_names_wake': None,\n",
              " 'P079215                   elev_lid792_cont1m        precip_30ynormals': None,\n",
              " 'P079218                   elev_lid792_randpts       precip_30ynormals_3d': None,\n",
              " 'P079219                   elev_lidrural_mrpts       railroads': None,\n",
              " 'boundary_county           elev_lidrural_mrptsft     roadsmajor': None,\n",
              " 'boundary_municp           elev_ned10m_cont10m       schools_wake': None,\n",
              " 'bridges                   firestations              soils_general': None,\n",
              " 'buffer': None,\n",
              " 'busroute1                 geodetic_pts              soils_wake': None,\n",
              " 'busroute11                geodetic_swwake_pts       streams': None,\n",
              " 'busroute6                 geology                   streets_wake': None,\n",
              " 'busroute_a                geonames_NC               swwake_10m': None,\n",
              " 'busroutesall              geonames_wake             urbanarea': None,\n",
              " 'busstopsall               hospitals                 usgsgages': None,\n",
              " 'census_wake2000           lakes                     zipcodes_wake': None,\n",
              " 'censusblk_swwake          nc_state': None,\n",
              " 'comm_colleges             overpasses': None,\n",
              " 'vector files available in mapset <PERMANENT>:': None,\n",
              " 'vector files available in mapset <user1>:': None}"
            ]
          },
          "metadata": {
            "tags": []
          },
          "execution_count": 13
        }
      ]
    },
    {
      "cell_type": "markdown",
      "metadata": {
        "id": "MQsLiiQMaTHT",
        "colab_type": "text"
      },
      "source": [
        "# Combine Goolge Earth Eninge with GRASS"
      ]
    },
    {
      "cell_type": "code",
      "metadata": {
        "id": "RLj26EXMgGG_",
        "colab_type": "code",
        "colab": {}
      },
      "source": [
        "from google.colab import auth\n",
        "\n",
        "auth.authenticate_user()"
      ],
      "execution_count": 0,
      "outputs": []
    },
    {
      "cell_type": "markdown",
      "metadata": {
        "id": "rmqG4U4AbOKr",
        "colab_type": "text"
      },
      "source": [
        "## Export Data from Goolge Earth Engine"
      ]
    },
    {
      "cell_type": "code",
      "metadata": {
        "id": "N3YCnG8ybSDK",
        "colab_type": "code",
        "colab": {
          "base_uri": "https://localhost:8080/",
          "height": 80
        },
        "outputId": "316cc2f6-ca2b-4e77-861e-6eda0312a031"
      },
      "source": [
        "# Import libraries.\n",
        "import ee\n",
        "from IPython.display import Image\n",
        "import tensorflow as tf\n",
        "\n",
        "tf.enable_eager_execution()\n",
        "print(tf.__version__)\n",
        "\n",
        "# Initialize the Earth Engine library.\n",
        "ee.Initialize()\n",
        "\n",
        "imageFilePrefix = 'grass_elev_demo_'\n",
        "outputBucket = 'gee_default'\n",
        "# # # Make sure the bucket exists.\n",
        "# print('Found Cloud Storage bucket.' if tf.gfile.Exists('gs://' + outputBucket) \n",
        "#     else 'Output Cloud Storage bucket does not exist.')\n",
        "\n",
        "# Specify patch and file dimensions.\n",
        "imageExportFormatOptions = {\n",
        "  'patchDimensions': [256, 256],\n",
        "  'maxFileSize': 104857600,\n",
        "  'compressed': True\n",
        "}\n",
        "# var dataset = \n",
        "# var elevation = dataset.select('elevation');\n",
        "# elevationVis = {\n",
        "#   min: 0.0,\n",
        "#   max: 4000.0,\n",
        "#   gamma: 1.6,\n",
        "# };\n",
        "dataset = ee.Image('USGS/NED')\n",
        "image = dataset.select(\"elevation\")\n",
        "\n",
        "# Export imagery in this region.\n",
        "exportRegion = ee.Geometry.Rectangle([-122.7, 37.3, -121.8, 38.00])\n",
        "\n",
        "# Setup the task.\n",
        "imageTask = ee.batch.Export.image.toCloudStorage(\n",
        "  image=image,\n",
        "  description='Image Export',\n",
        "  fileNamePrefix=imageFilePrefix,\n",
        "  bucket=outputBucket,\n",
        "  scale=30,\n",
        "  fileFormat='GeoTIFF',\n",
        "  region=exportRegion.toGeoJSON()['coordinates']\n",
        ")\n",
        "imageTask.start()"
      ],
      "execution_count": 15,
      "outputs": [
        {
          "output_type": "display_data",
          "data": {
            "text/html": [
              "<p style=\"color: red;\">\n",
              "The default version of TensorFlow in Colab will soon switch to TensorFlow 2.x.<br>\n",
              "We recommend you <a href=\"https://www.tensorflow.org/guide/migrate\" target=\"_blank\">upgrade</a> now \n",
              "or ensure your notebook will continue to use TensorFlow 1.x via the <code>%tensorflow_version 1.x</code> magic:\n",
              "<a href=\"https://colab.research.google.com/notebooks/tensorflow_version.ipynb\" target=\"_blank\">more info</a>.</p>\n"
            ],
            "text/plain": [
              "<IPython.core.display.HTML object>"
            ]
          },
          "metadata": {
            "tags": []
          }
        },
        {
          "output_type": "stream",
          "text": [
            "1.15.0\n"
          ],
          "name": "stdout"
        }
      ]
    },
    {
      "cell_type": "markdown",
      "metadata": {
        "id": "iYhT0G4nd8yA",
        "colab_type": "text"
      },
      "source": [
        "### Check if export file exists"
      ]
    },
    {
      "cell_type": "code",
      "metadata": {
        "id": "vrJY4EhwaZE2",
        "colab_type": "code",
        "colab": {
          "base_uri": "https://localhost:8080/",
          "height": 34
        },
        "outputId": "61ffe8cf-9298-4d8d-ec4f-e1a3a6c4d1e2"
      },
      "source": [
        "import tensorflow as tf\n",
        "\n",
        "fileNameSuffix = '.tif'\n",
        "elevationFilePath = 'gs://' + outputBucket + '/' + imageFilePrefix + fileNameSuffix\n",
        "\n",
        "print('Found elevation file.' if tf.gfile.Exists(elevationFilePath) \n",
        "    else 'No elevation file found.')\n"
      ],
      "execution_count": 16,
      "outputs": [
        {
          "output_type": "stream",
          "text": [
            "Found elevation file.\n"
          ],
          "name": "stdout"
        }
      ]
    },
    {
      "cell_type": "markdown",
      "metadata": {
        "id": "QgZwtC8TinKt",
        "colab_type": "text"
      },
      "source": [
        "## Download Elevation Data From GCS"
      ]
    },
    {
      "cell_type": "code",
      "metadata": {
        "id": "-Kv61WcaimeI",
        "colab_type": "code",
        "colab": {
          "base_uri": "https://localhost:8080/",
          "height": 68
        },
        "outputId": "473234f4-a9ea-44f8-f360-d3319d6eb3f6"
      },
      "source": [
        "# Download the file from a given Google Cloud Storage bucket.\n",
        "!GCS_BUCKET_NAME=\"gee_default\"\n",
        "!gsutil cp gs://gee_default/grass_elev_demo_.tif /content/grass_elev_demo.tif\n"
      ],
      "execution_count": 17,
      "outputs": [
        {
          "output_type": "stream",
          "text": [
            "Copying gs://gee_default/grass_elev_demo_.tif...\n",
            "\\ [1 files][ 25.0 MiB/ 25.0 MiB]                                                \n",
            "Operation completed over 1 objects/25.0 MiB.                                     \n"
          ],
          "name": "stdout"
        }
      ]
    },
    {
      "cell_type": "markdown",
      "metadata": {
        "id": "Y6uHj9xfmiwy",
        "colab_type": "text"
      },
      "source": [
        "## Create WGS84 Location"
      ]
    },
    {
      "cell_type": "code",
      "metadata": {
        "id": "9QekrQmsmmsm",
        "colab_type": "code",
        "colab": {
          "base_uri": "https://localhost:8080/",
          "height": 85
        },
        "outputId": "644d4c03-2a2b-482e-a902-e4ddec0aefb7"
      },
      "source": [
        "!grass78 -c epsg:3857 /root/grassdata/google_earth_engine_3857 -e\n"
      ],
      "execution_count": 18,
      "outputs": [
        {
          "output_type": "stream",
          "text": [
            "Starting GRASS GIS...\n",
            "Creating new GRASS GIS location <google_earth_engine_3857>...\n",
            "Cleaning up temporary files...\n",
            "Cleaning up temporary files...\n"
          ],
          "name": "stdout"
        }
      ]
    },
    {
      "cell_type": "markdown",
      "metadata": {
        "id": "gACkprZXgaTI",
        "colab_type": "text"
      },
      "source": [
        "## Use elevation file with GRASS GIS"
      ]
    },
    {
      "cell_type": "code",
      "metadata": {
        "id": "ylzX8xACgg4x",
        "colab_type": "code",
        "colab": {}
      },
      "source": [
        "# import GRASS GIS packages we need\n",
        "import grass.script as gs\n",
        "import grass.script.setup as gsetup\n",
        "\n",
        "# create GRASS GIS session\n",
        "rcfile = gsetup.init(gisbase, \"/root/grassdata\", \"google_earth_engine_3857\", \"PERMANENT\")\n",
        "\n",
        "# we want functions to raise exceptions and see standard output of the modules\n",
        "gs.set_raise_on_error(True)\n",
        "gs.set_capture_stderr(True)\n",
        "# simply overwrite existing maps like we overwrite Python variable values\n",
        "os.environ['GRASS_OVERWRITE'] = '1'\n",
        "# enable map rendering to in Jupyter Notebook\n",
        "os.environ['GRASS_FONT'] = 'sans'\n",
        "# set display modules to render into a file (named map.png by default)\n",
        "os.environ['GRASS_RENDER_IMMEDIATE'] = 'cairo'\n",
        "os.environ['GRASS_RENDER_FILE_READ'] = 'TRUE'\n",
        "os.environ['GRASS_LEGEND_FILE'] = 'legend.txt'\n",
        "\n",
        "\n"
      ],
      "execution_count": 0,
      "outputs": []
    },
    {
      "cell_type": "markdown",
      "metadata": {
        "id": "t9-Kh4AM3Fbg",
        "colab_type": "text"
      },
      "source": [
        "Link elevation data from GEE to GRASS"
      ]
    },
    {
      "cell_type": "code",
      "metadata": {
        "id": "MUg1rliTgztz",
        "colab_type": "code",
        "colab": {
          "base_uri": "https://localhost:8080/",
          "height": 34
        },
        "outputId": "c9551885-1bc0-4d04-d7bd-dcb60b3f7ca6"
      },
      "source": [
        "gs.run_command('r.import', input=\"grass_elev_demo.tif\", output=\"usgs_ned1\", overwrite=True)"
      ],
      "execution_count": 20,
      "outputs": [
        {
          "output_type": "execute_result",
          "data": {
            "text/plain": [
              "0"
            ]
          },
          "metadata": {
            "tags": []
          },
          "execution_count": 20
        }
      ]
    },
    {
      "cell_type": "markdown",
      "metadata": {
        "id": "eimBymJS3APH",
        "colab_type": "text"
      },
      "source": [
        "Calculate Watershed and streams\n",
        "https://grasswiki.osgeo.org/wiki/From_GRASS_GIS_novice_to_power_user_(workshop_at_FOSS4G_Boston_2017)"
      ]
    },
    {
      "cell_type": "code",
      "metadata": {
        "id": "V_HhnCIDmwey",
        "colab_type": "code",
        "colab": {
          "base_uri": "https://localhost:8080/",
          "height": 102
        },
        "outputId": "57ba32ed-5241-403f-b5ac-ce7d5113d3db"
      },
      "source": [
        "print(gs.read_command('g.list', type=\"raster\", flags=\"p\"))"
      ],
      "execution_count": 21,
      "outputs": [
        {
          "output_type": "stream",
          "text": [
            "----------------------------------------------\n",
            "raster files available in mapset <PERMANENT>:\n",
            "usgs_ned1\n",
            "\n",
            "\n"
          ],
          "name": "stdout"
        }
      ]
    },
    {
      "cell_type": "code",
      "metadata": {
        "id": "6_Zf_kWIgzsg",
        "colab_type": "code",
        "colab": {
          "base_uri": "https://localhost:8080/",
          "height": 34
        },
        "outputId": "50dd0188-8d92-405f-846a-979479a63d08"
      },
      "source": [
        "\n",
        "\n",
        "gs.parse_command('g.region', raster=\"usgs_ned1\", flags='pg')\n",
        "#r.watershed elevation=elevation accumulation=flowacc drainage=drainage stream=streams threshold=10?0000\n",
        "gs.run_command('r.watershed', elevation=\"usgs_ned1\", accumulation=\"flowacc\", drainage=\"drainage\", stream=\"streams\", threshold=100000, overwrite=True)\n",
        "#r.to.vect input=streams output=streams type=line\n",
        "gs.run_command('r.to.vect', input=\"streams\", output=\"streams\", type=\"line\", overwrite=True)\n"
      ],
      "execution_count": 22,
      "outputs": [
        {
          "output_type": "execute_result",
          "data": {
            "text/plain": [
              "0"
            ]
          },
          "metadata": {
            "tags": []
          },
          "execution_count": 22
        }
      ]
    },
    {
      "cell_type": "markdown",
      "metadata": {
        "id": "bLTPmPrc4i2K",
        "colab_type": "text"
      },
      "source": [
        "Install SVN to download GRASS GIS extensions"
      ]
    },
    {
      "cell_type": "code",
      "metadata": {
        "id": "o0kr4w194fZk",
        "colab_type": "code",
        "colab": {
          "base_uri": "https://localhost:8080/",
          "height": 782
        },
        "outputId": "54190784-5814-48c0-9cd1-58edfcfffd65"
      },
      "source": [
        "!apt-get install subversion\n"
      ],
      "execution_count": 23,
      "outputs": [
        {
          "output_type": "stream",
          "text": [
            "Reading package lists... Done\n",
            "Building dependency tree       \n",
            "Reading state information... Done\n",
            "The following packages were automatically installed and are no longer required:\n",
            "  libarmadillo8 libarpack2 libsuperlu5\n",
            "Use 'apt autoremove' to remove them.\n",
            "The following additional packages will be installed:\n",
            "  libapr1 libaprutil1 libserf-1-1 libsvn1\n",
            "Suggested packages:\n",
            "  db5.3-util libapache2-mod-svn subversion-tools\n",
            "The following NEW packages will be installed:\n",
            "  libapr1 libaprutil1 libserf-1-1 libsvn1 subversion\n",
            "0 upgraded, 5 newly installed, 0 to remove and 37 not upgraded.\n",
            "Need to get 2,237 kB of archives.\n",
            "After this operation, 9,910 kB of additional disk space will be used.\n",
            "Get:1 http://archive.ubuntu.com/ubuntu bionic/main amd64 libapr1 amd64 1.6.3-2 [90.9 kB]\n",
            "Get:2 http://archive.ubuntu.com/ubuntu bionic/main amd64 libaprutil1 amd64 1.6.1-2 [84.4 kB]\n",
            "Get:3 http://archive.ubuntu.com/ubuntu bionic/universe amd64 libserf-1-1 amd64 1.3.9-6 [44.4 kB]\n",
            "Get:4 http://archive.ubuntu.com/ubuntu bionic/universe amd64 libsvn1 amd64 1.9.7-4ubuntu1 [1,183 kB]\n",
            "Get:5 http://archive.ubuntu.com/ubuntu bionic/universe amd64 subversion amd64 1.9.7-4ubuntu1 [834 kB]\n",
            "Fetched 2,237 kB in 0s (6,860 kB/s)\n",
            "Selecting previously unselected package libapr1:amd64.\n",
            "(Reading database ... 142210 files and directories currently installed.)\n",
            "Preparing to unpack .../libapr1_1.6.3-2_amd64.deb ...\n",
            "Unpacking libapr1:amd64 (1.6.3-2) ...\n",
            "Selecting previously unselected package libaprutil1:amd64.\n",
            "Preparing to unpack .../libaprutil1_1.6.1-2_amd64.deb ...\n",
            "Unpacking libaprutil1:amd64 (1.6.1-2) ...\n",
            "Selecting previously unselected package libserf-1-1:amd64.\n",
            "Preparing to unpack .../libserf-1-1_1.3.9-6_amd64.deb ...\n",
            "Unpacking libserf-1-1:amd64 (1.3.9-6) ...\n",
            "Selecting previously unselected package libsvn1:amd64.\n",
            "Preparing to unpack .../libsvn1_1.9.7-4ubuntu1_amd64.deb ...\n",
            "Unpacking libsvn1:amd64 (1.9.7-4ubuntu1) ...\n",
            "Selecting previously unselected package subversion.\n",
            "Preparing to unpack .../subversion_1.9.7-4ubuntu1_amd64.deb ...\n",
            "Unpacking subversion (1.9.7-4ubuntu1) ...\n",
            "Setting up libapr1:amd64 (1.6.3-2) ...\n",
            "Processing triggers for libc-bin (2.27-3ubuntu1) ...\n",
            "Setting up libaprutil1:amd64 (1.6.1-2) ...\n",
            "Processing triggers for man-db (2.8.3-2ubuntu0.1) ...\n",
            "Setting up libserf-1-1:amd64 (1.3.9-6) ...\n",
            "Setting up libsvn1:amd64 (1.9.7-4ubuntu1) ...\n",
            "Setting up subversion (1.9.7-4ubuntu1) ...\n",
            "Processing triggers for libc-bin (2.27-3ubuntu1) ...\n"
          ],
          "name": "stdout"
        }
      ]
    },
    {
      "cell_type": "markdown",
      "metadata": {
        "id": "gNDNK_1v5ruT",
        "colab_type": "text"
      },
      "source": [
        "Install grass-dev to install GRASS extensions in linux\n",
        "https://grass.osgeo.org/grass72/manuals/g.extension.html#error:-please-install-grass-development-package"
      ]
    },
    {
      "cell_type": "code",
      "metadata": {
        "id": "ukVeplQM5Sl4",
        "colab_type": "code",
        "colab": {
          "base_uri": "https://localhost:8080/",
          "height": 1000
        },
        "outputId": "a9432d56-8f5e-4030-bb1f-9d17ccf82945"
      },
      "source": [
        "!apt-get install grass-dev"
      ],
      "execution_count": 24,
      "outputs": [
        {
          "output_type": "stream",
          "text": [
            "Reading package lists... Done\n",
            "Building dependency tree       \n",
            "Reading state information... Done\n",
            "The following packages were automatically installed and are no longer required:\n",
            "  libgeos-3.6.2 libproj12\n",
            "Use 'apt autoremove' to remove them.\n",
            "The following additional packages will be installed:\n",
            "  default-libmysqlclient-dev fakeroot libarmadillo-dev libarpack2-dev\n",
            "  libblas-dev libblas3 libcharls-dev libdap-dev libdapserver7v5 libepsilon-dev\n",
            "  libfakeroot libfreexl-dev libfyba-dev libgdal-dev libgeos-3.7.1 libgeos-c1v5\n",
            "  libgeos-dev libgeotiff-dev libgeotiff2 libgif-dev libhdf4-alt-dev\n",
            "  libjson-c-dev libkml-dev libkmlconvenience1 libkmlregionator1 libkmlxsd1\n",
            "  libminizip-dev libmysqlclient-dev libnetcdf-dev libogdi-dev libopenjp2-7-dev\n",
            "  libpoppler-dev libpoppler-private-dev libpq-dev libproj-dev libqhull-dev\n",
            "  libqhull-r7 libspatialite-dev libspatialite7 libsqlite3-dev libsuperlu-dev\n",
            "  liburiparser-dev libwebp-dev libxerces-c-dev libzstd-dev libzstd1\n",
            "  unixodbc-dev\n",
            "Suggested packages:\n",
            "  grass-dev-doc libitpp-dev liblapack-doc libgdal-doc libgeotiff-epsg\n",
            "  geotiff-bin netcdf-bin netcdf-doc postgresql-doc-10 sqlite3-doc\n",
            "  libsuperlu-doc libxerces-c-doc\n",
            "The following NEW packages will be installed:\n",
            "  default-libmysqlclient-dev fakeroot grass-dev libarmadillo-dev\n",
            "  libarpack2-dev libblas-dev libblas3 libcharls-dev libdap-dev libdapserver7v5\n",
            "  libepsilon-dev libfakeroot libfreexl-dev libfyba-dev libgdal-dev\n",
            "  libgeos-3.7.1 libgeos-dev libgeotiff-dev libgif-dev libhdf4-alt-dev\n",
            "  libjson-c-dev libkml-dev libkmlconvenience1 libkmlregionator1 libkmlxsd1\n",
            "  libminizip-dev libmysqlclient-dev libnetcdf-dev libogdi-dev libopenjp2-7-dev\n",
            "  libpoppler-dev libpoppler-private-dev libpq-dev libproj-dev libqhull-dev\n",
            "  libqhull-r7 libspatialite-dev libsqlite3-dev libsuperlu-dev liburiparser-dev\n",
            "  libwebp-dev libxerces-c-dev libzstd-dev unixodbc-dev\n",
            "The following packages will be upgraded:\n",
            "  libgeos-c1v5 libgeotiff2 libspatialite7 libzstd1\n",
            "4 upgraded, 44 newly installed, 0 to remove and 33 not upgraded.\n",
            "Need to get 20.3 MB of archives.\n",
            "After this operation, 121 MB of additional disk space will be used.\n",
            "Get:1 http://archive.ubuntu.com/ubuntu bionic-updates/main amd64 libzstd1 amd64 1.3.3+dfsg-2ubuntu1.1 [189 kB]\n",
            "Get:2 http://ppa.launchpad.net/ubuntugis/ubuntugis-unstable/ubuntu bionic/main amd64 libgeos-3.7.1 amd64 3.7.1-1~bionic0 [485 kB]\n",
            "Get:3 http://archive.ubuntu.com/ubuntu bionic-updates/main amd64 libmysqlclient-dev amd64 5.7.27-0ubuntu0.18.04.1 [1,160 kB]\n",
            "Get:4 http://archive.ubuntu.com/ubuntu bionic/main amd64 default-libmysqlclient-dev amd64 1.0.4 [3,736 B]\n",
            "Get:5 http://archive.ubuntu.com/ubuntu bionic/main amd64 libfakeroot amd64 1.22-2ubuntu1 [25.9 kB]\n",
            "Get:6 http://archive.ubuntu.com/ubuntu bionic/main amd64 fakeroot amd64 1.22-2ubuntu1 [62.3 kB]\n",
            "Get:7 http://archive.ubuntu.com/ubuntu bionic/main amd64 libblas3 amd64 3.7.1-4ubuntu1 [140 kB]\n",
            "Get:8 http://archive.ubuntu.com/ubuntu bionic/main amd64 libblas-dev amd64 3.7.1-4ubuntu1 [143 kB]\n",
            "Get:9 http://archive.ubuntu.com/ubuntu bionic/universe amd64 libarpack2-dev amd64 3.5.0+real-2 [97.3 kB]\n",
            "Get:10 http://archive.ubuntu.com/ubuntu bionic/universe amd64 libsuperlu-dev amd64 5.2.1+dfsg1-3 [16.3 kB]\n",
            "Get:11 http://ppa.launchpad.net/ubuntugis/ubuntugis-unstable/ubuntu bionic/main amd64 libgeos-c1v5 amd64 3.7.1-1~bionic0 [64.4 kB]\n",
            "Get:12 http://archive.ubuntu.com/ubuntu bionic/universe amd64 libarmadillo-dev amd64 1:8.400.0+dfsg-2 [340 kB]\n",
            "Get:13 http://ppa.launchpad.net/ubuntugis/ubuntugis-unstable/ubuntu bionic/main amd64 libgeos-dev amd64 3.7.1-1~bionic0 [83.0 kB]\n",
            "Get:14 http://archive.ubuntu.com/ubuntu bionic/universe amd64 libcharls-dev amd64 1.1.0+dfsg-2 [20.4 kB]\n",
            "Get:15 http://archive.ubuntu.com/ubuntu bionic/universe amd64 libdapserver7v5 amd64 3.19.1-2build1 [22.2 kB]\n",
            "Get:16 http://archive.ubuntu.com/ubuntu bionic/universe amd64 libdap-dev amd64 3.19.1-2build1 [710 kB]\n",
            "Get:17 http://archive.ubuntu.com/ubuntu bionic/universe amd64 libepsilon-dev amd64 0.9.2+dfsg-2 [49.3 kB]\n",
            "Get:18 http://ppa.launchpad.net/ubuntugis/ubuntugis-unstable/ubuntu bionic/main amd64 libgeotiff2 amd64 1.4.2-2build1+bionic0 [73.7 kB]\n",
            "Get:19 http://archive.ubuntu.com/ubuntu bionic/universe amd64 libfreexl-dev amd64 1.0.5-1 [30.9 kB]\n",
            "Get:20 http://ppa.launchpad.net/ubuntugis/ubuntugis-unstable/ubuntu bionic/main amd64 libgeotiff-dev amd64 1.4.2-2build1+bionic0 [102 kB]\n",
            "Get:21 http://archive.ubuntu.com/ubuntu bionic/universe amd64 libfyba-dev amd64 4.1.1-3 [436 kB]\n",
            "Get:22 http://archive.ubuntu.com/ubuntu bionic-updates/main amd64 libgif-dev amd64 5.1.4-2ubuntu0.1 [20.6 kB]\n",
            "Get:23 http://ppa.launchpad.net/ubuntugis/ubuntugis-unstable/ubuntu bionic/main amd64 libogdi-dev amd64 4.1.0+ds-1~bionic0 [25.4 kB]\n",
            "Get:24 http://archive.ubuntu.com/ubuntu bionic/universe amd64 libnetcdf-dev amd64 1:4.6.0-2build1 [37.6 kB]\n",
            "Get:25 http://archive.ubuntu.com/ubuntu bionic/universe amd64 libhdf4-alt-dev amd64 4.2.13-2 [368 kB]\n",
            "Get:26 http://ppa.launchpad.net/ubuntugis/ubuntugis-unstable/ubuntu bionic/main amd64 libproj-dev amd64 5.2.0-1~bionic0 [258 kB]\n",
            "Get:27 http://archive.ubuntu.com/ubuntu bionic/main amd64 libjson-c-dev amd64 0.12.1-1.3 [31.7 kB]\n",
            "Get:28 http://archive.ubuntu.com/ubuntu bionic/universe amd64 libkmlconvenience1 amd64 1.3.0-5 [43.1 kB]\n",
            "Get:29 http://archive.ubuntu.com/ubuntu bionic/universe amd64 libkmlregionator1 amd64 1.3.0-5 [19.0 kB]\n",
            "Get:30 http://archive.ubuntu.com/ubuntu bionic/universe amd64 libkmlxsd1 amd64 1.3.0-5 [29.5 kB]\n",
            "Get:31 http://archive.ubuntu.com/ubuntu bionic/universe amd64 libminizip-dev amd64 1.1-8build1 [26.7 kB]\n",
            "Get:32 http://archive.ubuntu.com/ubuntu bionic/universe amd64 liburiparser-dev amd64 0.8.4-1 [10.0 kB]\n",
            "Get:33 http://archive.ubuntu.com/ubuntu bionic/universe amd64 libkml-dev amd64 1.3.0-5 [933 kB]\n",
            "Get:34 http://archive.ubuntu.com/ubuntu bionic-updates/universe amd64 libopenjp2-7-dev amd64 2.3.0-2build0.18.04.1 [26.6 kB]\n",
            "Get:35 http://archive.ubuntu.com/ubuntu bionic-updates/main amd64 libpoppler-dev amd64 0.62.0-2ubuntu2.10 [4,608 B]\n",
            "Get:36 http://archive.ubuntu.com/ubuntu bionic-updates/main amd64 libpoppler-private-dev amd64 0.62.0-2ubuntu2.10 [169 kB]\n",
            "Get:37 http://archive.ubuntu.com/ubuntu bionic-updates/main amd64 libpq-dev amd64 10.10-0ubuntu0.18.04.1 [218 kB]\n",
            "Get:38 http://archive.ubuntu.com/ubuntu bionic/universe amd64 libqhull-r7 amd64 2015.2-4 [149 kB]\n",
            "Get:39 http://archive.ubuntu.com/ubuntu bionic/universe amd64 libqhull-dev amd64 2015.2-4 [357 kB]\n",
            "Get:40 http://archive.ubuntu.com/ubuntu bionic-updates/main amd64 libsqlite3-dev amd64 3.22.0-1ubuntu0.1 [633 kB]\n",
            "Get:41 http://ppa.launchpad.net/ubuntugis/ubuntugis-unstable/ubuntu bionic/main amd64 libspatialite7 amd64 4.3.0a-5build1+bionic1 [1,252 kB]\n",
            "Get:42 http://archive.ubuntu.com/ubuntu bionic/main amd64 libwebp-dev amd64 0.6.1-2 [267 kB]\n",
            "Get:43 http://archive.ubuntu.com/ubuntu bionic/universe amd64 libxerces-c-dev amd64 3.2.0+debian-2 [1,627 kB]\n",
            "Get:44 http://archive.ubuntu.com/ubuntu bionic-updates/main amd64 libzstd-dev amd64 1.3.3+dfsg-2ubuntu1.1 [230 kB]\n",
            "Get:45 http://archive.ubuntu.com/ubuntu bionic/main amd64 unixodbc-dev amd64 2.3.4-1.1ubuntu3 [217 kB]\n",
            "Get:46 http://ppa.launchpad.net/ubuntugis/ubuntugis-unstable/ubuntu bionic/main amd64 libspatialite-dev amd64 4.3.0a-5build1+bionic1 [1,370 kB]\n",
            "Get:47 http://ppa.launchpad.net/ubuntugis/ubuntugis-unstable/ubuntu bionic/main amd64 libgdal-dev amd64 2.4.2+dfsg-1~bionic0 [7,493 kB]\n",
            "Get:48 http://ppa.launchpad.net/ubuntugis/ubuntugis-unstable/ubuntu bionic/main amd64 grass-dev amd64 7.8.0-1~bionic1 [210 kB]\n",
            "Fetched 20.3 MB in 6s (3,250 kB/s)\n",
            "Extracting templates from packages: 100%\n",
            "(Reading database ... 142340 files and directories currently installed.)\n",
            "Preparing to unpack .../libzstd1_1.3.3+dfsg-2ubuntu1.1_amd64.deb ...\n",
            "Unpacking libzstd1:amd64 (1.3.3+dfsg-2ubuntu1.1) over (1.3.3+dfsg-2ubuntu1) ...\n",
            "Setting up libzstd1:amd64 (1.3.3+dfsg-2ubuntu1.1) ...\n",
            "Selecting previously unselected package libmysqlclient-dev.\n",
            "(Reading database ... 142340 files and directories currently installed.)\n",
            "Preparing to unpack .../00-libmysqlclient-dev_5.7.27-0ubuntu0.18.04.1_amd64.deb ...\n",
            "Unpacking libmysqlclient-dev (5.7.27-0ubuntu0.18.04.1) ...\n",
            "Selecting previously unselected package default-libmysqlclient-dev:amd64.\n",
            "Preparing to unpack .../01-default-libmysqlclient-dev_1.0.4_amd64.deb ...\n",
            "Unpacking default-libmysqlclient-dev:amd64 (1.0.4) ...\n",
            "Selecting previously unselected package libfakeroot:amd64.\n",
            "Preparing to unpack .../02-libfakeroot_1.22-2ubuntu1_amd64.deb ...\n",
            "Unpacking libfakeroot:amd64 (1.22-2ubuntu1) ...\n",
            "Selecting previously unselected package fakeroot.\n",
            "Preparing to unpack .../03-fakeroot_1.22-2ubuntu1_amd64.deb ...\n",
            "Unpacking fakeroot (1.22-2ubuntu1) ...\n",
            "Selecting previously unselected package libblas3:amd64.\n",
            "Preparing to unpack .../04-libblas3_3.7.1-4ubuntu1_amd64.deb ...\n",
            "Unpacking libblas3:amd64 (3.7.1-4ubuntu1) ...\n",
            "Selecting previously unselected package libblas-dev:amd64.\n",
            "Preparing to unpack .../05-libblas-dev_3.7.1-4ubuntu1_amd64.deb ...\n",
            "Unpacking libblas-dev:amd64 (3.7.1-4ubuntu1) ...\n",
            "Selecting previously unselected package libarpack2-dev:amd64.\n",
            "Preparing to unpack .../06-libarpack2-dev_3.5.0+real-2_amd64.deb ...\n",
            "Unpacking libarpack2-dev:amd64 (3.5.0+real-2) ...\n",
            "Selecting previously unselected package libsuperlu-dev:amd64.\n",
            "Preparing to unpack .../07-libsuperlu-dev_5.2.1+dfsg1-3_amd64.deb ...\n",
            "Unpacking libsuperlu-dev:amd64 (5.2.1+dfsg1-3) ...\n",
            "Selecting previously unselected package libarmadillo-dev.\n",
            "Preparing to unpack .../08-libarmadillo-dev_1%3a8.400.0+dfsg-2_amd64.deb ...\n",
            "Unpacking libarmadillo-dev (1:8.400.0+dfsg-2) ...\n",
            "Selecting previously unselected package libcharls-dev:amd64.\n",
            "Preparing to unpack .../09-libcharls-dev_1.1.0+dfsg-2_amd64.deb ...\n",
            "Unpacking libcharls-dev:amd64 (1.1.0+dfsg-2) ...\n",
            "Selecting previously unselected package libdapserver7v5:amd64.\n",
            "Preparing to unpack .../10-libdapserver7v5_3.19.1-2build1_amd64.deb ...\n",
            "Unpacking libdapserver7v5:amd64 (3.19.1-2build1) ...\n",
            "Selecting previously unselected package libdap-dev:amd64.\n",
            "Preparing to unpack .../11-libdap-dev_3.19.1-2build1_amd64.deb ...\n",
            "Unpacking libdap-dev:amd64 (3.19.1-2build1) ...\n",
            "Selecting previously unselected package libepsilon-dev:amd64.\n",
            "Preparing to unpack .../12-libepsilon-dev_0.9.2+dfsg-2_amd64.deb ...\n",
            "Unpacking libepsilon-dev:amd64 (0.9.2+dfsg-2) ...\n",
            "Selecting previously unselected package libfreexl-dev:amd64.\n",
            "Preparing to unpack .../13-libfreexl-dev_1.0.5-1_amd64.deb ...\n",
            "Unpacking libfreexl-dev:amd64 (1.0.5-1) ...\n",
            "Selecting previously unselected package libfyba-dev:amd64.\n",
            "Preparing to unpack .../14-libfyba-dev_4.1.1-3_amd64.deb ...\n",
            "Unpacking libfyba-dev:amd64 (4.1.1-3) ...\n",
            "Selecting previously unselected package libgeos-3.7.1:amd64.\n",
            "Preparing to unpack .../15-libgeos-3.7.1_3.7.1-1~bionic0_amd64.deb ...\n",
            "Unpacking libgeos-3.7.1:amd64 (3.7.1-1~bionic0) ...\n",
            "Preparing to unpack .../16-libgeos-c1v5_3.7.1-1~bionic0_amd64.deb ...\n",
            "Unpacking libgeos-c1v5:amd64 (3.7.1-1~bionic0) over (3.6.2-1build2) ...\n",
            "Selecting previously unselected package libgeos-dev.\n",
            "Preparing to unpack .../17-libgeos-dev_3.7.1-1~bionic0_amd64.deb ...\n",
            "Unpacking libgeos-dev (3.7.1-1~bionic0) ...\n",
            "Preparing to unpack .../18-libgeotiff2_1.4.2-2build1+bionic0_amd64.deb ...\n",
            "Unpacking libgeotiff2:amd64 (1.4.2-2build1+bionic0) over (1.4.2-2build1) ...\n",
            "Selecting previously unselected package libgeotiff-dev:amd64.\n",
            "Preparing to unpack .../19-libgeotiff-dev_1.4.2-2build1+bionic0_amd64.deb ...\n",
            "Unpacking libgeotiff-dev:amd64 (1.4.2-2build1+bionic0) ...\n",
            "Selecting previously unselected package libgif-dev.\n",
            "Preparing to unpack .../20-libgif-dev_5.1.4-2ubuntu0.1_amd64.deb ...\n",
            "Unpacking libgif-dev (5.1.4-2ubuntu0.1) ...\n",
            "Selecting previously unselected package libnetcdf-dev.\n",
            "Preparing to unpack .../21-libnetcdf-dev_1%3a4.6.0-2build1_amd64.deb ...\n",
            "Unpacking libnetcdf-dev (1:4.6.0-2build1) ...\n",
            "Selecting previously unselected package libhdf4-alt-dev.\n",
            "Preparing to unpack .../22-libhdf4-alt-dev_4.2.13-2_amd64.deb ...\n",
            "Unpacking libhdf4-alt-dev (4.2.13-2) ...\n",
            "Selecting previously unselected package libjson-c-dev:amd64.\n",
            "Preparing to unpack .../23-libjson-c-dev_0.12.1-1.3_amd64.deb ...\n",
            "Unpacking libjson-c-dev:amd64 (0.12.1-1.3) ...\n",
            "Selecting previously unselected package libkmlconvenience1:amd64.\n",
            "Preparing to unpack .../24-libkmlconvenience1_1.3.0-5_amd64.deb ...\n",
            "Unpacking libkmlconvenience1:amd64 (1.3.0-5) ...\n",
            "Selecting previously unselected package libkmlregionator1:amd64.\n",
            "Preparing to unpack .../25-libkmlregionator1_1.3.0-5_amd64.deb ...\n",
            "Unpacking libkmlregionator1:amd64 (1.3.0-5) ...\n",
            "Selecting previously unselected package libkmlxsd1:amd64.\n",
            "Preparing to unpack .../26-libkmlxsd1_1.3.0-5_amd64.deb ...\n",
            "Unpacking libkmlxsd1:amd64 (1.3.0-5) ...\n",
            "Selecting previously unselected package libminizip-dev:amd64.\n",
            "Preparing to unpack .../27-libminizip-dev_1.1-8build1_amd64.deb ...\n",
            "Unpacking libminizip-dev:amd64 (1.1-8build1) ...\n",
            "Selecting previously unselected package liburiparser-dev.\n",
            "Preparing to unpack .../28-liburiparser-dev_0.8.4-1_amd64.deb ...\n",
            "Unpacking liburiparser-dev (0.8.4-1) ...\n",
            "Selecting previously unselected package libkml-dev:amd64.\n",
            "Preparing to unpack .../29-libkml-dev_1.3.0-5_amd64.deb ...\n",
            "Unpacking libkml-dev:amd64 (1.3.0-5) ...\n",
            "Selecting previously unselected package libogdi-dev.\n",
            "Preparing to unpack .../30-libogdi-dev_4.1.0+ds-1~bionic0_amd64.deb ...\n",
            "Unpacking libogdi-dev (4.1.0+ds-1~bionic0) ...\n",
            "Selecting previously unselected package libopenjp2-7-dev.\n",
            "Preparing to unpack .../31-libopenjp2-7-dev_2.3.0-2build0.18.04.1_amd64.deb ...\n",
            "Unpacking libopenjp2-7-dev (2.3.0-2build0.18.04.1) ...\n",
            "Selecting previously unselected package libpoppler-dev:amd64.\n",
            "Preparing to unpack .../32-libpoppler-dev_0.62.0-2ubuntu2.10_amd64.deb ...\n",
            "Unpacking libpoppler-dev:amd64 (0.62.0-2ubuntu2.10) ...\n",
            "Selecting previously unselected package libpoppler-private-dev:amd64.\n",
            "Preparing to unpack .../33-libpoppler-private-dev_0.62.0-2ubuntu2.10_amd64.deb ...\n",
            "Unpacking libpoppler-private-dev:amd64 (0.62.0-2ubuntu2.10) ...\n",
            "Selecting previously unselected package libpq-dev.\n",
            "Preparing to unpack .../34-libpq-dev_10.10-0ubuntu0.18.04.1_amd64.deb ...\n",
            "Unpacking libpq-dev (10.10-0ubuntu0.18.04.1) ...\n",
            "Selecting previously unselected package libproj-dev:amd64.\n",
            "Preparing to unpack .../35-libproj-dev_5.2.0-1~bionic0_amd64.deb ...\n",
            "Unpacking libproj-dev:amd64 (5.2.0-1~bionic0) ...\n",
            "Selecting previously unselected package libqhull-r7:amd64.\n",
            "Preparing to unpack .../36-libqhull-r7_2015.2-4_amd64.deb ...\n",
            "Unpacking libqhull-r7:amd64 (2015.2-4) ...\n",
            "Selecting previously unselected package libqhull-dev:amd64.\n",
            "Preparing to unpack .../37-libqhull-dev_2015.2-4_amd64.deb ...\n",
            "Unpacking libqhull-dev:amd64 (2015.2-4) ...\n",
            "Preparing to unpack .../38-libspatialite7_4.3.0a-5build1+bionic1_amd64.deb ...\n",
            "Unpacking libspatialite7:amd64 (4.3.0a-5build1+bionic1) over (4.3.0a-5build1) ...\n",
            "Selecting previously unselected package libsqlite3-dev:amd64.\n",
            "Preparing to unpack .../39-libsqlite3-dev_3.22.0-1ubuntu0.1_amd64.deb ...\n",
            "Unpacking libsqlite3-dev:amd64 (3.22.0-1ubuntu0.1) ...\n",
            "Selecting previously unselected package libspatialite-dev:amd64.\n",
            "Preparing to unpack .../40-libspatialite-dev_4.3.0a-5build1+bionic1_amd64.deb ...\n",
            "Unpacking libspatialite-dev:amd64 (4.3.0a-5build1+bionic1) ...\n",
            "Selecting previously unselected package libwebp-dev:amd64.\n",
            "Preparing to unpack .../41-libwebp-dev_0.6.1-2_amd64.deb ...\n",
            "Unpacking libwebp-dev:amd64 (0.6.1-2) ...\n",
            "Selecting previously unselected package libxerces-c-dev.\n",
            "Preparing to unpack .../42-libxerces-c-dev_3.2.0+debian-2_amd64.deb ...\n",
            "Unpacking libxerces-c-dev (3.2.0+debian-2) ...\n",
            "Selecting previously unselected package libzstd-dev:amd64.\n",
            "Preparing to unpack .../43-libzstd-dev_1.3.3+dfsg-2ubuntu1.1_amd64.deb ...\n",
            "Unpacking libzstd-dev:amd64 (1.3.3+dfsg-2ubuntu1.1) ...\n",
            "Selecting previously unselected package unixodbc-dev:amd64.\n",
            "Preparing to unpack .../44-unixodbc-dev_2.3.4-1.1ubuntu3_amd64.deb ...\n",
            "Unpacking unixodbc-dev:amd64 (2.3.4-1.1ubuntu3) ...\n",
            "Selecting previously unselected package libgdal-dev.\n",
            "Preparing to unpack .../45-libgdal-dev_2.4.2+dfsg-1~bionic0_amd64.deb ...\n",
            "Unpacking libgdal-dev (2.4.2+dfsg-1~bionic0) ...\n",
            "Selecting previously unselected package grass-dev.\n",
            "Preparing to unpack .../46-grass-dev_7.8.0-1~bionic1_amd64.deb ...\n",
            "Unpacking grass-dev (7.8.0-1~bionic1) ...\n",
            "Setting up libproj-dev:amd64 (5.2.0-1~bionic0) ...\n",
            "Setting up libxerces-c-dev (3.2.0+debian-2) ...\n",
            "Setting up unixodbc-dev:amd64 (2.3.4-1.1ubuntu3) ...\n",
            "Setting up libpq-dev (10.10-0ubuntu0.18.04.1) ...\n",
            "Setting up libpoppler-dev:amd64 (0.62.0-2ubuntu2.10) ...\n",
            "Setting up libogdi-dev (4.1.0+ds-1~bionic0) ...\n",
            "Setting up libmysqlclient-dev (5.7.27-0ubuntu0.18.04.1) ...\n",
            "Setting up libsqlite3-dev:amd64 (3.22.0-1ubuntu0.1) ...\n",
            "Setting up libgif-dev (5.1.4-2ubuntu0.1) ...\n",
            "Setting up libepsilon-dev:amd64 (0.9.2+dfsg-2) ...\n",
            "Setting up libopenjp2-7-dev (2.3.0-2build0.18.04.1) ...\n",
            "Setting up libminizip-dev:amd64 (1.1-8build1) ...\n",
            "Setting up libkmlconvenience1:amd64 (1.3.0-5) ...\n",
            "Setting up libwebp-dev:amd64 (0.6.1-2) ...\n",
            "Setting up libkmlxsd1:amd64 (1.3.0-5) ...\n",
            "Setting up libgeos-3.7.1:amd64 (3.7.1-1~bionic0) ...\n",
            "Setting up libblas3:amd64 (3.7.1-4ubuntu1) ...\n",
            "Processing triggers for libc-bin (2.27-3ubuntu1) ...\n",
            "Setting up libdapserver7v5:amd64 (3.19.1-2build1) ...\n",
            "Setting up libkmlregionator1:amd64 (1.3.0-5) ...\n",
            "Setting up libcharls-dev:amd64 (1.1.0+dfsg-2) ...\n",
            "Setting up libfakeroot:amd64 (1.22-2ubuntu1) ...\n",
            "Setting up libzstd-dev:amd64 (1.3.3+dfsg-2ubuntu1.1) ...\n",
            "Setting up libgeotiff2:amd64 (1.4.2-2build1+bionic0) ...\n",
            "Setting up libjson-c-dev:amd64 (0.12.1-1.3) ...\n",
            "Setting up libarpack2-dev:amd64 (3.5.0+real-2) ...\n",
            "Processing triggers for man-db (2.8.3-2ubuntu0.1) ...\n",
            "Setting up liburiparser-dev (0.8.4-1) ...\n",
            "Setting up default-libmysqlclient-dev:amd64 (1.0.4) ...\n",
            "Setting up libfyba-dev:amd64 (4.1.1-3) ...\n",
            "Setting up libnetcdf-dev (1:4.6.0-2build1) ...\n",
            "Setting up libqhull-r7:amd64 (2015.2-4) ...\n",
            "Setting up libfreexl-dev:amd64 (1.0.5-1) ...\n",
            "Setting up libgeotiff-dev:amd64 (1.4.2-2build1+bionic0) ...\n",
            "Setting up libpoppler-private-dev:amd64 (0.62.0-2ubuntu2.10) ...\n",
            "Setting up libdap-dev:amd64 (3.19.1-2build1) ...\n",
            "Setting up libblas-dev:amd64 (3.7.1-4ubuntu1) ...\n",
            "Setting up fakeroot (1.22-2ubuntu1) ...\n",
            "update-alternatives: using /usr/bin/fakeroot-sysv to provide /usr/bin/fakeroot (fakeroot) in auto mode\n",
            "Setting up libqhull-dev:amd64 (2015.2-4) ...\n",
            "Setting up libkml-dev:amd64 (1.3.0-5) ...\n",
            "Setting up libhdf4-alt-dev (4.2.13-2) ...\n",
            "Setting up libgeos-c1v5:amd64 (3.7.1-1~bionic0) ...\n",
            "Setting up libsuperlu-dev:amd64 (5.2.1+dfsg1-3) ...\n",
            "Setting up libspatialite7:amd64 (4.3.0a-5build1+bionic1) ...\n",
            "Setting up libspatialite-dev:amd64 (4.3.0a-5build1+bionic1) ...\n",
            "Setting up libarmadillo-dev (1:8.400.0+dfsg-2) ...\n",
            "Setting up libgeos-dev (3.7.1-1~bionic0) ...\n",
            "Setting up libgdal-dev (2.4.2+dfsg-1~bionic0) ...\n",
            "Setting up grass-dev (7.8.0-1~bionic1) ...\n",
            "Processing triggers for libc-bin (2.27-3ubuntu1) ...\n"
          ],
          "name": "stdout"
        }
      ]
    },
    {
      "cell_type": "markdown",
      "metadata": {
        "id": "AH5ubv8T595I",
        "colab_type": "text"
      },
      "source": [
        "Now you can install GRASS extensions"
      ]
    },
    {
      "cell_type": "code",
      "metadata": {
        "id": "n1N25a3Q3Khu",
        "colab_type": "code",
        "colab": {
          "base_uri": "https://localhost:8080/",
          "height": 34
        },
        "outputId": "02878f0d-1a92-4fde-bcca-5051dd2f0183"
      },
      "source": [
        "gs.parse_command(\"g.extension\", extension=\"r.stream.distance\")\n",
        "gs.parse_command(\"g.extension\", extension=\"r.lake.series\")\n"
      ],
      "execution_count": 25,
      "outputs": [
        {
          "output_type": "execute_result",
          "data": {
            "text/plain": [
              "{}"
            ]
          },
          "metadata": {
            "tags": []
          },
          "execution_count": 25
        }
      ]
    },
    {
      "cell_type": "markdown",
      "metadata": {
        "id": "KJkkJ-vg6kbo",
        "colab_type": "text"
      },
      "source": [
        "Now we use r.stream.distance without output parameter difference to compute new raster where each cell is the elevation difference between the cell and the the cell on the stream where the cell drains.\n",
        "\n",
        "> Credit: https://grasswiki.osgeo.org/wiki/From_GRASS_GIS_novice_to_power_user_(workshop_at_FOSS4G_Boston_2017)"
      ]
    },
    {
      "cell_type": "code",
      "metadata": {
        "id": "1STfFTRQ4x77",
        "colab_type": "code",
        "colab": {
          "base_uri": "https://localhost:8080/",
          "height": 34
        },
        "outputId": "6b9124c1-e4ea-4996-ab3e-7edac455ad81"
      },
      "source": [
        "gs.run_command('r.stream.distance', stream_rast=\"streams\", direction=\"drainage\", elevation=\"usgs_ned1\", method=\"downstream\", difference=\"above_stream\", overwrite=True)\n"
      ],
      "execution_count": 26,
      "outputs": [
        {
          "output_type": "execute_result",
          "data": {
            "text/plain": [
              "0"
            ]
          },
          "metadata": {
            "tags": []
          },
          "execution_count": 26
        }
      ]
    },
    {
      "cell_type": "markdown",
      "metadata": {
        "id": "4Wls6uOO6tcL",
        "colab_type": "text"
      },
      "source": [
        "Now instead of elevation raster we use the HAND raster to simulate 5-meter inundation and as the seed we specify the entire stream.\n",
        "\n",
        "> Credit: https://grasswiki.osgeo.org/wiki/From_GRASS_GIS_novice_to_power_user_(workshop_at_FOSS4G_Boston_2017)"
      ]
    },
    {
      "cell_type": "code",
      "metadata": {
        "id": "6fG3U9an6Rkt",
        "colab_type": "code",
        "colab": {
          "base_uri": "https://localhost:8080/",
          "height": 34
        },
        "outputId": "b1b4e211-7a40-4315-f0d8-1a7e801a8978"
      },
      "source": [
        "gs.run_command(\"r.lake\", elevation=\"above_stream\", water_level=5, lake=\"flood\", seed=\"streams\")\n"
      ],
      "execution_count": 27,
      "outputs": [
        {
          "output_type": "execute_result",
          "data": {
            "text/plain": [
              "0"
            ]
          },
          "metadata": {
            "tags": []
          },
          "execution_count": 27
        }
      ]
    },
    {
      "cell_type": "code",
      "metadata": {
        "id": "tWDA4UYY60T2",
        "colab_type": "code",
        "colab": {
          "base_uri": "https://localhost:8080/",
          "height": 497
        },
        "outputId": "ab386156-68e3-4309-9dd0-463fb17987fa"
      },
      "source": [
        "gs.run_command('d.erase')\n",
        "# gs.run_command('d.rast', map=\"usgs_ned\")\n",
        "# gs.run_command('d.rast', map=\"streams\")\n",
        "gs.run_command(\"d.rast\", map=\"flood\")\n",
        "gs.run_command('d.legend', raster=\"flood\")\n",
        "Image(filename=\"map.png\")"
      ],
      "execution_count": 28,
      "outputs": [
        {
          "output_type": "execute_result",
          "data": {
            "image/png": "[encoded data removed]",
            "text/plain": [
              "<IPython.core.display.Image object>"
            ]
          },
          "metadata": {
            "tags": []
          },
          "execution_count": 28
        }
      ]
    },
    {
      "cell_type": "code",
      "metadata": {
        "id": "ZYrgBj0u80M3",
        "colab_type": "code",
        "colab": {
          "base_uri": "https://localhost:8080/",
          "height": 497
        },
        "outputId": "3998ad0e-1135-4043-ff4f-cd5d64a3c998"
      },
      "source": [
        "gs.run_command('d.erase')\n",
        "# gs.run_command('d.rast', map=\"usgs_ned\")\n",
        "# gs.run_command('d.rast', map=\"streams\")\n",
        "gs.run_command(\"d.vect\", map=\"streams\")\n",
        "gs.run_command('d.legend', raster=\"streams\")\n",
        "Image(filename=\"map.png\")"
      ],
      "execution_count": 29,
      "outputs": [
        {
          "output_type": "execute_result",
          "data": {
            "image/png": "[encoded data removed]",
            "text/plain": [
              "<IPython.core.display.Image object>"
            ]
          },
          "metadata": {
            "tags": []
          },
          "execution_count": 29
        }
      ]
    },
    {
      "cell_type": "markdown",
      "metadata": {
        "id": "lJ8YcLt5TZde",
        "colab_type": "text"
      },
      "source": [
        "### Export flood results from GRASS\n"
      ]
    },
    {
      "cell_type": "markdown",
      "metadata": {
        "id": "txmdacTiUjGS",
        "colab_type": "text"
      },
      "source": [
        ""
      ]
    },
    {
      "cell_type": "code",
      "metadata": {
        "id": "XnxOuAfNTY1M",
        "colab_type": "code",
        "colab": {
          "base_uri": "https://localhost:8080/",
          "height": 34
        },
        "outputId": "982bb74f-d5e9-44e6-850a-010c851374f4"
      },
      "source": [
        "gs.run_command(\"r.out.gdal\", input=\"flood\", output=\"flood.tif\", format=\"GTiff\" )\n"
      ],
      "execution_count": 30,
      "outputs": [
        {
          "output_type": "execute_result",
          "data": {
            "text/plain": [
              "0"
            ]
          },
          "metadata": {
            "tags": []
          },
          "execution_count": 30
        }
      ]
    },
    {
      "cell_type": "code",
      "metadata": {
        "id": "NCrdGBlaF0EE",
        "colab_type": "code",
        "colab": {
          "base_uri": "https://localhost:8080/",
          "height": 510
        },
        "outputId": "d4e3116e-100d-4e90-e284-52d0cfbf33a1"
      },
      "source": [
        "print(gs.read_command(\"r.info\", map=\"flood\"))\n",
        "# gs.run_command(\"r.out.gdal\", help=True)"
      ],
      "execution_count": 31,
      "outputs": [
        {
          "output_type": "stream",
          "text": [
            " +----------------------------------------------------------------------------+\n",
            " | Map:      flood                          Date: Wed Oct 30 14:19:59 2019    |\n",
            " | Mapset:   PERMANENT                      Login of Creator: root            |\n",
            " | Location: google_earth_engine_3857                                         |\n",
            " | DataBase: /root/grassdata                                                  |\n",
            " | Title:                                                                     |\n",
            " | Timestamp: none                                                            |\n",
            " |----------------------------------------------------------------------------|\n",
            " |                                                                            |\n",
            " |   Type of Map:  raster               Number of Categories: 0               |\n",
            " |   Data Type:    FCELL                                                      |\n",
            " |   Rows:         2920                                                       |\n",
            " |   Columns:      2972                                                       |\n",
            " |   Total Cells:  8678240                                                    |\n",
            " |        Projection: WGS 84 / Pseudo-Mercator                                |\n",
            " |            N: 4579437.58495257    S: 4480997.01471053   Res: 33.71252406   |\n",
            " |            E: -13558710.00000027    W: -13658910.00000411   Res: 33.714670 |\n",
            " |   Range of data:    min = 5.722046e-06  max = 14.90232                     |\n",
            " |                                                                            |\n",
            " |   Data Description:                                                        |\n",
            " |    generated by r.lake                                                     |\n",
            " |                                                                            |\n",
            " |   Comments:                                                                |\n",
            " |    r.lake elevation=\"above_stream\" water_level=5 lake=\"flood\" seed=\"str\\   |\n",
            " |    eams\"                                                                   |\n",
            " |                                                                            |\n",
            " +----------------------------------------------------------------------------+\n",
            "\n",
            "\n"
          ],
          "name": "stdout"
        }
      ]
    },
    {
      "cell_type": "markdown",
      "metadata": {
        "id": "QQTtlLGeS3Fa",
        "colab_type": "text"
      },
      "source": [
        "## Upload the classified image to Earth Engine\n",
        "\n",
        "Upload the image to Earth Engine directly from the Cloud Storage bucket with the [`earthengine` command](https://developers.google.com/earth-engine/command_line#upload).  Provide both the image TFRecord file and the JSON file as arguments to `earthengine upload`."
      ]
    },
    {
      "cell_type": "code",
      "metadata": {
        "id": "6HG29rdGXku1",
        "colab_type": "code",
        "colab": {
          "base_uri": "https://localhost:8080/",
          "height": 68
        },
        "outputId": "fed8f8ed-caa9-480c-dd7d-c8b17eb7321d"
      },
      "source": [
        "!gsutil cp flood.tif gs://gee_default/\n",
        "\n",
        "# !GCS_BUCKET_NAME=\"gee_default\"\n",
        "# !gsutil cp gs://gee_default/grass_elev_demo_.tif /content/grass_elev_demo.tif"
      ],
      "execution_count": 32,
      "outputs": [
        {
          "output_type": "stream",
          "text": [
            "Copying file://flood.tif [Content-Type=image/tiff]...\n",
            "-\n",
            "Operation completed over 1 objects/33.1 MiB.                                     \n"
          ],
          "name": "stdout"
        }
      ]
    },
    {
      "cell_type": "code",
      "metadata": {
        "id": "H4e3g9XGR9uU",
        "colab_type": "code",
        "colab": {
          "base_uri": "https://localhost:8080/",
          "height": 782
        },
        "outputId": "30432e90-2b6e-4ba9-8592-2177c30a70f9"
      },
      "source": [
        "!gdalinfo flood.tif"
      ],
      "execution_count": 33,
      "outputs": [
        {
          "output_type": "stream",
          "text": [
            "Driver: GTiff/GeoTIFF\n",
            "Files: flood.tif\n",
            "Size is 2972, 2920\n",
            "Coordinate System is:\n",
            "PROJCS[\"WGS 84 / Pseudo-Mercator\",\n",
            "    GEOGCS[\"WGS 84\",\n",
            "        DATUM[\"WGS_1984\",\n",
            "            SPHEROID[\"WGS 84\",6378137,298.257223563,\n",
            "                AUTHORITY[\"EPSG\",\"7030\"]],\n",
            "            AUTHORITY[\"EPSG\",\"6326\"]],\n",
            "        PRIMEM[\"Greenwich\",0,\n",
            "            AUTHORITY[\"EPSG\",\"8901\"]],\n",
            "        UNIT[\"degree\",0.0174532925199433,\n",
            "            AUTHORITY[\"EPSG\",\"9122\"]],\n",
            "        AUTHORITY[\"EPSG\",\"4326\"]],\n",
            "    PROJECTION[\"Mercator_1SP\"],\n",
            "    PARAMETER[\"central_meridian\",0],\n",
            "    PARAMETER[\"scale_factor\",1],\n",
            "    PARAMETER[\"false_easting\",0],\n",
            "    PARAMETER[\"false_northing\",0],\n",
            "    UNIT[\"metre\",1,\n",
            "        AUTHORITY[\"EPSG\",\"9001\"]],\n",
            "    AXIS[\"X\",EAST],\n",
            "    AXIS[\"Y\",NORTH],\n",
            "    EXTENSION[\"PROJ4\",\"+proj=merc +a=6378137 +b=6378137 +lat_ts=0.0 +lon_0=0.0 +x_0=0.0 +y_0=0 +k=1.0 +units=m +nadgrids=@null +wktext +no_defs\"],\n",
            "    AUTHORITY[\"EPSG\",\"3857\"]]\n",
            "Origin = (-13658910.000004110857844,4579437.584952569566667)\n",
            "Pixel Size = (33.714670257012372,-33.712524055493105)\n",
            "Metadata:\n",
            "  AREA_OR_POINT=Area\n",
            "  TIFFTAG_SOFTWARE=GRASS GIS 7.8.0 with GDAL 2.4.2\n",
            "Image Structure Metadata:\n",
            "  INTERLEAVE=BAND\n",
            "Corner Coordinates:\n",
            "Upper Left  (-13658910.000, 4579437.585) (122d42' 0.27\"W, 38d 0' 0.30\"N)\n",
            "Lower Left  (-13658910.000, 4480997.015) (122d42' 0.27\"W, 37d17'59.77\"N)\n",
            "Upper Right (-13558710.000, 4579437.585) (121d47'59.87\"W, 38d 0' 0.30\"N)\n",
            "Lower Right (-13558710.000, 4480997.015) (121d47'59.87\"W, 37d17'59.77\"N)\n",
            "Center      (-13608810.000, 4530217.300) (122d15' 0.07\"W, 37d39' 3.01\"N)\n",
            "Band 1 Block=2972x1 Type=Float32, ColorInterp=Gray\n",
            "  Description = flood\n",
            "  NoData Value=nan\n",
            "  Metadata:\n",
            "    COLOR_TABLE_RULES_COUNT=1\n",
            "    COLOR_TABLE_RULE_RGB_0=0.000000e+00 1.490232e+01 0 240 255 0 50 170\n"
          ],
          "name": "stdout"
        }
      ]
    },
    {
      "cell_type": "code",
      "metadata": {
        "id": "VS5Av7YZSmxz",
        "colab_type": "code",
        "colab": {
          "base_uri": "https://localhost:8080/",
          "height": 493
        },
        "outputId": "a5d39283-508e-448d-af6f-8f0533ecc5ac"
      },
      "source": [
        "!gdalinfo grass_elev_demo.tif"
      ],
      "execution_count": 34,
      "outputs": [
        {
          "output_type": "stream",
          "text": [
            "Driver: GTiff/GeoTIFF\n",
            "Files: grass_elev_demo.tif\n",
            "Size is 3340, 2598\n",
            "Coordinate System is:\n",
            "GEOGCS[\"NAD83\",\n",
            "    DATUM[\"North_American_Datum_1983\",\n",
            "        SPHEROID[\"GRS 1980\",6378137,298.2572221010042,\n",
            "            AUTHORITY[\"EPSG\",\"7019\"]],\n",
            "        TOWGS84[0,0,0,0,0,0,0],\n",
            "        AUTHORITY[\"EPSG\",\"6269\"]],\n",
            "    PRIMEM[\"Greenwich\",0],\n",
            "    UNIT[\"degree\",0.0174532925199433],\n",
            "    AUTHORITY[\"EPSG\",\"4269\"]]\n",
            "Origin = (-122.700076174129748,38.000083991181938)\n",
            "Pixel Size = (0.000269494585236,-0.000269494585236)\n",
            "Metadata:\n",
            "  AREA_OR_POINT=Area\n",
            "Image Structure Metadata:\n",
            "  COMPRESSION=LZW\n",
            "  INTERLEAVE=BAND\n",
            "Corner Coordinates:\n",
            "Upper Left  (-122.7000762,  38.0000840) (122d42' 0.27\"W, 38d 0' 0.30\"N)\n",
            "Lower Left  (-122.7000762,  37.2999371) (122d42' 0.27\"W, 37d17'59.77\"N)\n",
            "Upper Right (-121.7999643,  38.0000840) (121d47'59.87\"W, 38d 0' 0.30\"N)\n",
            "Lower Right (-121.7999643,  37.2999371) (121d47'59.87\"W, 37d17'59.77\"N)\n",
            "Center      (-122.2500202,  37.6500105) (122d15' 0.07\"W, 37d39' 0.04\"N)\n",
            "Band 1 Block=256x256 Type=Float32, ColorInterp=Gray\n",
            "  Description = elevation\n"
          ],
          "name": "stdout"
        }
      ]
    },
    {
      "cell_type": "code",
      "metadata": {
        "id": "gZPt890bSLyy",
        "colab_type": "code",
        "colab": {
          "base_uri": "https://localhost:8080/",
          "height": 34
        },
        "outputId": "942560aa-8cf3-412a-b2c6-65ccd8ba641e"
      },
      "source": [
        "# REPLACE WITH YOUR USERNAME:\n",
        "USER_NAME = 'ctwhite'\n",
        "outputAssetID = 'users/' + USER_NAME + '/grassdata'\n",
        "print('Writing to ' + outputAssetID)"
      ],
      "execution_count": 35,
      "outputs": [
        {
          "output_type": "stream",
          "text": [
            "Writing to users/ctwhite/grassdata\n"
          ],
          "name": "stdout"
        }
      ]
    },
    {
      "cell_type": "code",
      "metadata": {
        "id": "3UYzSdcTS8cp",
        "colab_type": "code",
        "colab": {
          "base_uri": "https://localhost:8080/",
          "height": 1000
        },
        "outputId": "bb8d985d-f9be-415e-de86-ce02775e2320"
      },
      "source": [
        "# Start the upload.\n",
        "!earthengine upload image -f --crs=3857 --nodata_value=255 --asset_id=users/ctwhite/grassdata/flood gs://gee_default/flood.tif\n"
      ],
      "execution_count": 36,
      "outputs": [
        {
          "output_type": "stream",
          "text": [
            "Running command using Cloud API.  Set --no-use_cloud_api to go back to using the API\n",
            "\n",
            "W1030 14:20:10.318672 140051437295488 __init__.py:44] file_cache is unavailable when using oauth2client >= 4.0.0 or google-auth\n",
            "Traceback (most recent call last):\n",
            "  File \"/usr/local/lib/python3.6/dist-packages/googleapiclient/discovery_cache/__init__.py\", line 36, in autodetect\n",
            "    from google.appengine.api import memcache\n",
            "ModuleNotFoundError: No module named 'google.appengine'\n",
            "\n",
            "During handling of the above exception, another exception occurred:\n",
            "\n",
            "Traceback (most recent call last):\n",
            "  File \"/usr/local/lib/python3.6/dist-packages/googleapiclient/discovery_cache/file_cache.py\", line 33, in <module>\n",
            "    from oauth2client.contrib.locked_file import LockedFile\n",
            "ModuleNotFoundError: No module named 'oauth2client.contrib.locked_file'\n",
            "\n",
            "During handling of the above exception, another exception occurred:\n",
            "\n",
            "Traceback (most recent call last):\n",
            "  File \"/usr/local/lib/python3.6/dist-packages/googleapiclient/discovery_cache/file_cache.py\", line 37, in <module>\n",
            "    from oauth2client.locked_file import LockedFile\n",
            "ModuleNotFoundError: No module named 'oauth2client.locked_file'\n",
            "\n",
            "During handling of the above exception, another exception occurred:\n",
            "\n",
            "Traceback (most recent call last):\n",
            "  File \"/usr/local/lib/python3.6/dist-packages/googleapiclient/discovery_cache/__init__.py\", line 41, in autodetect\n",
            "    from . import file_cache\n",
            "  File \"/usr/local/lib/python3.6/dist-packages/googleapiclient/discovery_cache/file_cache.py\", line 41, in <module>\n",
            "    'file_cache is unavailable when using oauth2client >= 4.0.0 or google-auth')\n",
            "ImportError: file_cache is unavailable when using oauth2client >= 4.0.0 or google-auth\n",
            "I1030 14:20:10.319637 140051437295488 discovery.py:271] URL being requested: GET https://earthengine.googleapis.com/$discovery/rest?version=v1alpha&prettyPrint=false\n",
            "W1030 14:20:11.262630 140051437295488 __init__.py:44] file_cache is unavailable when using oauth2client >= 4.0.0 or google-auth\n",
            "Traceback (most recent call last):\n",
            "  File \"/usr/local/lib/python3.6/dist-packages/googleapiclient/discovery_cache/__init__.py\", line 36, in autodetect\n",
            "    from google.appengine.api import memcache\n",
            "ModuleNotFoundError: No module named 'google.appengine'\n",
            "\n",
            "During handling of the above exception, another exception occurred:\n",
            "\n",
            "Traceback (most recent call last):\n",
            "  File \"/usr/local/lib/python3.6/dist-packages/googleapiclient/discovery_cache/file_cache.py\", line 33, in <module>\n",
            "    from oauth2client.contrib.locked_file import LockedFile\n",
            "ModuleNotFoundError: No module named 'oauth2client.contrib.locked_file'\n",
            "\n",
            "During handling of the above exception, another exception occurred:\n",
            "\n",
            "Traceback (most recent call last):\n",
            "  File \"/usr/local/lib/python3.6/dist-packages/googleapiclient/discovery_cache/file_cache.py\", line 37, in <module>\n",
            "    from oauth2client.locked_file import LockedFile\n",
            "ModuleNotFoundError: No module named 'oauth2client.locked_file'\n",
            "\n",
            "During handling of the above exception, another exception occurred:\n",
            "\n",
            "Traceback (most recent call last):\n",
            "  File \"/usr/local/lib/python3.6/dist-packages/googleapiclient/discovery_cache/__init__.py\", line 41, in autodetect\n",
            "    from . import file_cache\n",
            "  File \"/usr/local/lib/python3.6/dist-packages/googleapiclient/discovery_cache/file_cache.py\", line 41, in <module>\n",
            "    'file_cache is unavailable when using oauth2client >= 4.0.0 or google-auth')\n",
            "ImportError: file_cache is unavailable when using oauth2client >= 4.0.0 or google-auth\n",
            "I1030 14:20:11.263085 140051437295488 discovery.py:271] URL being requested: GET https://earthengine.googleapis.com/$discovery/rest?version=v1alpha&prettyPrint=false\n",
            "I1030 14:20:12.067435 140051437295488 discovery.py:867] URL being requested: GET https://earthengine.googleapis.com/v1alpha/projects/earthengine-legacy/algorithms?prettyPrint=false&alt=json\n",
            "I1030 14:20:12.715617 140051437295488 discovery.py:867] URL being requested: POST https://earthengine.googleapis.com/v1alpha/projects/earthengine-legacy/image:import?alt=json\n",
            "Started upload task with ID: HCG2GHS2WM3TBACQGU2XMRXW\n"
          ],
          "name": "stdout"
        }
      ]
    },
    {
      "cell_type": "code",
      "metadata": {
        "id": "5DK4bl_rgap7",
        "colab_type": "code",
        "colab": {}
      },
      "source": [
        ""
      ],
      "execution_count": 0,
      "outputs": []
    },
    {
      "cell_type": "markdown",
      "metadata": {
        "id": "X6BZCqBsTIPp",
        "colab_type": "text"
      },
      "source": [
        "### Create webmap using folium to display data frome Google earth Engine"
      ]
    },
    {
      "cell_type": "code",
      "metadata": {
        "id": "H8bT-JwjBi6m",
        "colab_type": "code",
        "colab": {
          "base_uri": "https://localhost:8080/",
          "height": 889
        },
        "outputId": "f308e8ff-110c-4004-8e89-9a14e8720f72"
      },
      "source": [
        "# Import libraries.\n",
        "import ee\n",
        "import folium\n",
        "\n",
        "# Initialize the Earth Engine library.\n",
        "ee.Initialize()\n",
        "\n",
        "# Define a method for displaying Earth Engine image tiles to folium map.\n",
        "def add_ee_layer(self, eeImageObject, visParams, name):\n",
        "  mapID = ee.Image(eeImageObject).getMapId(visParams)\n",
        "  folium.raster_layers.TileLayer(\n",
        "    tiles = \"https://earthengine.googleapis.com/map/\"+mapID['mapid']+\n",
        "      \"/{z}/{x}/{y}?token=\"+mapID['token'],\n",
        "    attr = \"Map Data © Google Earth Engine\",\n",
        "    name = name,\n",
        "    overlay = True,\n",
        "    control = True\n",
        "  ).add_to(self)\n",
        "\n",
        "# Add EE drawing method to folium.\n",
        "folium.Map.add_ee_layer = add_ee_layer\n",
        "\n",
        "# Fetch an elevation model.\n",
        "dem = ee.Image('users/ctwhite/grassdata/flood')\n",
        "\n",
        "# Set visualization parameters.\n",
        "visParams = {\n",
        "    'min':0,\n",
        "    'max':15,\n",
        "    'opacity': 0.5,\n",
        "    'palette':['032F64','7AD6F4','45BDEE','28A7EA', '006CBB', '034698','ffffff']\n",
        "    }\n",
        "\n",
        "# Create a folium map object.\n",
        "myMap = folium.Map(location=[38., -122.5], zoom_start=9, height=500)\n",
        "\n",
        "# Add the elevation model to the map object.\n",
        "myMap.add_ee_layer(dem, visParams, 'Flood')\n",
        "\n",
        "# Add a layer control panel to the map.\n",
        "myMap.add_child(folium.LayerControl())\n",
        "\n",
        "# Display the map.\n",
        "display(myMap)"
      ],
      "execution_count": 37,
      "outputs": [
        {
          "output_type": "display_data",
          "data": {
            "text/html": [
              "<div style=\"width:100%;\"><div style=\"position:relative;width:100%;height:0;padding-bottom:60%;\"><iframe src=\"data:text/html;charset=utf-8;base64,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\" style=\"position:absolute;width:100%;height:100%;left:0;top:0;border:none !important;\" allowfullscreen webkitallowfullscreen mozallowfullscreen></iframe></div></div>"
            ],
            "text/plain": [
              "<folium.folium.Map at 0x7f3bdca86240>"
            ]
          },
          "metadata": {
            "tags": []
          }
        }
      ]
    }
  ]
}